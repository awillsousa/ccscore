{
 "cells": [
  {
   "cell_type": "markdown",
   "metadata": {},
   "source": [
    "### Experimento 1.1"
   ]
  },
  {
   "cell_type": "markdown",
   "metadata": {},
   "source": [
    "#### Descrição do experimento\n",
    "\n",
    "Neste primeiro experimento o CCScore será executado sobre o conjunto de redações e faremos uma avaliação direta do valor obtido, com os valores da Competência 4 do conjunto de redações. \n",
    "\n",
    "Deseja-se avaliar se o cálculo do índice de coesão utilizado em Nobre (2011) pode ser suficiente para determinar o valor da coesão das redações. Para isso faremos uma comparação direta dos valores e as diferenças absolutas entre os valores obtidos serão considerados."
   ]
  },
  {
   "cell_type": "markdown",
   "metadata": {},
   "source": [
    "### Dados do conjunto de redações utilizados\n",
    "\n",
    "O dataset de redações foi obtido a partir dos arquivos de redações do projeto BrasilEscola. \n",
    "\n",
    "As competência de maneira resumida, avaliam os seguintes aspectos da redação:\n",
    "<pre>\n",
    "Ortografia        ==  Competência 1\n",
    "Adequação ao tema ==  Competência 2\n",
    "Coerência         ==  Competência 3\n",
    "Coesão            ==  Competência 4\n",
    "Ética             ==  Competência 5\n",
    "</pre>\n",
    "\n",
    "O que é esperado de cada competência:\n",
    "<ul>\n",
    "<li><strong>Competência 1</strong>: Demonstrar domínio da norma culta da língua escrita.</li>   \n",
    "<li><strong>Competência 2</strong>: Compreender a proposta da redação e aplicar conceito das várias áreas de conhecimento para desenvolver o tema, dentro dos limites estruturais do texto dissertativo-argumentativo.</li>\n",
    "<li><strong>Competência 3</strong>: Selecionar, relacionar, organizar e interpretar informações, fatos, opiniões e argumentos em defesa de um ponto de vista.</li>\n",
    "<li><strong>Competência 4</strong>: Demonstrar conhecimento dos mecanismos linguísticos necessários para a construção da argumentação.</li>\n",
    "<li><strong>Competência 5</strong>: Elaborar a proposta de solução para o problema abordado, mostrando respeito aos valores humanos e considerando a diversidade sociocultural.</li>\n",
    "</ul>"
   ]
  },
  {
   "cell_type": "code",
   "execution_count": 10,
   "metadata": {},
   "outputs": [],
   "source": [
    "import sys\n",
    "sys.path.append('../ccscore/')\n",
    "\n",
    "import spacy\n",
    "import pandas as pd\n",
    "import pickle\n",
    "import matplotlib\n",
    "from infernal import feature_extraction as fe\n",
    "from infernal import datastructures as ds\n",
    "import confapp as config\n",
    "config.TEP2_PATH = \"../ccscore/data/tep2.pickle\"\n",
    "\n",
    "import helper_palavras as h_pal \n",
    "from text_document import TextDocument"
   ]
  },
  {
   "cell_type": "markdown",
   "metadata": {},
   "source": [
    "### Carga do conjunto de dados da redações"
   ]
  },
  {
   "cell_type": "markdown",
   "metadata": {},
   "source": [
    "As colunas contém:\n",
    "\n",
    "<ol>\n",
    "    <li>Texto: Texto original da redação. </li>\n",
    "    <li>Nota: Nota total da redação (0-1000), considerando as 5 competências. </li>\n",
    "    <li>Competência 1: Nota da Competência 1 (0-200)</li>\n",
    "    <li>Competência 2: Nota da Competência 2 (0-200)</li>\n",
    "    <li>Competência 3: Nota da Competência 3 (0-200)</li>\n",
    "    <li>Competência 4: Nota da Competência 4 (0-200)</li>\n",
    "    <li>Competência 5: Nota da Competência 5 (0-200)</li>\n",
    "    <li>Qtd palavras:  Quantidade de palavras do texto</li>\n",
    "    <li>Cadeias: Cadeias de Correferência obtidas com o CORP</li>\n",
    "    <li>Palavras: Anotações sintáticas e semânticas do parser PALAVRAS</li>\n",
    "    <li>Erros: Erros gramaticais encontrados pelo corretor CoGroo</li>\n",
    "    <li>Entidades: Entidades detectadas pelo processo de vinculação de entidades</li>\n",
    "    <li>Coesão Calculada: Valor da coesão calculada pelo CCScore</li>\n",
    "<ol>"
   ]
  },
  {
   "cell_type": "code",
   "execution_count": 11,
   "metadata": {},
   "outputs": [],
   "source": [
    "PATH_CORPUS = \"../ccscore/data/Corpus_Redacoes.pickle\"\n",
    "\n",
    "# Carrega a base de redações\n",
    "df_redacao = pickle.load(open(PATH_CORPUS, 'rb'))\n"
   ]
  },
  {
   "cell_type": "code",
   "execution_count": 12,
   "metadata": {},
   "outputs": [],
   "source": [
    "def exibe_redacao(num_redacao, show_text=True):    \n",
    "    texto = df_redacao['Texto'][num_redacao]\n",
    "    anot_pal = df_redacao['Palavras'][num_redacao]\n",
    "    nota_compt4 = df_redacao['Competência 4'][num_redacao]\n",
    "    coesao_calculada = df_redacao['Coesão Calculada'][num_redacao]\n",
    "    coesao_calculada1_1 = df_redacao['Coesão Calculada 1_1'][num_redacao]\n",
    "\n",
    "    print(f\"Num.: {num_redacao}\\nCompetência 4: {nota_compt4} - Coesão Calculada: {coesao_calculada} - Coesão Calculada 1.1: {coesao_calculada1_1}\\n\")\n",
    "    if show_text:\n",
    "        print(texto)\n"
   ]
  },
  {
   "cell_type": "markdown",
   "metadata": {},
   "source": [
    "O resultado a seguir mostra que o avaliador automático não atribuiu nota zero para nenhuma das redações. Diferentemento do avaliador que em algumas situações atribuiu esse valor. "
   ]
  },
  {
   "cell_type": "code",
   "execution_count": 13,
   "metadata": {},
   "outputs": [
    {
     "name": "stdout",
     "output_type": "stream",
     "text": [
      "======== Experimento 1 ========\n",
      "Notas 0.0 atribuídas pelo corretor automático: 0\n",
      "Notas 0.0 atribuídas pelo corretor humano: 47\n"
     ]
    }
   ],
   "source": [
    "print(\"======== Experimento 1 ========\")\n",
    "print(f\"Notas 0.0 atribuídas pelo corretor automático: {len(df_redacao[df_redacao['Coesão Calculada'] == 0.0])}\")\n",
    "print(f\"Notas 0.0 atribuídas pelo corretor humano: {len(df_redacao[df_redacao['Competência 4'] == 0.0])}\")"
   ]
  },
  {
   "cell_type": "code",
   "execution_count": 14,
   "metadata": {},
   "outputs": [],
   "source": [
    "resultados_exp_1_1 = pickle.load(open('../ccscore/data/resultados_exp_1_1.pickle', 'rb'))"
   ]
  },
  {
   "cell_type": "code",
   "execution_count": 15,
   "metadata": {},
   "outputs": [],
   "source": [
    "df_redacao['Coesão Calculada 1_1'] = resultados_exp_1_1['valores_coesao'].values()"
   ]
  },
  {
   "cell_type": "code",
   "execution_count": 16,
   "metadata": {},
   "outputs": [
    {
     "data": {
      "text/plain": [
       "0       150.00\n",
       "1       100.00\n",
       "2       150.00\n",
       "3       100.00\n",
       "4       100.00\n",
       "         ...  \n",
       "2595    115.71\n",
       "2596     76.21\n",
       "2597     87.80\n",
       "2598     84.62\n",
       "2599     90.71\n",
       "Name: Coesão Calculada 1_1, Length: 2600, dtype: float64"
      ]
     },
     "execution_count": 16,
     "metadata": {},
     "output_type": "execute_result"
    }
   ],
   "source": [
    "df_redacao['Coesão Calculada 1_1']"
   ]
  },
  {
   "cell_type": "code",
   "execution_count": 17,
   "metadata": {},
   "outputs": [
    {
     "name": "stdout",
     "output_type": "stream",
     "text": [
      "======== Experimento 1.1 ========\n",
      "Notas 0.0 atribuídas pelo corretor automático: 0\n",
      "Notas 0.0 atribuídas pelo corretor humano: 47\n"
     ]
    }
   ],
   "source": [
    "print(\"======== Experimento 1.1 ========\")\n",
    "print(f\"Notas 0.0 atribuídas pelo corretor automático: {len(df_redacao[df_redacao['Coesão Calculada 1_1'] == 0.0])}\")\n",
    "print(f\"Notas 0.0 atribuídas pelo corretor humano: {len(df_redacao[df_redacao['Competência 4'] == 0.0])}\")"
   ]
  },
  {
   "cell_type": "markdown",
   "metadata": {},
   "source": [
    "A seguir calcula-se a diferença entre o valor da coesão calculada pelo CCScore e a nota dada peloa avaliador humano, bem como o valor da diferença absoluta. "
   ]
  },
  {
   "cell_type": "code",
   "execution_count": 18,
   "metadata": {},
   "outputs": [],
   "source": [
    "df_redacao['diferenca'] = df_redacao['Competência 4'] - df_redacao['Coesão Calculada']\n",
    "df_redacao['diferenca_abs'] = abs(df_redacao['diferenca'])\n",
    "\n",
    "df_redacao['diferenca 1_1'] = df_redacao['Competência 4'] - df_redacao['Coesão Calculada 1_1']\n",
    "df_redacao['diferenca_abs 1_1'] = abs(df_redacao['diferenca 1_1'])"
   ]
  },
  {
   "cell_type": "code",
   "execution_count": 19,
   "metadata": {},
   "outputs": [
    {
     "data": {
      "text/html": [
       "<div>\n",
       "<style scoped>\n",
       "    .dataframe tbody tr th:only-of-type {\n",
       "        vertical-align: middle;\n",
       "    }\n",
       "\n",
       "    .dataframe tbody tr th {\n",
       "        vertical-align: top;\n",
       "    }\n",
       "\n",
       "    .dataframe thead th {\n",
       "        text-align: right;\n",
       "    }\n",
       "</style>\n",
       "<table border=\"1\" class=\"dataframe\">\n",
       "  <thead>\n",
       "    <tr style=\"text-align: right;\">\n",
       "      <th></th>\n",
       "      <th>Competência 4</th>\n",
       "      <th>Coesão Calculada</th>\n",
       "      <th>diferenca</th>\n",
       "      <th>diferenca_abs</th>\n",
       "      <th>Coesão Calculada 1_1</th>\n",
       "      <th>diferenca 1_1</th>\n",
       "      <th>diferenca_abs 1_1</th>\n",
       "    </tr>\n",
       "  </thead>\n",
       "  <tbody>\n",
       "    <tr>\n",
       "      <th>0</th>\n",
       "      <td>150.0</td>\n",
       "      <td>150.00</td>\n",
       "      <td>0.00</td>\n",
       "      <td>0.00</td>\n",
       "      <td>150.00</td>\n",
       "      <td>0.00</td>\n",
       "      <td>0.00</td>\n",
       "    </tr>\n",
       "    <tr>\n",
       "      <th>1</th>\n",
       "      <td>100.0</td>\n",
       "      <td>100.00</td>\n",
       "      <td>0.00</td>\n",
       "      <td>0.00</td>\n",
       "      <td>100.00</td>\n",
       "      <td>0.00</td>\n",
       "      <td>0.00</td>\n",
       "    </tr>\n",
       "    <tr>\n",
       "      <th>2</th>\n",
       "      <td>150.0</td>\n",
       "      <td>150.00</td>\n",
       "      <td>0.00</td>\n",
       "      <td>0.00</td>\n",
       "      <td>150.00</td>\n",
       "      <td>0.00</td>\n",
       "      <td>0.00</td>\n",
       "    </tr>\n",
       "    <tr>\n",
       "      <th>3</th>\n",
       "      <td>100.0</td>\n",
       "      <td>100.00</td>\n",
       "      <td>0.00</td>\n",
       "      <td>0.00</td>\n",
       "      <td>100.00</td>\n",
       "      <td>0.00</td>\n",
       "      <td>0.00</td>\n",
       "    </tr>\n",
       "    <tr>\n",
       "      <th>4</th>\n",
       "      <td>100.0</td>\n",
       "      <td>100.00</td>\n",
       "      <td>0.00</td>\n",
       "      <td>0.00</td>\n",
       "      <td>100.00</td>\n",
       "      <td>0.00</td>\n",
       "      <td>0.00</td>\n",
       "    </tr>\n",
       "    <tr>\n",
       "      <th>...</th>\n",
       "      <td>...</td>\n",
       "      <td>...</td>\n",
       "      <td>...</td>\n",
       "      <td>...</td>\n",
       "      <td>...</td>\n",
       "      <td>...</td>\n",
       "      <td>...</td>\n",
       "    </tr>\n",
       "    <tr>\n",
       "      <th>2595</th>\n",
       "      <td>150.0</td>\n",
       "      <td>70.71</td>\n",
       "      <td>79.29</td>\n",
       "      <td>79.29</td>\n",
       "      <td>115.71</td>\n",
       "      <td>34.29</td>\n",
       "      <td>34.29</td>\n",
       "    </tr>\n",
       "    <tr>\n",
       "      <th>2596</th>\n",
       "      <td>150.0</td>\n",
       "      <td>70.61</td>\n",
       "      <td>79.39</td>\n",
       "      <td>79.39</td>\n",
       "      <td>76.21</td>\n",
       "      <td>73.79</td>\n",
       "      <td>73.79</td>\n",
       "    </tr>\n",
       "    <tr>\n",
       "      <th>2597</th>\n",
       "      <td>150.0</td>\n",
       "      <td>70.54</td>\n",
       "      <td>79.46</td>\n",
       "      <td>79.46</td>\n",
       "      <td>87.80</td>\n",
       "      <td>62.20</td>\n",
       "      <td>62.20</td>\n",
       "    </tr>\n",
       "    <tr>\n",
       "      <th>2598</th>\n",
       "      <td>150.0</td>\n",
       "      <td>70.51</td>\n",
       "      <td>79.49</td>\n",
       "      <td>79.49</td>\n",
       "      <td>84.62</td>\n",
       "      <td>65.38</td>\n",
       "      <td>65.38</td>\n",
       "    </tr>\n",
       "    <tr>\n",
       "      <th>2599</th>\n",
       "      <td>150.0</td>\n",
       "      <td>70.51</td>\n",
       "      <td>79.49</td>\n",
       "      <td>79.49</td>\n",
       "      <td>90.71</td>\n",
       "      <td>59.29</td>\n",
       "      <td>59.29</td>\n",
       "    </tr>\n",
       "  </tbody>\n",
       "</table>\n",
       "<p>2600 rows × 7 columns</p>\n",
       "</div>"
      ],
      "text/plain": [
       "      Competência 4  Coesão Calculada  diferenca  diferenca_abs  \\\n",
       "0             150.0            150.00       0.00           0.00   \n",
       "1             100.0            100.00       0.00           0.00   \n",
       "2             150.0            150.00       0.00           0.00   \n",
       "3             100.0            100.00       0.00           0.00   \n",
       "4             100.0            100.00       0.00           0.00   \n",
       "...             ...               ...        ...            ...   \n",
       "2595          150.0             70.71      79.29          79.29   \n",
       "2596          150.0             70.61      79.39          79.39   \n",
       "2597          150.0             70.54      79.46          79.46   \n",
       "2598          150.0             70.51      79.49          79.49   \n",
       "2599          150.0             70.51      79.49          79.49   \n",
       "\n",
       "      Coesão Calculada 1_1  diferenca 1_1  diferenca_abs 1_1  \n",
       "0                   150.00           0.00               0.00  \n",
       "1                   100.00           0.00               0.00  \n",
       "2                   150.00           0.00               0.00  \n",
       "3                   100.00           0.00               0.00  \n",
       "4                   100.00           0.00               0.00  \n",
       "...                    ...            ...                ...  \n",
       "2595                115.71          34.29              34.29  \n",
       "2596                 76.21          73.79              73.79  \n",
       "2597                 87.80          62.20              62.20  \n",
       "2598                 84.62          65.38              65.38  \n",
       "2599                 90.71          59.29              59.29  \n",
       "\n",
       "[2600 rows x 7 columns]"
      ]
     },
     "execution_count": 19,
     "metadata": {},
     "output_type": "execute_result"
    }
   ],
   "source": [
    "df_redacao[['Competência 4',\n",
    "            'Coesão Calculada', 'diferenca', 'diferenca_abs', \n",
    "            'Coesão Calculada 1_1', 'diferenca 1_1', 'diferenca_abs 1_1']]\n"
   ]
  },
  {
   "cell_type": "code",
   "execution_count": 144,
   "metadata": {
    "scrolled": true
   },
   "outputs": [
    {
     "data": {
      "text/plain": [
       "<AxesSubplot:ylabel='Frequency'>"
      ]
     },
     "execution_count": 144,
     "metadata": {},
     "output_type": "execute_result"
    },
    {
     "data": {
      "image/png": "[encoded data removed]",
      "text/plain": [
       "<Figure size 432x288 with 1 Axes>"
      ]
     },
     "metadata": {
      "needs_background": "light"
     },
     "output_type": "display_data"
    }
   ],
   "source": [
    "#### Distribuição das Notas da Competência 4 das redações\n",
    "\n",
    "fig, ax = plt.subplots()    \n",
    "plt.ylim(0.0, 1400.0)\n",
    "p = df_redacao['Competência 4']\n",
    "mu = p.mean()\n",
    "sigma = p.std()\n",
    "\n",
    "textstr = '\\n'.join((r'Total: %d' % (df_redacao.shape[0]),\n",
    "                     r'$\\mu=%.2f$' % (mu, ),\n",
    "                     r'$\\sigma=%.2f$' % (sigma, )))\n",
    "\n",
    "props = dict(boxstyle='round', \n",
    "             facecolor='white', \n",
    "             alpha=0.5)\n",
    "ax.text(0.72, 0.95, \n",
    "        textstr, transform=ax.transAxes, fontsize=14,\n",
    "        verticalalignment='top', bbox=props)\n",
    "\n",
    "p.plot.hist(bins=5)"
   ]
  },
  {
   "cell_type": "code",
   "execution_count": 174,
   "metadata": {},
   "outputs": [
    {
     "data": {
      "text/plain": [
       "<AxesSubplot:ylabel='Frequency'>"
      ]
     },
     "execution_count": 174,
     "metadata": {},
     "output_type": "execute_result"
    },
    {
     "data": {
      "image/png": "[encoded data removed]",
      "text/plain": [
       "<Figure size 432x288 with 1 Axes>"
      ]
     },
     "metadata": {
      "needs_background": "light"
     },
     "output_type": "display_data"
    }
   ],
   "source": [
    "#### Distribuição da Coesão Calculada Experimento 1a\n",
    "\n",
    "fig, ax = plt.subplots()    \n",
    "plt.ylim(0.0, 1400.0)\n",
    "p = df_redacao['Coesão Calculada']\n",
    "mu = p.mean()\n",
    "sigma = p.std()\n",
    "\n",
    "textstr = '\\n'.join((r'Total: %d' % (df_redacao.shape[0]),\n",
    "                     r'$\\mu=%.2f$' % (mu, ),\n",
    "                     r'$\\sigma=%.2f$' % (sigma, )))\n",
    "\n",
    "props = dict(boxstyle='round', \n",
    "             facecolor='white', \n",
    "             alpha=0.5)\n",
    "ax.text(0.72, 0.95, \n",
    "        textstr, transform=ax.transAxes, fontsize=14,\n",
    "        verticalalignment='top', bbox=props)\n",
    "\n",
    "p.plot.hist(bins=10)"
   ]
  },
  {
   "cell_type": "code",
   "execution_count": 175,
   "metadata": {},
   "outputs": [
    {
     "data": {
      "text/plain": [
       "<AxesSubplot:ylabel='Frequency'>"
      ]
     },
     "execution_count": 175,
     "metadata": {},
     "output_type": "execute_result"
    },
    {
     "data": {
      "image/png": "[encoded data removed]",
      "text/plain": [
       "<Figure size 432x288 with 1 Axes>"
      ]
     },
     "metadata": {
      "needs_background": "light"
     },
     "output_type": "display_data"
    }
   ],
   "source": [
    "#### Distribuição da Coesão Calculada Experimento 1b\n",
    "\n",
    "fig, ax = plt.subplots()    \n",
    "plt.ylim(0.0, 1400.0)\n",
    "\n",
    "p = df_redacao['Coesão Calculada 1_1']\n",
    "mu = p.mean()\n",
    "sigma = p.std()\n",
    "\n",
    "textstr = '\\n'.join((r'Total: %d' % (df_redacao.shape[0]),\n",
    "                     r'$\\mu=%.2f$' % (mu, ),\n",
    "                     r'$\\sigma=%.2f$' % (sigma, )))\n",
    "\n",
    "props = dict(boxstyle='round', \n",
    "             facecolor='white', \n",
    "             alpha=0.5)\n",
    "ax.text(0.72, 0.95, \n",
    "        textstr, transform=ax.transAxes, fontsize=14,\n",
    "        verticalalignment='top', bbox=props)\n",
    "\n",
    "p.plot.hist(bins=10)"
   ]
  },
  {
   "cell_type": "code",
   "execution_count": 165,
   "metadata": {},
   "outputs": [
    {
     "data": {
      "text/plain": [
       "<AxesSubplot:ylabel='Frequency'>"
      ]
     },
     "execution_count": 165,
     "metadata": {},
     "output_type": "execute_result"
    },
    {
     "data": {
      "image/png": "[encoded data removed]",
      "text/plain": [
       "<Figure size 432x288 with 1 Axes>"
      ]
     },
     "metadata": {
      "needs_background": "light"
     },
     "output_type": "display_data"
    }
   ],
   "source": [
    "### Distribuição da Diferença Absoluta Experimento 1a\n",
    "\n",
    "import matplotlib.pyplot as plt\n",
    "fig, ax = plt.subplots()    \n",
    "plt.ylim(0.0, 600.0)\n",
    "plt.xlim(-5.0, 130.0)\n",
    "\n",
    "p = df_redacao['diferenca_abs']\n",
    "mu = p.mean()\n",
    "sigma = p.std()\n",
    "\n",
    "textstr = '\\n'.join((r'Total: %d' % (df_redacao.shape[0]),\n",
    "                     r'$\\mu=%.2f$' % (mu, ),\n",
    "                     r'$\\sigma=%.2f$' % (sigma, )))\n",
    "\n",
    "\n",
    "props = dict(boxstyle='round', \n",
    "             facecolor='white', \n",
    "             alpha=0.5)\n",
    "ax.text(0.72, 0.95, \n",
    "        textstr, transform=ax.transAxes, fontsize=14,\n",
    "        verticalalignment='top', bbox=props)\n",
    "\n",
    "p.plot.hist(bins=12)"
   ]
  },
  {
   "cell_type": "code",
   "execution_count": 170,
   "metadata": {},
   "outputs": [
    {
     "data": {
      "text/plain": [
       "<AxesSubplot:ylabel='Frequency'>"
      ]
     },
     "execution_count": 170,
     "metadata": {},
     "output_type": "execute_result"
    },
    {
     "data": {
      "image/png": "[encoded data removed]",
      "text/plain": [
       "<Figure size 432x288 with 1 Axes>"
      ]
     },
     "metadata": {
      "needs_background": "light"
     },
     "output_type": "display_data"
    }
   ],
   "source": [
    "### Distribuição da Diferença Absoluta Experimento 1b\n",
    "\n",
    "import matplotlib.pyplot as plt\n",
    "fig, ax = plt.subplots()    \n",
    "plt.ylim(0.0, 600.0)\n",
    "plt.xlim(-5.0, 130.0)\n",
    "p = df_redacao['diferenca_abs 1_1']\n",
    "mu = p.mean()\n",
    "sigma = p.std()\n",
    "\n",
    "textstr = '\\n'.join((r'Total: %d' % (df_redacao.shape[0]),\n",
    "                     r'$\\mu=%.2f$' % (mu, ),\n",
    "                     r'$\\sigma=%.2f$' % (sigma, )))\n",
    "\n",
    "\n",
    "props = dict(boxstyle='round', \n",
    "             facecolor='white', \n",
    "             alpha=0.5)\n",
    "ax.text(0.72, 0.95, \n",
    "        textstr, transform=ax.transAxes, fontsize=14,\n",
    "        verticalalignment='top', bbox=props)\n",
    "\n",
    "p.plot.hist(bins=12)"
   ]
  },
  {
   "cell_type": "code",
   "execution_count": 167,
   "metadata": {},
   "outputs": [
    {
     "data": {
      "text/plain": [
       "<AxesSubplot:ylabel='Frequency'>"
      ]
     },
     "execution_count": 167,
     "metadata": {},
     "output_type": "execute_result"
    },
    {
     "data": {
      "image/png": "[encoded data removed]",
      "text/plain": [
       "<Figure size 432x288 with 1 Axes>"
      ]
     },
     "metadata": {
      "needs_background": "light"
     },
     "output_type": "display_data"
    }
   ],
   "source": [
    "### Distribuição da Diferença Experimento 1a\n",
    "\n",
    "import matplotlib.pyplot as plt\n",
    "fig, ax = plt.subplots()    \n",
    "plt.ylim(0.0, 600.0)\n",
    "plt.xlim(-120.0, 100.0)\n",
    "\n",
    "p = df_redacao['diferenca']\n",
    "mu = p.mean()\n",
    "sigma = p.std()\n",
    "\n",
    "textstr = '\\n'.join((r'Total: %d' % (df_redacao.shape[0]),\n",
    "                     r'$\\mu=%.2f$' % (mu, ),\n",
    "                     r'$\\sigma=%.2f$' % (sigma, )))\n",
    "\n",
    "props = dict(boxstyle='round', \n",
    "             facecolor='white', \n",
    "             alpha=0.5)\n",
    "ax.text(0.05, 0.95, \n",
    "        textstr, transform=ax.transAxes, fontsize=14,\n",
    "        verticalalignment='top', bbox=props)\n",
    "\n",
    "p.plot.hist()"
   ]
  },
  {
   "cell_type": "code",
   "execution_count": 166,
   "metadata": {},
   "outputs": [
    {
     "data": {
      "text/plain": [
       "<AxesSubplot:ylabel='Frequency'>"
      ]
     },
     "execution_count": 166,
     "metadata": {},
     "output_type": "execute_result"
    },
    {
     "data": {
      "image/png": "[encoded data removed]",
      "text/plain": [
       "<Figure size 432x288 with 1 Axes>"
      ]
     },
     "metadata": {
      "needs_background": "light"
     },
     "output_type": "display_data"
    }
   ],
   "source": [
    "### Distribuição da Diferença Experimento 1b\n",
    "\n",
    "import matplotlib.pyplot as plt\n",
    "fig, ax = plt.subplots()    \n",
    "plt.ylim(0.0, 600.0)\n",
    "plt.xlim(-120.0, 100.0)\n",
    "\n",
    "p = df_redacao['diferenca 1_1']\n",
    "mu = p.mean()\n",
    "sigma = p.std()\n",
    "\n",
    "textstr = '\\n'.join((r'Total: %d' % (df_redacao.shape[0]),\n",
    "                     r'$\\mu=%.2f$' % (mu, ),\n",
    "                     r'$\\sigma=%.2f$' % (sigma, )))\n",
    "\n",
    "props = dict(boxstyle='round', \n",
    "             facecolor='white', \n",
    "             alpha=0.5)\n",
    "ax.text(0.05, 0.95, \n",
    "        textstr, transform=ax.transAxes, fontsize=14,\n",
    "        verticalalignment='top', bbox=props)\n",
    "\n",
    "p.plot.hist()"
   ]
  },
  {
   "cell_type": "code",
   "execution_count": 168,
   "metadata": {},
   "outputs": [
    {
     "data": {
      "text/plain": [
       "<AxesSubplot:ylabel='Frequency'>"
      ]
     },
     "execution_count": 168,
     "metadata": {},
     "output_type": "execute_result"
    },
    {
     "data": {
      "image/png": "[encoded data removed]",
      "text/plain": [
       "<Figure size 432x288 with 1 Axes>"
      ]
     },
     "metadata": {
      "needs_background": "light"
     },
     "output_type": "display_data"
    }
   ],
   "source": [
    "### Distribuição da Diferença Positiva Experimento 1a\n",
    "\n",
    "import matplotlib.pyplot as plt\n",
    "fig, ax = plt.subplots()    \n",
    "plt.ylim(0.0, 300.0)\n",
    "p = df_redacao[df_redacao['diferenca'] >= 0]\n",
    "\n",
    "textstr = r'Total: %d' % (p.shape[0])\n",
    "props = dict(boxstyle='round', \n",
    "             facecolor='white', \n",
    "             alpha=0.5)\n",
    "ax.text(0.05, 0.95, \n",
    "        textstr, transform=ax.transAxes, fontsize=14,\n",
    "        verticalalignment='top', bbox=props)\n",
    "\n",
    "p['diferenca'].plot.hist()"
   ]
  },
  {
   "cell_type": "code",
   "execution_count": 63,
   "metadata": {},
   "outputs": [
    {
     "data": {
      "text/plain": [
       "<AxesSubplot:ylabel='Frequency'>"
      ]
     },
     "execution_count": 63,
     "metadata": {},
     "output_type": "execute_result"
    },
    {
     "data": {
      "image/png": "[encoded data removed]",
      "text/plain": [
       "<Figure size 432x288 with 1 Axes>"
      ]
     },
     "metadata": {
      "needs_background": "light"
     },
     "output_type": "display_data"
    }
   ],
   "source": [
    "### Distribuição da Diferença Positiva Experimento 1b\n",
    "\n",
    "import matplotlib.pyplot as plt\n",
    "fig, ax = plt.subplots()    \n",
    "plt.ylim(0.0, 300.0)\n",
    "p = df_redacao[df_redacao['diferenca 1_1'] >= 0]\n",
    "\n",
    "textstr = r'Total: %d' % (p.shape[0])\n",
    "props = dict(boxstyle='round', \n",
    "             facecolor='white', \n",
    "             alpha=0.5)\n",
    "ax.text(0.05, 0.95, \n",
    "        textstr, transform=ax.transAxes, fontsize=14,\n",
    "        verticalalignment='top', bbox=props)\n",
    "\n",
    "p['diferenca 1_1'].plot.hist()"
   ]
  },
  {
   "cell_type": "code",
   "execution_count": 51,
   "metadata": {},
   "outputs": [
    {
     "data": {
      "text/plain": [
       "<AxesSubplot:ylabel='Frequency'>"
      ]
     },
     "execution_count": 51,
     "metadata": {},
     "output_type": "execute_result"
    },
    {
     "data": {
      "image/png": "[encoded data removed]",
      "text/plain": [
       "<Figure size 432x288 with 1 Axes>"
      ]
     },
     "metadata": {
      "needs_background": "light"
     },
     "output_type": "display_data"
    }
   ],
   "source": [
    "### Distribuição da Diferença Negativa Experimento 1a\n",
    "\n",
    "fig, ax = plt.subplots()    \n",
    "plt.ylim(0.0, 300.0)\n",
    "p = df_redacao[df_redacao['diferenca'] < 0]\n",
    "\n",
    "textstr = r'Total: %d' % (p.shape[0])\n",
    "props = dict(boxstyle='round', \n",
    "             facecolor='white', \n",
    "             alpha=0.5)\n",
    "ax.text(0.05, 0.95, \n",
    "        textstr, transform=ax.transAxes, fontsize=14,\n",
    "        verticalalignment='top', bbox=props)\n",
    "\n",
    "p['diferenca'].plot.hist()"
   ]
  },
  {
   "cell_type": "code",
   "execution_count": 26,
   "metadata": {},
   "outputs": [
    {
     "data": {
      "text/plain": [
       "<AxesSubplot:ylabel='Frequency'>"
      ]
     },
     "execution_count": 26,
     "metadata": {},
     "output_type": "execute_result"
    },
    {
     "data": {
      "image/png": "[encoded data removed]",
      "text/plain": [
       "<Figure size 432x288 with 1 Axes>"
      ]
     },
     "metadata": {
      "needs_background": "light"
     },
     "output_type": "display_data"
    }
   ],
   "source": [
    "### Distribuição da Diferença Negativa Experimento 1b\n",
    "\n",
    "fig, ax = plt.subplots()    \n",
    "plt.ylim(0.0, 300.0)\n",
    "p = df_redacao[df_redacao['diferenca 1_1'] < 0]\n",
    "\n",
    "textstr = r'Total: %d' % (p.shape[0])\n",
    "props = dict(boxstyle='round', \n",
    "             facecolor='white', \n",
    "             alpha=0.5)\n",
    "ax.text(0.05, 0.95, \n",
    "        textstr, transform=ax.transAxes, fontsize=14,\n",
    "        verticalalignment='top', bbox=props)\n",
    "\n",
    "p['diferenca 1_1'].plot.hist()"
   ]
  },
  {
   "cell_type": "code",
   "execution_count": 27,
   "metadata": {},
   "outputs": [
    {
     "data": {
      "text/plain": [
       "<AxesSubplot:ylabel='Frequency'>"
      ]
     },
     "execution_count": 27,
     "metadata": {},
     "output_type": "execute_result"
    },
    {
     "data": {
      "image/png": "[encoded data removed]",
      "text/plain": [
       "<Figure size 432x288 with 1 Axes>"
      ]
     },
     "metadata": {
      "needs_background": "light"
     },
     "output_type": "display_data"
    }
   ],
   "source": [
    "#### Distribuição das Notas da redações\n",
    "\n",
    "df_redacao[['Nota']].plot.hist()"
   ]
  },
  {
   "cell_type": "code",
   "execution_count": 28,
   "metadata": {},
   "outputs": [
    {
     "name": "stdout",
     "output_type": "stream",
     "text": [
      "stat=82.781, p=0.000\n",
      "Data does not follow normal\n"
     ]
    }
   ],
   "source": [
    "#Python code\n",
    "#Example ofD’Agostino’s K-squared Test\n",
    "from scipy.stats import normaltest\n",
    "data = df_redacao[['Nota']].values\n",
    "stat, p = normaltest(data)\n",
    "print('stat=%.3f, p=%.3f' % (stat, p))\n",
    "if p > 0.05:\n",
    " print('Data follows normal')\n",
    "else:\n",
    " print('Data does not follow normal')\n",
    "#OUTPUT:\n",
    "#stat=3.392, p=0.183\n",
    "#Data follows normal"
   ]
  },
  {
   "cell_type": "code",
   "execution_count": 29,
   "metadata": {},
   "outputs": [
    {
     "name": "stdout",
     "output_type": "stream",
     "text": [
      "stat=21.692\n",
      "Data does not follows Normal at the 15.0% level\n",
      "Data does not follows Normal at the 10.0% level\n",
      "Data does not follows Normal at the 5.0% level\n",
      "Data does not follows Normal at the 2.5% level\n",
      "Data does not follows Normal at the 1.0% level\n"
     ]
    }
   ],
   "source": [
    "from scipy.stats import anderson\n",
    "data = list(zip(*df_redacao[['Nota']].values))\n",
    "result = anderson(data[0])\n",
    "print('stat=%.3f' % (result.statistic))\n",
    "for i in range(len(result.critical_values)):\n",
    " sl, cv = result.significance_level[i], result.critical_values[i]\n",
    " if result.statistic < cv:\n",
    "  print('Data follows Normal at the %.1f%% level' % (sl))\n",
    " else:\n",
    "  print('Data does not follows Normal at the %.1f%% level' % (sl))"
   ]
  },
  {
   "cell_type": "markdown",
   "metadata": {},
   "source": [
    "#### Distribuição dos valores calculados de coesão"
   ]
  },
  {
   "cell_type": "code",
   "execution_count": 31,
   "metadata": {},
   "outputs": [
    {
     "name": "stderr",
     "output_type": "stream",
     "text": [
      "/home/willian/miniconda3/envs/ccscore/lib/python3.8/site-packages/pandas/plotting/_matplotlib/tools.py:400: MatplotlibDeprecationWarning: \n",
      "The is_first_col function was deprecated in Matplotlib 3.4 and will be removed two minor releases later. Use ax.get_subplotspec().is_first_col() instead.\n",
      "  if ax.is_first_col():\n"
     ]
    },
    {
     "data": {
      "text/plain": [
       "<AxesSubplot:ylabel='Frequency'>"
      ]
     },
     "execution_count": 31,
     "metadata": {},
     "output_type": "execute_result"
    },
    {
     "data": {
      "image/png": "[encoded data removed]",
      "text/plain": [
       "<Figure size 432x288 with 4 Axes>"
      ]
     },
     "metadata": {
      "needs_background": "light"
     },
     "output_type": "display_data"
    }
   ],
   "source": [
    "import matplotlib.pyplot as plt\n",
    "\n",
    "fig, axes = plt.subplots(nrows=2, ncols=2)\n",
    "\n",
    "df_redacao[['Coesão Calculada 1_1']].plot.hist(ax=axes[0,0])\n",
    "df_redacao[['Competência 4']].plot.hist(ax=axes[0,1])\n",
    "df_redacao[['Coesão Calculada']].plot.hist(ax=axes[1,0])\n",
    "df_redacao[['Competência 4']].plot.hist(ax=axes[1,1])"
   ]
  },
  {
   "cell_type": "code",
   "execution_count": 37,
   "metadata": {},
   "outputs": [
    {
     "name": "stdout",
     "output_type": "stream",
     "text": [
      "stat=0.982, p=0.183\n",
      "Probably not Gaussian\n",
      "stat=114.709, p=0.000\n",
      "Probably not Gaussian\n"
     ]
    }
   ],
   "source": [
    "import scipy\n",
    "\n",
    "#pvalue=scipy.stats.t.cdf(results.tvalues['lenroll'],results.df_resid) \n",
    "from scipy.stats import shapiro\n",
    "#data = [0.873, 2.817, 0.121, -0.945, -0.055, -1.436, 0.360, -1.478, -1.637, -1.869]\n",
    "data = list(df_redacao['Coesão Calculada'])\n",
    "stat, p_value = shapiro(data)\n",
    "print('stat=%.3f, p=%.3f' % (stat, p))\n",
    "if p_value > 0.05:\n",
    "    print('Probably Gaussian')\n",
    "else:\n",
    "    print('Probably not Gaussian')\n",
    "    \n",
    "\n",
    "# Example of the D'Agostino's K^2 Normality Test\n",
    "from scipy.stats import normaltest\n",
    "#data = [0.873, 2.817, 0.121, -0.945, -0.055, -1.436, 0.360, -1.478, -1.637, -1.869]\n",
    "stat, p = normaltest(data)\n",
    "print('stat=%.3f, p=%.3f' % (stat, p))\n",
    "if p > 0.05:\n",
    "    print('Probably Gaussian')\n",
    "else:\n",
    "    print('Probably not Gaussian')\n"
   ]
  },
  {
   "cell_type": "code",
   "execution_count": 124,
   "metadata": {},
   "outputs": [
    {
     "name": "stdout",
     "output_type": "stream",
     "text": [
      "stat=-10.491, p=0.000\n",
      "Probably different distributions\n",
      "stat=-41.858, p=0.000\n",
      "Probably different distributions\n"
     ]
    }
   ],
   "source": [
    "from scipy.stats import ttest_ind\n",
    "#data1 = df_redacao['Competência 4']\n",
    "data1 = df_redacao['Coesão Calculada']\n",
    "data2 = df_redacao['Coesão Calculada 1_1']\n",
    "stat, p = ttest_ind(data1, data2)\n",
    "print('stat=%.3f, p=%.3f' % (stat, p))\n",
    "if p > 0.05:\n",
    "    print('Probably the same distribution')\n",
    "else:\n",
    "    print('Probably different distributions')\n",
    "    \n",
    "    \n",
    "# Example of the Paired Student's t-test\n",
    "from scipy.stats import ttest_rel\n",
    "stat, p = ttest_rel(data1, data2)\n",
    "print('stat=%.3f, p=%.3f' % (stat, p))\n",
    "if p > 0.05:\n",
    "    print('Probably the same distribution')\n",
    "else:\n",
    "    print('Probably different distributions')\n"
   ]
  },
  {
   "cell_type": "code",
   "execution_count": 125,
   "metadata": {},
   "outputs": [
    {
     "name": "stdout",
     "output_type": "stream",
     "text": [
      "stat=8.154, p=0.000\n",
      "Probably different distributions\n",
      "stat=41.858, p=0.000\n",
      "Probably different distributions\n"
     ]
    }
   ],
   "source": [
    "from scipy.stats import ttest_ind\n",
    "#data1 = df_redacao['Competência 4']\n",
    "data1 = df_redacao['diferenca']\n",
    "data2 = df_redacao['diferenca 1_1']\n",
    "stat, p = ttest_ind(data1, data2)\n",
    "print('stat=%.3f, p=%.3f' % (stat, p))\n",
    "if p > 0.05:\n",
    "    print('Probably the same distribution')\n",
    "else:\n",
    "    print('Probably different distributions')\n",
    "    \n",
    "    \n",
    "# Example of the Paired Student's t-test\n",
    "from scipy.stats import ttest_rel\n",
    "stat, p = ttest_rel(data1, data2)\n",
    "print('stat=%.3f, p=%.3f' % (stat, p))\n",
    "if p > 0.05:\n",
    "    print('Probably the same distribution')\n",
    "else:\n",
    "    print('Probably different distributions')"
   ]
  },
  {
   "cell_type": "code",
   "execution_count": 114,
   "metadata": {},
   "outputs": [
    {
     "data": {
      "text/plain": [
       "Ttest_relResult(statistic=21.07798769255448, pvalue=3.540146048017893e-91)"
      ]
     },
     "execution_count": 114,
     "metadata": {},
     "output_type": "execute_result"
    }
   ],
   "source": [
    "from scipy import stats\n",
    "\n",
    "stats.ttest_rel(df_redacao['Competência 4'],\n",
    "                df_redacao['Coesão Calculada 1_1'])"
   ]
  },
  {
   "cell_type": "code",
   "execution_count": 120,
   "metadata": {},
   "outputs": [
    {
     "data": {
      "text/plain": [
       "Ttest_1sampResult(statistic=-26.846104145708328, pvalue=2.489552921195178e-140)"
      ]
     },
     "execution_count": 120,
     "metadata": {},
     "output_type": "execute_result"
    }
   ],
   "source": [
    "from scipy import stats\n",
    "\n",
    "stats.ttest_1samp(df_redacao['Coesão Calculada 1_1'],                  \n",
    "                  df_redacao['Competência 4'].mean())"
   ]
  },
  {
   "cell_type": "code",
   "execution_count": 123,
   "metadata": {},
   "outputs": [
    {
     "name": "stdout",
     "output_type": "stream",
     "text": [
      "Estatística de teste: -41.86\n",
      "p-valor: 0.0\n",
      "t-valor: 10.49\n"
     ]
    }
   ],
   "source": [
    "from statsmodels.stats.weightstats import ztest\n",
    "import scipy.stats as scp_stats\n",
    "import math\n",
    "\n",
    "#data1 = df_redacao['Competência 4']\n",
    "data1 = df_redacao['Coesão Calculada 1_1']\n",
    "media_data1 = data1.mean()\n",
    "std_data1 = data1.std()\n",
    "n_data1 = len(data1)\n",
    "data2 = df_redacao['Coesão Calculada']\n",
    "media_data2 = data2.mean()\n",
    "std_data2 = data2.std()\n",
    "n_data2 = len(data2)\n",
    "\n",
    "t = (media_data1 - media_data2)/math.sqrt((std_data1*std_data1)/n_data1+\n",
    "                                          ((std_data2*std_data2)/n_data2))\n",
    "stat_, p = ztest(data2, value=media_data1)\n",
    "print('Estatística de teste: {}'.format(stat.round(2)))\n",
    "print('p-valor: {}'.format(p.round(2)))\n",
    "\n",
    "print('t-valor: {}'.format(t.round(2)))\n",
    "\n"
   ]
  },
  {
   "cell_type": "markdown",
   "metadata": {},
   "source": [
    "#### Avaliação das diferenças absolutas entre a Coesão Calculada e os valores da Competência 4 atribuidos pelo avaliador"
   ]
  },
  {
   "cell_type": "markdown",
   "metadata": {},
   "source": [
    "A seguir temos uma distribuição dos valores absolutos da diferença entre os valores atribuidos pelos corretores humanos e o processo avaliação automática. \n"
   ]
  },
  {
   "cell_type": "code",
   "execution_count": 82,
   "metadata": {},
   "outputs": [
    {
     "data": {
      "text/plain": [
       "<AxesSubplot:ylabel='Frequency'>"
      ]
     },
     "execution_count": 82,
     "metadata": {},
     "output_type": "execute_result"
    },
    {
     "data": {
      "image/png": "[encoded data removed]",
      "text/plain": [
       "<Figure size 432x288 with 1 Axes>"
      ]
     },
     "metadata": {
      "needs_background": "light"
     },
     "output_type": "display_data"
    }
   ],
   "source": [
    "import matplotlib.pyplot as plt\n",
    "fig, ax = plt.subplots()    \n",
    "plt.ylim(0.0, 500)\n",
    "plt.xlim(0.0, 130)\n",
    "textstr = r'Total: %d' % (df_redacao.shape[0])\n",
    "props = dict(boxstyle='round', \n",
    "             facecolor='white', \n",
    "             alpha=0.5)\n",
    "ax.text(0.65, 0.95, \n",
    "        textstr, transform=ax.transAxes, fontsize=14,\n",
    "        verticalalignment='top', bbox=props)\n",
    "\n",
    "df_redacao['diferenca_abs 1_1'].plot.hist(bins=13)"
   ]
  },
  {
   "cell_type": "code",
   "execution_count": 70,
   "metadata": {},
   "outputs": [
    {
     "data": {
      "text/plain": [
       "<AxesSubplot:ylabel='Frequency'>"
      ]
     },
     "execution_count": 70,
     "metadata": {},
     "output_type": "execute_result"
    },
    {
     "data": {
      "image/png": "[encoded data removed]",
      "text/plain": [
       "<Figure size 432x288 with 1 Axes>"
      ]
     },
     "metadata": {
      "needs_background": "light"
     },
     "output_type": "display_data"
    }
   ],
   "source": [
    "import matplotlib.pyplot as plt\n",
    "fig, ax = plt.subplots()    \n",
    "plt.ylim(0.0, 500.0)\n",
    "plt.xlim(0.0, 130)\n",
    "textstr = r'Total: %d' % (df_redacao.shape[0])\n",
    "props = dict(boxstyle='round', \n",
    "             facecolor='white', \n",
    "             alpha=0.5)\n",
    "ax.text(0.65, 0.95, \n",
    "        textstr, transform=ax.transAxes, fontsize=14,\n",
    "        verticalalignment='top', bbox=props)\n",
    "\n",
    "df_redacao['diferenca_abs'].plot.hist(bins=8)"
   ]
  },
  {
   "cell_type": "code",
   "execution_count": 61,
   "metadata": {},
   "outputs": [
    {
     "name": "stderr",
     "output_type": "stream",
     "text": [
      "/home/willian/miniconda3/envs/ccscore/lib/python3.8/site-packages/pandas/plotting/_matplotlib/tools.py:400: MatplotlibDeprecationWarning: \n",
      "The is_first_col function was deprecated in Matplotlib 3.4 and will be removed two minor releases later. Use ax.get_subplotspec().is_first_col() instead.\n",
      "  if ax.is_first_col():\n"
     ]
    },
    {
     "data": {
      "text/plain": [
       "<AxesSubplot:ylabel='Frequency'>"
      ]
     },
     "execution_count": 61,
     "metadata": {},
     "output_type": "execute_result"
    },
    {
     "data": {
      "image/png": "[encoded data removed]",
      "text/plain": [
       "<Figure size 432x288 with 2 Axes>"
      ]
     },
     "metadata": {
      "needs_background": "light"
     },
     "output_type": "display_data"
    }
   ],
   "source": [
    "fig, axes = plt.subplots(nrows=1, ncols=2)\n",
    "\n",
    "df_redacao['diferenca_abs 1_1'].plot.hist(bins = 8, ax=axes[0])\n",
    "df_redacao['diferenca_abs'].plot.hist(bins = 8, ax=axes[1])\n"
   ]
  },
  {
   "cell_type": "markdown",
   "metadata": {},
   "source": [
    "### EXPERIMENTO 1\n",
    "\n",
    "O valor absoluto da diferença média entre a nota do avaliador humano e a avaliação automática foi de 39 pontos, com desvio-padrão de 23,09. Enquanto o desvio-padrão apresentado pelo avaliador humano foi de 103,95.\n",
    "A diferença máxima da diferença absoluta foi de 79,49 pontos. \n",
    "Chama a atenção do fato da avaliação automática não ter atribuído nota 0 (zero) a nenhuma redação. Diferentemente do avaliador humano e não ter dado nota máxima a nenhuma redação. Possivelmente, isso pode se dar por conta de aspectos da coesão que avaliação automática não esteja considerando ou que não possam ser capturados pelo método.\n",
    "\n",
    "### EXPERIMENTO 1.1\n",
    "\n",
    "O valor absoluto da diferença média entre a nota do avaliador humano e a avaliação automática foi de 35.86 pontos, com desvio-padrão de 22,23. Enquanto o desvio-padrão apresentado pelo avaliador humano foi de 103,95.\n",
    "A diferença máxima da diferença absoluta foi de 124,04 pontos. \n",
    "Chama a atenção do fato da avaliação automática não ter atribuído nota 0 (zero) a nenhuma redação. Diferentemente do avaliador humano e não ter dado nota máxima a nenhuma redação. Possivelmente, isso pode se dar por conta de aspectos da coesão que avaliação automática não esteja considerando ou que não possam ser capturados pelo método."
   ]
  },
  {
   "cell_type": "code",
   "execution_count": null,
   "metadata": {},
   "outputs": [],
   "source": [
    "df_redacao[['Competência 4','Coesão Calculada', 'Coesão Calculada 1_1', 'diferenca_abs', 'diferenca_abs 1_1']].describe()"
   ]
  },
  {
   "cell_type": "code",
   "execution_count": null,
   "metadata": {},
   "outputs": [],
   "source": [
    "boxplot = df_redacao.boxplot(column=['Competência 4', \n",
    "                                     'Coesão Calculada', 'diferenca_abs', \n",
    "                                     'Coesão Calculada 1_1', 'diferenca_abs 1_1'])\n"
   ]
  },
  {
   "cell_type": "code",
   "execution_count": null,
   "metadata": {},
   "outputs": [],
   "source": [
    "dif_zero = df_redacao[df_redacao['diferenca'] == 0.0]\n",
    "print(f\"Total de linhas: {dif_zero.shape[0]}\")\n",
    "dif_zero\n"
   ]
  },
  {
   "cell_type": "code",
   "execution_count": null,
   "metadata": {},
   "outputs": [],
   "source": [
    "dif_zero = df_redacao[df_redacao['diferenca 1_1'] == 0.0]\n",
    "print(f\"Total de linhas: {dif_zero.shape[0]}\")\n",
    "dif_zero\n"
   ]
  },
  {
   "cell_type": "markdown",
   "metadata": {},
   "source": [
    "### Visualização de uma instância"
   ]
  },
  {
   "cell_type": "code",
   "execution_count": null,
   "metadata": {},
   "outputs": [],
   "source": [
    "num_redacao = 915\n",
    "exibe_redacao(915)"
   ]
  },
  {
   "cell_type": "code",
   "execution_count": null,
   "metadata": {},
   "outputs": [],
   "source": [
    "texto = df_redacao['Texto'][num_redacao]\n",
    "anot_pal = df_redacao['Palavras'][num_redacao]\n",
    "cadeias_corref = df_redacao['Cadeias'][num_redacao]\n",
    "\n",
    "tp = h_pal.parse_text_toclass(anot_pal, texto)\n",
    "td = TextDocument(texto, tp, corref_chains=cadeias_corref)"
   ]
  },
  {
   "cell_type": "code",
   "execution_count": null,
   "metadata": {},
   "outputs": [],
   "source": [
    "from itertools import combinations\n",
    "from itertools import tee\n",
    "import matplotlib.pyplot as plt\n",
    "import numpy as np"
   ]
  },
  {
   "cell_type": "code",
   "execution_count": null,
   "metadata": {},
   "outputs": [],
   "source": [
    "def plot_coesao_local(td):\n",
    "    \n",
    "    fig, ax = plt.subplots()    \n",
    "    y = td.local_cohesion_values\n",
    "    x = [a+1 for a in list(range(len(td.local_cohesion_values)))]\n",
    "    plt.ylim(0.0, 1.1)\n",
    "    plt.yticks(np.arange(0, 1.5, 0.5))\n",
    "    plt.xticks(np.arange(0, len(x)+1, 1.0))\n",
    "    plt.xlabel(\"Pares de Sentenças\")\n",
    "    plt.ylabel(\"Valores Coesão Local\")\n",
    "    plt.plot(x, y, 'go-')\n",
    "    \n",
    "    a,b = tee(list(range(len(td.sentences))))\n",
    "    next(b)\n",
    "    pares_sentencas = list(zip(a,b))\n",
    "    for i, p in enumerate(list(zip(x,y))):\n",
    "        px, py = p\n",
    "        ax.annotate(f\"{pares_sentencas[i]}\", xy=(px,py),\n",
    "                    textcoords=\"offset points\", \n",
    "                     xytext=(3,10),\n",
    "                     ha='center')"
   ]
  },
  {
   "cell_type": "code",
   "execution_count": null,
   "metadata": {},
   "outputs": [],
   "source": [
    "def plot_coesao_global(td): \n",
    "    \n",
    "    fig, ax = plt.subplots()    \n",
    "    y = td.global_cohesion_values\n",
    "    x = [a+1 for a in list(range(len(td.global_cohesion_values)))]\n",
    "    plt.ylim(0.0, 1.1)\n",
    "    plt.yticks(np.arange(0, 1.5, 0.5))\n",
    "    plt.xticks(np.arange(0, len(td.global_cohesion_values)+1, 1.0))\n",
    "    plt.xlabel(\"Pares de Parágrafos\")\n",
    "    plt.ylabel(\"Valores Coesão Global\")\n",
    "    plt.plot(x, y, 'go-')\n",
    "    \n",
    "    pares_paragraphs = list(combinations(list(range(len(td.paragraphs))),2))\n",
    "    for i, p in enumerate(list(zip(x,y))):\n",
    "        px, py = p\n",
    "        ax.annotate(f\"{pares_paragraphs[i]}\", xy=(px,py),\n",
    "                    textcoords=\"offset points\", \n",
    "                     xytext=(3,10),\n",
    "                     ha='center')"
   ]
  },
  {
   "cell_type": "markdown",
   "metadata": {},
   "source": [
    "#### Exibição do valores calculados para a coesão entre os pares de parágrafos (coesão global)\n",
    "\n",
    "São analisados todos os pares de parágrafos. Se um texto tiver 4 parágrafos, serão analisados os seguintes pares.\n",
    "(1,2)(1,3)(1,4)\n",
    "(2,3)(2,4)\n",
    "(3,4)\n",
    "Sendo atribuída uma nota para relaão entre os pares, de acordo com os seguintes valores:\n",
    "<ul>\n",
    "    <li>Elaboração: 1,00</li>\n",
    "    <li>Manutenção de Tópico: 0,75</li>\n",
    "    <li>Mudança de Tópico: 0,50</li>\n",
    "    <li>Mudança de Assunto: 0,00</li>\n",
    "</ul>  "
   ]
  },
  {
   "cell_type": "code",
   "execution_count": null,
   "metadata": {},
   "outputs": [],
   "source": [
    "import helper_plot as hplot\n",
    "\n",
    "print(f\"Total de parágrafos: {len(td.paragraphs)}\")\n",
    "#plot_coesao_global(td)\n",
    "hplot.plot_coesao_global(td)"
   ]
  },
  {
   "cell_type": "markdown",
   "metadata": {},
   "source": [
    "#### Exibição do valores calculados para a coesão entre os pares de sentenças (coesão local)\n",
    "\n",
    "São analisados todos os pares de sentenças de forma sequenciada. Se um texto tiver 4 sentenças, serão analisados os seguintes pares.\n",
    "(1,2)(2,3)(3,4)\n",
    "\n",
    "Sendo atribuída uma nota para relaão entre os pares, de acordo com os seguintes valores:\n",
    "<ul>\n",
    "    <li>Elaboração: 1,00</li>\n",
    "    <li>Manutenção de Tópico: 0,75</li>\n",
    "    <li>Mudança de Tópico: 0,50</li>\n",
    "    <li>Mudança de Assunto: 0,00</li>\n",
    "</ul>  "
   ]
  },
  {
   "cell_type": "code",
   "execution_count": null,
   "metadata": {},
   "outputs": [],
   "source": [
    "print(f\"Total de sentenças: {len(td.sentences)}\")\n",
    "hplot.plot_coesao_local(td)"
   ]
  },
  {
   "cell_type": "markdown",
   "metadata": {},
   "source": [
    "A redação indicada acima, recebeu as seguintes notas:"
   ]
  },
  {
   "cell_type": "code",
   "execution_count": null,
   "metadata": {},
   "outputs": [],
   "source": [
    "print('\\n'.join([str(x) for x in list(enumerate(td.sentences))]))"
   ]
  },
  {
   "cell_type": "code",
   "execution_count": null,
   "metadata": {},
   "outputs": [],
   "source": [
    "exibe_redacao(num_redacao, show_text=False)\n",
    "#print(f\"Competência 4 (avaliador humano): {nota_compt4}\")\n",
    "#print(f\"Coesão Calculada (avaliação automática): {coesao_calculada}\")"
   ]
  },
  {
   "cell_type": "markdown",
   "metadata": {},
   "source": [
    "Para as redações 939 e 938\n",
    "\n",
    "Podemos ver pela relações entre as sentenças que houve um processo de elaboração contínua nas transições entre as sentenças. O que pode indicar que os parágrafos não foram utilizados de forma a introduzir novos tópicos ou que a argumentação não tenha evoluído. Analisando o relacionamento entre os parágrafos, percebemos uma mudança de tópico entre o 1º parágrafo e o último (4º). Quando, em um texto dissertativo de bem redigido, espera-se um processo de retomada do tópico, enquanto nos anteriores ao último deva ocorrer um processo de elaboração e mudança. "
   ]
  },
  {
   "cell_type": "code",
   "execution_count": null,
   "metadata": {},
   "outputs": [],
   "source": [
    "exibe_redacao(num_redacao)"
   ]
  },
  {
   "cell_type": "markdown",
   "metadata": {},
   "source": [
    "#### Valor QWK"
   ]
  },
  {
   "cell_type": "code",
   "execution_count": null,
   "metadata": {},
   "outputs": [],
   "source": [
    "import qwk\n",
    "import numpy as np\n",
    "\n",
    "compt4 = df_redacao['Competência 4'].values.astype(dtype=np.int16)\n",
    "coesao_calc = df_redacao['Coesão Calculada'].values.astype(dtype=np.int16)\n",
    "coesao_calc1_1 = df_redacao['Coesão Calculada 1_1'].values.astype(dtype=np.int16)\n",
    "\n",
    "qwk_value = qwk.quadratic_weighted_kappa(compt4.tolist(), coesao_calc.tolist())\n",
    "qwk_value1_1 = qwk.quadratic_weighted_kappa(compt4.tolist(), coesao_calc1_1.tolist())\n",
    "\n",
    "\n",
    "print(f\"QWK: {round(qwk_value,3)}\")\n",
    "print()\n",
    "print(f\"QWK (exp1.1): {round(qwk_value1_1,3)}\")\n"
   ]
  },
  {
   "cell_type": "markdown",
   "metadata": {},
   "source": [
    "#### Valor RSME"
   ]
  },
  {
   "cell_type": "code",
   "execution_count": null,
   "metadata": {
    "scrolled": true
   },
   "outputs": [],
   "source": [
    "from sklearn.metrics import mean_squared_error\n",
    "from math import sqrt\n",
    "mse_value = mean_squared_error(compt4, coesao_calc)    \n",
    "rmse_value = sqrt(mse_value)\n",
    "mse_value1_1 = mean_squared_error(compt4, coesao_calc1_1)    \n",
    "rmse_value1_1 = sqrt(mse_value1_1)\n",
    "\n",
    "\n",
    "print(f\"MSE: {round(mse_value,2)} \\n RMSE: {round(rmse_value,2)}\")\n",
    "print()\n",
    "print(f\"MSE (exp1.1): {round(mse_value1_1,2)} \\n RMSE (exp1.1): {round(rmse_value1_1,2)}\")"
   ]
  }
 ],
 "metadata": {
  "kernelspec": {
   "display_name": "Python 3",
   "language": "python",
   "name": "python3"
  },
  "language_info": {
   "codemirror_mode": {
    "name": "ipython",
    "version": 3
   },
   "file_extension": ".py",
   "mimetype": "text/x-python",
   "name": "python",
   "nbconvert_exporter": "python",
   "pygments_lexer": "ipython3",
   "version": "3.8.5"
  }
 },
 "nbformat": 4,
 "nbformat_minor": 2
}
