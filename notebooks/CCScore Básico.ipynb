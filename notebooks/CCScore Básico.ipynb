{
 "cells": [
  {
   "cell_type": "markdown",
   "metadata": {},
   "source": [
    "### Testes básicos do funcionamento do CCScore"
   ]
  },
  {
   "cell_type": "code",
   "execution_count": null,
   "metadata": {},
   "outputs": [],
   "source": [
    "import sys\n",
    "sys.path.append('../ccscore/')\n",
    "from infernal import feature_extraction as fe\n",
    "from infernal import datastructures as ds\n",
    "import spacy"
   ]
  },
  {
   "cell_type": "code",
   "execution_count": null,
   "metadata": {},
   "outputs": [],
   "source": [
    "nlp = spacy.load('pt_core_news_lg')"
   ]
  },
  {
   "cell_type": "code",
   "execution_count": null,
   "metadata": {},
   "outputs": [],
   "source": [
    "# Instalações de pacotes\n",
    "#!python -m spacy download pt_core_news_lg\n",
    "#!python -m spacy download pt_core_news_lg\n",
    "#!pip install zss rdflib\n",
    "#!conda install -y scipy\n",
    "#!conda install -y pandas\n",
    "#!pip install python-dotenv"
   ]
  },
  {
   "cell_type": "code",
   "execution_count": null,
   "metadata": {},
   "outputs": [],
   "source": [
    "texto = '''Defendida por agentes do mercado financeiro e uma das bandeiras da equipe econômica do governo Jair Bolsonaro, o projeto de autonomia do Banco Central (BC) deve avançar na Câmara só após a reforma tributária andar, no que depender do presidente da Casa, Rodrigo Maia (DEM-RJ). Para ele, o projeto sobre a instituição presidida por Roberto Campos Neto não é urgente no curto prazo.\n",
    "\"Aceito votar autonomia do Banco, aceito, é claro, votar os depósitos voluntários, mas aí temos que organizar melhor a pauta até o fim do ano. É só o governo ter boa vontade na reforma tributária\", disse Maia, ao participar de evento organizado pelo Itaú. \"A reforma tributária tem importância muito maior que autonomia do Banco Central\", comentou.\n",
    "'''\n",
    "\n",
    "#O projeto de autonomia do BC foi aprovado na terça-feira, 3, pelo Senado e agora precisa do aval dos deputados para virar lei. O texto mantém o controle dos preços como objetivo central, mas inclui ainda duas novas metas acessórias, sem prejuízo à principal: suavizar as flutuações do nível de atividade econômica e fomentar o pleno emprego no País. O governo concordou com a redação da proposta, apesar de o BC ser historicamente contrário a ampliar o escopo da atuação.\n",
    "#Maia já reclamou outras vezes da falta de empenho e atuação do governo para se aprovar a medida. Na semana passada, acusou o presidente do Banco Central, Roberto Campos Neto, de ter vazado informações sobre conversa que os dois tiveram no dia da decisão do Comitê de Política Monetária (Copom), que manteve a taxa Selic em 2% ao ano.\n",
    "#Ao jornal O Estado de S. Paulo, Maia criticou a articulação do presidente do BC em alertar sobre os reflexos para a economia da dificuldade do Congresso em avançar com as votações da pauta de ajuste fiscal. Segundo o presidente da Câmara, Campos Neto tentou fazer uma articulação política, sem combinar, o que não seria papel dele, mas dos ministros da Economia, Paulo Guedes, e da articulação política, Luiz Eduardo Ramos.\n",
    "#Nesta sexta-feira, o presidente da Câmara lembrou que havia uma proposta de autonomia do BC semelhante na Câmara, mas que não foi votada, e disse que não comentou até agora sobre o tema porque não foi procurado pelo governo para falar sobre o assunto. \"Se eu conseguisse conversar com alguém do governo, eu poderia te responder, mas ninguém me procura. Não vou conversar com a imprensa antes de conversar com o governo\", disse.\n",
    "#Como o Broadcast (sistema de notícias em tempo real do Grupo Estado) mostrou na quinta-feira, deputados já se articulam na Câmara para modificar o projeto aprovado pelo Senado. O partido Novo, por exemplo, quer enxugar a proposta que recebeu aval dos senadores para reduzir os chamados acessórios que foram colocados para o Banco Central.\n",
    "#Sobre a reforma tributária, Maia deu sinais de que quer aprovar o projeto antes de deixar a presidência da Casa e acredita que com acordo pode fazer isso rapidamente.'''\n",
    "#'''\n",
    "\n",
    "texto"
   ]
  },
  {
   "cell_type": "markdown",
   "metadata": {},
   "source": [
    "Processamento básico dos textos é feito com Spacy, \n",
    "mas de forma interno às classes do ccscore"
   ]
  },
  {
   "cell_type": "code",
   "execution_count": null,
   "metadata": {},
   "outputs": [],
   "source": [
    "textdoc = nlp(texto)"
   ]
  },
  {
   "cell_type": "code",
   "execution_count": null,
   "metadata": {},
   "outputs": [],
   "source": [
    "def paragraphs(document):\n",
    "    '''\n",
    "    Generator to define start positions\n",
    "    of paragraphs\n",
    "    '''\n",
    "    start = 0\n",
    "    for token in document:\n",
    "        if token.is_space and token.text.count(\"\\n\") > 1:\n",
    "            yield document[start:token.i]\n",
    "            start = token.i\n",
    "    yield document[start:]"
   ]
  },
  {
   "cell_type": "code",
   "execution_count": null,
   "metadata": {},
   "outputs": [],
   "source": [
    "from itertools import tee\n",
    "\n",
    "def pairwise(iterable):\n",
    "    '''\n",
    "    Receive an iterable and return\n",
    "    an list with tuples of this elements\n",
    "    is this way    \n",
    "    s -> (s0,s1), (s1,s2), (s2, s3), ...\n",
    "    '''\n",
    "    a, b = tee(iterable)    \n",
    "    next(b, None)  # next(b) it's Ok \n",
    "    return zip(a, b)"
   ]
  },
  {
   "cell_type": "code",
   "execution_count": null,
   "metadata": {},
   "outputs": [],
   "source": [
    "import confapp as config\n",
    "config.TEP2_PATH = \"../ccscore/data/tep2.pickle\"\n",
    "import helper_palavras as h_pal \n",
    "from text_document import TextDocument\n",
    "\n",
    "\n",
    "ARQ_TEXTO = \"../ccscore/data/texto_exemplo.txt\"\n",
    "ARQ_PALAVRAS = \"../ccscore/data/texto_exemplo_anotado.html\"\n",
    "ARQ_PALAVRAS_ORIG = \"../ccscore/data/texto_exemplo.txt\"\n",
    "\n",
    "try:\n",
    "    with open(ARQ_TEXTO, 'r') as f_text:\n",
    "            orig_text = \" \".join(f_text.readlines())\n",
    "except IOError:\n",
    "    print(f\"Erro ao tentar abrir o arquivo {ARQ_TEXTO}\")\n",
    "\n",
    "tp = h_pal.parse_file_toclass(ARQ_PALAVRAS,\n",
    "                              ARQ_PALAVRAS_ORIG)\n",
    "                              \n",
    "td = TextDocument(orig_text, tp)\n"
   ]
  },
  {
   "cell_type": "markdown",
   "metadata": {},
   "source": [
    "\n",
    "Listando:    \n",
    "<ol>\n",
    "    <li>Foco Explícito (FE)</li>\n",
    "    <li>Lista intermediária do FE</li>    \n",
    "    <li>Lista das Entidades Nomeadas</li>\n",
    "    <li>Menções da DBPedia</li>\n",
    "</ol>"
   ]
  },
  {
   "cell_type": "code",
   "execution_count": null,
   "metadata": {
    "scrolled": false
   },
   "outputs": [],
   "source": [
    "for i, sent in enumerate(td.sentences):\n",
    "    print()\n",
    "    print(\"ID: \", str(i))    \n",
    "    print(\"Texto Original: \", sent.text)    \n",
    "    print()    \n",
    "    print(\"Lista de Foco Explícito: \", [s for s in sent.list_fe])    \n",
    "    print()\n",
    "    print(\"Lista de Intermediária de FE: \", sent.list_fe_li)#[s for s in sent.list_fe_li])    \n",
    "    print()    \n",
    "    print(\"Lista de Entidades Nomeadas: \", sent.named_entities)    \n",
    "    print()\n",
    "    print(\"Lista de Menções DBPedia: \", str(sent.dbpedia_mentions))    \n",
    "    \n",
    "    print(\"-\"*100)\n",
    "    \n",
    "#s_disp = td.nlp_processor(td.sentences[4].text)\n",
    "#spacy.displacy.render(s_disp, style=\"dep\", options = {\"compact\": True})    "
   ]
  },
  {
   "cell_type": "markdown",
   "metadata": {},
   "source": [
    "### Carga e alinhamento dos dados anotados pelo PALAVRAS"
   ]
  },
  {
   "cell_type": "code",
   "execution_count": null,
   "metadata": {
    "tags": []
   },
   "outputs": [],
   "source": [
    "import helper_palavras as h_pal \n",
    "from text_document import TextDocument\n",
    "\n",
    "ARQ_TEXTO = \"./ccscore/data/texto_exemplo.txt\"\n",
    "ARQ_PALAVRAS = \"./ccscore/data/texto_exemplo_anotado.html\"\n",
    "ARQ_PALAVRAS_ORIG = \"./ccscore/data/texto_exemplo.txt\"\n",
    "\n",
    "try:\n",
    "    with open(ARQ_TEXTO, 'r') as f_text:\n",
    "            orig_text = \" \".join(f_text.readlines())\n",
    "except IOError:\n",
    "    print(f\"Erro ao tentar abrir o arquivo {ARQ_TEXTO}\")\n",
    "\n",
    "\n",
    "\n"
   ]
  },
  {
   "cell_type": "code",
   "execution_count": null,
   "metadata": {},
   "outputs": [],
   "source": [
    "tp = h_pal.parse_file_toclass(ARQ_PALAVRAS,\n",
    "                              ARQ_PALAVRAS_ORIG)\n",
    "td = TextDocument(orig_text, tp)"
   ]
  },
  {
   "cell_type": "code",
   "execution_count": null,
   "metadata": {},
   "outputs": [],
   "source": [
    "t_doc = '\"Aceito a oferta.\" disse ele'\n",
    "doc = td.nlp_processor(t_doc)\n",
    "\n",
    "for t in doc:\n",
    "    print(t)"
   ]
  },
  {
   "cell_type": "code",
   "execution_count": null,
   "metadata": {},
   "outputs": [],
   "source": [
    "import split_utils as su\n",
    "t_doc = '''\"Aceito votar autonomia do Banco, aceito, é claro, votar os depósitos voluntários, mas aí temos que organizar melhor a pauta até o fim do ano. É só o governo ter boa vontade na reforma tributária\", disse Maia, ao participar de evento organizado pelo Itaú. \"A reforma tributária tem importância muito maior que autonomia do Banco Central\", comentou.'''\n",
    "su.split_by_sentence(t_doc)\n"
   ]
  },
  {
   "cell_type": "code",
   "execution_count": null,
   "metadata": {},
   "outputs": [],
   "source": [
    "\n",
    "#for s in td.sentences:\n",
    "#    for t_sp, t_pal in zip(s.annotated, s.palavras_sentence):\n",
    "#        print(t_sp.text, t_sp.pos_, t_pal.text)\n",
    "\n",
    "from collections import defaultdict\n",
    "\n",
    "aligned_sentences = defaultdict()\n",
    "for idx_sentence, s in enumerate(td.sentences):\n",
    "\n",
    "    aligned_pal_tokens = defaultdict()\n",
    "    #aligned_spa_tokens = defaultdict()\n",
    "    idx_token = 0\n",
    "    pal_idx_token = 0\n",
    "    spa_idx_token = 0\n",
    "    pal_token_text = \"\"\n",
    "    spa_token_text = \"\"\n",
    "    pal_tokens_list = []\n",
    "    spa_tokens_list = []\n",
    "    it_t_spa = iter(s.annotated)\n",
    "    for t_pal in s.palavras_sentence:   \n",
    "        \n",
    "        # tokens that has composition, stay together    \n",
    "        if any(\"<sam->\" in tag for tag,_ in t_pal.tags):\n",
    "            pal_token_text += t_pal.text+\" + \" \n",
    "            pal_tokens_list.append(t_pal)    \n",
    "            continue\n",
    "        else:\n",
    "            # first token from palavras\n",
    "            pal_token_text += t_pal.text\n",
    "            pal_tokens_list.append(t_pal)\n",
    "\n",
    "        # first token from spacy\n",
    "        token_spa = next(it_t_spa)\n",
    "        spa_token_text += token_spa.text\n",
    "        spa_tokens_list.append(token_spa)\n",
    "\n",
    "        # tokens of proper names are grouped in palavras but,\n",
    "        # in spacy not\n",
    "        #if any(\" \" in tag for tag,_ in t_pal.tags):\n",
    "        if \" \" in t_pal.text:\n",
    "            for _ in range(len(t_pal.text.split(' '))-1):\n",
    "                token_spa = next(it_t_spa)\n",
    "                spa_token_text += \" \"+token_spa.text\n",
    "                spa_tokens_list.append(token_spa)\n",
    "\n",
    "        aligned_pal_tokens[idx_token] = {'text': pal_token_text,\n",
    "                                        'pal_tokens': pal_tokens_list,\n",
    "                                        'spa_tokens': spa_tokens_list,\n",
    "                                        'pal_start_idx': pal_idx_token,\n",
    "                                        'spa_start_idx': spa_idx_token\n",
    "                                        }\n",
    "\n",
    "        print(pal_token_text, \" <-> \", spa_token_text)\n",
    "        idx_token += 1\n",
    "        pal_idx_token += len(pal_tokens_list)\n",
    "        spa_idx_token += len(spa_tokens_list)\n",
    "        pal_token_text = \"\"\n",
    "        spa_token_text = \"\"\n",
    "        pal_tokens_list = []\n",
    "        spa_tokens_list = []\n",
    "\n",
    "    aligned_sentences[idx_sentence] = aligned_pal_tokens\n",
    "    #aligned_pal_tokens"
   ]
  },
  {
   "cell_type": "code",
   "execution_count": null,
   "metadata": {},
   "outputs": [],
   "source": [
    "for s in aligned_sentences.values():\n",
    "    for apt in s.values():\n",
    "        print(apt)\n",
    "        print([str(x) for x in apt['pal_tokens']])\n",
    "        print(f\"{'='*100}\\n\")\n"
   ]
  },
  {
   "cell_type": "code",
   "execution_count": null,
   "metadata": {
    "tags": []
   },
   "outputs": [],
   "source": [
    "import helper_palavras as h_pal \n",
    "\n",
    "tp = h_pal.parse_file_toclass(\"../ccscore/data/texto_exemplo_anotado.html\",\n",
    "                              \"../ccscore/data/texto_exemplo.txt\"  )\n"
   ]
  }
 ],
 "metadata": {
  "kernelspec": {
   "display_name": "Python 3",
   "language": "python",
   "name": "python3"
  },
  "language_info": {
   "codemirror_mode": {
    "name": "ipython",
    "version": 3
   },
   "file_extension": ".py",
   "mimetype": "text/x-python",
   "name": "python",
   "nbconvert_exporter": "python",
   "pygments_lexer": "ipython3",
   "version": "3.8.5"
  }
 },
 "nbformat": 4,
 "nbformat_minor": 2
}
