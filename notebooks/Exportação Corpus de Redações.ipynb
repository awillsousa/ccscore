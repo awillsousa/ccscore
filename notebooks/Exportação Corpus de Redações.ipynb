{
 "cells": [
  {
   "cell_type": "code",
   "execution_count": null,
   "id": "surprised-favorite",
   "metadata": {},
   "outputs": [],
   "source": [
    "import pandas as pd"
   ]
  },
  {
   "cell_type": "code",
   "execution_count": null,
   "id": "crucial-telephone",
   "metadata": {
    "scrolled": true
   },
   "outputs": [],
   "source": [
    "df_redacoes = pd.read_json(\"../ccscore/data/todas_redacoes_norm.json\")\n",
    "\n",
    "df_redacoes"
   ]
  },
  {
   "cell_type": "code",
   "execution_count": null,
   "id": "junior-composition",
   "metadata": {},
   "outputs": [],
   "source": [
    "l1 = df_redacoes.iloc[0,:]\n",
    "\n",
    "num = 0\n",
    "titulo = l1['title']\n",
    "texto = l1['original']\n",
    "fixed = l1['fixed']\n",
    "review = l1['review']\n",
    "notas = l1['criteria']\n",
    "comments = l1['comments']\n",
    "\n",
    "lf = 25*\"**\"\n",
    "lt = f\"{lf} {titulo} {lf}\"\n",
    "ll = f\"{lf} {lf} {lf}\\n\"\n",
    "print(lt)\n",
    "print(texto)\n",
    "print(ll)\n",
    "print(fixed)\n",
    "print(ll)\n",
    "print(review)\n",
    "print(ll)\n",
    "print(comments)\n",
    "print(ll)\n",
    "print(notas)\n",
    "print(ll)\n",
    "\n",
    "#with open(f\"r_{num}_{titulo.replace(' ', '_').replace('Título:', '')}\", \"w\") as f_redacao:\n",
    "#    f_redacao.write(texto)\n",
    "    \n",
    "\n",
    "    "
   ]
  },
  {
   "cell_type": "code",
   "execution_count": null,
   "id": "lesbian-section",
   "metadata": {},
   "outputs": [],
   "source": [
    "PATH_REDACOES = \"./redacoes/\"\n",
    "\n",
    "\n",
    "for i,row in df_redacoes.iterrows():    \n",
    "    titulo = row['title']\n",
    "    texto = row['original']    \n",
    "    notas = row['criteria']    \n",
    "    \n",
    "    nome_f = titulo.replace(' ', '_').replace('Título:', '').replace('/','_')\n",
    "    \n",
    "    with open(f\"{PATH_REDACOES}r_{i}_{nome_f}\", \"w\") as f_redacao:\n",
    "        f_redacao.write(texto)\n",
    "        "
   ]
  },
  {
   "cell_type": "code",
   "execution_count": null,
   "id": "successful-tunisia",
   "metadata": {},
   "outputs": [],
   "source": [
    "from urllib.parse import quote\n",
    "from urllib.request import urlretrieve\n",
    "\n",
    "text_to_parse=texto\n",
    "text_to_parse = quote(text_to_parse)\n",
    "URL_PARSER=\"https://visl.sdu.dk/cgi-bin/visl.pt.cgi?text=\"+text_to_parse+\"&parser=parse&visual=niceline&heads=&symbol=&multisearch=&searchtype=&inputlang=pt\"\n",
    "\n",
    "#URL_T = \"https://visl.sdu.dk/cgi-bin/visl.pt.cgi?text=As+guerras+qu%C3%ADmicas+e+biol%C3%B3gicas+se+definem+como+conflitos+silenciosos+e+devastadores.+O+historiador+grego+Tuc%C3%ADdides+conta+que+os+espartanos+usaram+de+madeira+com+piche+e+enxofre+em+muros+inimigos+para+causar+altos+vapores+sufocantes.+Hoje%2C+no+entanto%2C+a+tecnologia+evoluiu+a+passos+largos+possibilitando+que+at%C3%A9+pa%C3%ADses+subdesenvolvidos+produzam+armas+qu%C3%ADmicas+dispondo+de+um+setor+industrial+mediano+na+%C3%A1rea+de+fertilizantes+e+defensores+agr%C3%ADcolas.%0D%0AOs+ataques+qu%C3%ADmicos+podem+se+dar+de+forma+s%C3%B3lida%2C+l%C3%ADquida+e+gasosa%2C+sendo+a+%C3%BAltima+a+mais+comum.+Algumas+figuras+da+hist%C3%B3ria+ficaram+conhecidas+como+qu%C3%ADmicos+de+guerra%2C+por+exemplo%2C+os+alem%C3%A3es+Fritz+Haber+e+Gehard%2C+o+primeiro+causando+v%C3%A1rias+mortes+em+Ypres+por+g%C3%A1s+Cloro+e+o+segundo+criando+gases+como+Tabum%2C+Sarin+e+Soman.+As+consequ%C3%AAncias+s%C3%A3o+lastim%C3%A1veis%2C+como+paralisias%2C+asfixias%2C+edemas+e+coma+profundo+causado+pela+a%C3%A7%C3%A3o+dos+gases+Cian%C3%ADdrico%2C+Mostarda%2C+Sarin+e+VX%2C+outros+como+o+Nalpam+usado+na+guerra+do+Vietn%C3%A3+%C3%A9+capaz+de+fundir+at%C3%A9+ossos%2C+este+foi+usado+conjuntamente+com+o+chamado+agente+laranja.%0D%0AAo+lado+dos+agentes+qu%C3%ADmicos+se+d%C3%A3o+os+biol%C3%B3gicos%2C+que+s%C3%A3o+considerados+at%C3%A9+mais+perigosos+e+tidos+como+um+inimigo+invis%C3%ADvel.+A+atua%C3%A7%C3%A3o+destes+se+d%C3%A1+pela+transmiss%C3%A3o+de+agentes+bacteriol%C3%B3gicos+e+virais+trazendo+doen%C3%A7as+como+a+Dengue%2C+Var%C3%ADola%2C+Botulismo+e+Antraz+pela+difus%C3%A3o+de+esporos+contaminados.+A+multiplica%C3%A7%C3%A3o+bacteriana+e+viral+se+d%C3%A1+em+progress%C3%A3o+geom%C3%A9trica+atingindo+grandes+contingentes+em+pouco+tempo+e+vitimando+n%C3%A3o+apenas+o+lado+tido+como+inimigo+no+conflito%2C+mas+tamb%C3%A9m+civis+inocentes+causando+mortes%2C+sequelas+e+migra%C3%A7%C3%B5es+for%C3%A7adas.+Felizmente%2C+o+uso+biol%C3%B3gico+de+armas+foi+proibido+pela+ONU+em+1970+e+espera-se+que+nos+dias+atuais+em+meio+a+tantos+conflitos+tal+decis%C3%A3o+seja+respeitada+e+cumprida.%0D%0AFica+claro%2C+portanto%2C+que+essas+guerras+silenciosas+e+degradantes+est%C3%A3o+destruindo+a+pr%C3%B3pria+esp%C3%A9cie+humana%2C+se+aproximando+da+m%C3%A1xima+de+Thomas+Hobbes+na+qual+afirma+que+homem+%C3%A9+o+lobo+do+homem+.+Logo%2C+se+faz+necess%C3%A1ri+uma+maior+fiscaliza%C3%A7%C3%A3o+mediada+por+%C3%B3rg%C3%A3os+supranacionais+como+a+ONU+a+fim+de+evitar+a+ind%C3%BAstria+clandestina+qu%C3%ADmica+e+biol%C3%B3gica+de+guerra+em+muitos+pa%C3%ADses%2C+al%C3%A9m+de+alian%C3%A7as+diplom%C3%A1ticas+entre+na%C3%A7%C3%B5es+e+difus%C3%A3o+de+uma+pol%C3%ADtica+mundial+pela+paz+e+pela+vida%2C+seja+esta+mediada+por+%C3%B3rg%C3%A3os+internacionais%2C+ONG%E2%80%99s+ou+pelo+mar+midi%C3%A1tico+atual.&parser=roles&visual=cg-dep&heads=&symbol=unfiltered&multisearch=&searchtype=&inputlang=pt\"\n"
   ]
  },
  {
   "cell_type": "code",
   "execution_count": null,
   "id": "unlimited-nicaragua",
   "metadata": {
    "scrolled": true
   },
   "outputs": [],
   "source": [
    "import requests\n",
    "import random\n",
    "import time\n",
    "\n",
    "headers = {\n",
    "    \"Accept\": \"text/html,application/xhtml+xml,application/xml;q=0.9,image/webp,image/apng,*/*;q=0.8,application/signed-exchange;v=b3;q=0.9\", \n",
    "    \"Accept-Encoding\": \"gzip, deflate\", \n",
    "    \"Accept-Language\": \"en-GB,en-US;q=0.9,en;q=0.8\", \n",
    "    \"Dnt\": \"1\", \n",
    "    \"Host\": \"httpbin.org\", \n",
    "    \"Upgrade-Insecure-Requests\": \"1\", \n",
    "    \"User-Agent\": \"Mozilla/5.0 (Macintosh; Intel Mac OS X 10_15_4) AppleWebKit/537.36 (KHTML, like Gecko) Chrome/83.0.4103.97 Safari/537.36\", \n",
    "  }\n",
    "url_endpoint = 'https://visl.sdu.dk/cgi-bin/visl.pt.cgi'\n",
    "\n",
    "last_parsed = 3075\n",
    "parsed_texts = []\n",
    "\n",
    "for i,row in df_redacoes.iterrows():\n",
    "    # anotar somente o que estiver faltando\n",
    "    if i < last_parsed:\n",
    "        print(f\"Pulando redação {i}\")\n",
    "        continue\n",
    "    \n",
    "    print(f\"Processando redação {i}\")\n",
    "    time_wait = random.randint(30, 180)\n",
    "    print(f\"Esperando {time_wait} para baixar o próximo...\")\n",
    "    time.sleep(time_wait)\n",
    "    titulo = row['title']\n",
    "    texto = row['original']    \n",
    "    notas = row['criteria']    \n",
    "    \n",
    "    \n",
    "    dic_params = {'text': texto,\n",
    "                     'parser':'roles',\n",
    "                     'visual':'cg-dep',\n",
    "                     'heads':'',\n",
    "                     'symbol':'unfiltered',\n",
    "                     'multisearch':'',\n",
    "                     'searchtype':'',\n",
    "                     'inputlang':'pt'}\n",
    "        \n",
    "    print(f\"Requisição para parsear arquivo {titulo}\")    \n",
    "    #resp = requests.get(url_endpoint, headers=headers, params=dic_params)\n",
    "\n",
    "    try:\n",
    "        resp = requests.get(url_endpoint, headers=headers, params=dic_params)\n",
    "        resp.raise_for_status()\n",
    "    except requests.exceptions.HTTPError as errh:\n",
    "        print (\"Erro Http: \",errh)\n",
    "    except requests.exceptions.ConnectionError as errc:\n",
    "        print (\"Erro na Conexão: \",errc)\n",
    "    except requests.exceptions.Timeout as errt:\n",
    "        print (\"Timeout: \",errt)        \n",
    "    \n",
    "    if resp.status_code == 200:\n",
    "        print(\"Requesição efetuado com sucesso!\")\n",
    "        parsed_texts.append(resp.text)\n",
    "        print(\"Gravando arquivo... \")\n",
    "        nome_f = titulo.replace(' ', '_').replace('Título:', '').replace('/','_')    \n",
    "        with open(f\"{PATH_REDACOES}r_{i}_{nome_f}.html\", \"w\") as f_redacao:\n",
    "            f_redacao.write(resp.text)\n",
    "    else:\n",
    "        print(\"Erro na requisição. Sem dados parseados.\")\n",
    "        parsed_texts.append(\"\")"
   ]
  },
  {
   "cell_type": "code",
   "execution_count": null,
   "id": "diagnostic-raise",
   "metadata": {},
   "outputs": [],
   "source": [
    "df_temp.iloc[3050, :]"
   ]
  },
  {
   "cell_type": "code",
   "execution_count": null,
   "id": "cutting-essence",
   "metadata": {},
   "outputs": [],
   "source": [
    "from pathlib import Path\n",
    "\n",
    "path = Path(PATH_REDACOES)\n",
    "\n",
    "new_parseds = []\n",
    "for i,arq in enumerate(path.rglob('*.html')):\n",
    "    print(f\"Processando arquivo {arq}\")\n",
    "    \n",
    "    num_redacao = int(str(arq).split(\"_\")[1])    \n",
    "    with open(arq, 'r') as arq_redacao:\n",
    "        linhas_redacao = arq_redacao.readlines()\n",
    "        texto_redacao = \"\\n\".join(linhas_redacao)\n",
    "        new_parseds.append(texto_redacao)\n",
    "\n",
    "    df_temp.at[num_redacao, 'annotated'] = texto_redacao\n",
    "        \n",
    "        \n",
    "    \n",
    "    "
   ]
  },
  {
   "cell_type": "code",
   "execution_count": null,
   "id": "hispanic-maker",
   "metadata": {},
   "outputs": [],
   "source": []
  },
  {
   "cell_type": "code",
   "execution_count": null,
   "id": "prospective-elite",
   "metadata": {},
   "outputs": [],
   "source": [
    "df_temp = df_redacoes.copy(deep=True)"
   ]
  },
  {
   "cell_type": "code",
   "execution_count": null,
   "id": "burning-bandwidth",
   "metadata": {},
   "outputs": [],
   "source": [
    "df_temp[\"annotated\"] = \"\""
   ]
  },
  {
   "cell_type": "code",
   "execution_count": null,
   "id": "human-space",
   "metadata": {},
   "outputs": [],
   "source": [
    "df_temp.head()"
   ]
  },
  {
   "cell_type": "code",
   "execution_count": null,
   "id": "generic-colombia",
   "metadata": {},
   "outputs": [],
   "source": [
    "len(df_temp[df_temp.annotated != \"\"])"
   ]
  },
  {
   "cell_type": "code",
   "execution_count": null,
   "id": "taken-lloyd",
   "metadata": {},
   "outputs": [],
   "source": [
    "dt_all.columns = ['title',\n",
    " 'url',\n",
    " 'score',\n",
    " 'original',\n",
    " 'fixed',\n",
    " 'review',\n",
    " 'comments',\n",
    " 'errors',\n",
    " 'criteria',\n",
    " 'annotated']"
   ]
  },
  {
   "cell_type": "code",
   "execution_count": null,
   "id": "preliminary-juvenile",
   "metadata": {},
   "outputs": [],
   "source": [
    "df_temp.to_json(\"../ccscore/data/todas_redacoes_norm_annotated.json\")"
   ]
  }
 ],
 "metadata": {
  "kernelspec": {
   "display_name": "Python 3",
   "language": "python",
   "name": "python3"
  },
  "language_info": {
   "codemirror_mode": {
    "name": "ipython",
    "version": 3
   },
   "file_extension": ".py",
   "mimetype": "text/x-python",
   "name": "python",
   "nbconvert_exporter": "python",
   "pygments_lexer": "ipython3",
   "version": "3.8.5"
  }
 },
 "nbformat": 4,
 "nbformat_minor": 5
}
