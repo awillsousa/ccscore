{
 "cells": [
  {
   "cell_type": "markdown",
   "id": "communist-dallas",
   "metadata": {},
   "source": [
    "### Anotação das cadeias de correferências"
   ]
  },
  {
   "cell_type": "code",
   "execution_count": null,
   "id": "norwegian-execution",
   "metadata": {},
   "outputs": [],
   "source": [
    "import pandas as pd\n",
    "import pickle\n",
    "\n",
    "PATH_REDACOES = \"../ccscore/data/Corpus_Redacoes_Dissertacao.pickle\"\n",
    "REDACOES_COGROO = \"../ccscore/data/Corpus_Redacoes_COGROO.pickle\"\n",
    "REDACOES_PALAVRAS = \"../ccscore/data/Corpus_Redacoes_PALAVRAS.pickle\"\n",
    "REDACOES_CORP = \"../ccscore/data/Corpus_Redacoes_CORP.pickle\"\n",
    "REDACOES_EL = \"../ccscore/data/Corpus_Redacoes_EL.pickle\""
   ]
  },
  {
   "cell_type": "code",
   "execution_count": null,
   "id": "dietary-george",
   "metadata": {},
   "outputs": [],
   "source": [
    "# Carrega a base de redações\n",
    "df_redacao = pickle.load(open(PATH_REDACOES, 'rb'))\n",
    "df_redacao"
   ]
  },
  {
   "cell_type": "markdown",
   "id": "cooked-jones",
   "metadata": {},
   "source": [
    "### Carga dos dados anotados pelo PALAVRAS"
   ]
  },
  {
   "cell_type": "code",
   "execution_count": null,
   "id": "seeing-interim",
   "metadata": {},
   "outputs": [],
   "source": [
    "dados_palavras = pickle.load(open(REDACOES_PALAVRAS, 'rb'))\n"
   ]
  },
  {
   "cell_type": "code",
   "execution_count": null,
   "id": "provincial-sheet",
   "metadata": {},
   "outputs": [],
   "source": [
    "num_redacao = 0\n",
    "texto = df_redacao['Texto'][num_redacao]\n",
    "print(texto)\n",
    "print('\\n',100*\"%\", '\\n')\n",
    "print(dados_palavras[num_redacao])\n",
    "\n",
    "\n",
    "print(f\"Total de redacoes: {df_redacao.shape[0]}\")\n",
    "print(f\"Total de anotações PALAVRAS: {len(dados_palavras)}\")"
   ]
  },
  {
   "cell_type": "markdown",
   "id": "exceptional-subcommittee",
   "metadata": {},
   "source": [
    "### Carga dos dados anotados pelo Cogroo"
   ]
  },
  {
   "cell_type": "code",
   "execution_count": null,
   "id": "physical-agenda",
   "metadata": {},
   "outputs": [],
   "source": [
    "dados_cogroo = pickle.load(open(REDACOES_COGROO, 'rb'))"
   ]
  },
  {
   "cell_type": "code",
   "execution_count": null,
   "id": "decreased-quarterly",
   "metadata": {},
   "outputs": [],
   "source": [
    "dir(dados_cogroo[0])"
   ]
  },
  {
   "cell_type": "code",
   "execution_count": null,
   "id": "relative-fault",
   "metadata": {},
   "outputs": [],
   "source": [
    "num_redacao = 0\n",
    "texto = df_redacao['Texto'][num_redacao]\n",
    "print(texto)\n",
    "print('\\n',100*\"%\", '\\n')\n",
    "print(dados_cogroo[num_redacao].mistakes)\n",
    "\n",
    "\n",
    "print(f\"Total de redacoes: {df_redacao.shape[0]}\")\n",
    "print(f\"Total de anotações PALAVRAS: {len(dados_cogroo)}\")"
   ]
  },
  {
   "cell_type": "markdown",
   "id": "shaped-vacation",
   "metadata": {},
   "source": [
    "### Carga dos dados anotados pelo CORP"
   ]
  },
  {
   "cell_type": "code",
   "execution_count": null,
   "id": "promising-wilson",
   "metadata": {},
   "outputs": [],
   "source": [
    "dados_corp = pickle.load(open(REDACOES_CORP, 'rb'))\n"
   ]
  },
  {
   "cell_type": "code",
   "execution_count": null,
   "id": "muslim-baseline",
   "metadata": {},
   "outputs": [],
   "source": [
    "dados_corp[0]['ConteudoXML']['Cadeias']"
   ]
  },
  {
   "cell_type": "code",
   "execution_count": null,
   "id": "finished-planner",
   "metadata": {},
   "outputs": [],
   "source": [
    "num_redacao = 0\n",
    "texto = df_redacao['Texto'][num_redacao]\n",
    "print(texto)\n",
    "print('\\n',100*\"%\", '\\n')\n",
    "print(dados_corp[num_redacao]['ConteudoXML']['Cadeias'])\n",
    "\n",
    "\n",
    "print(f\"Total de redacoes: {df_redacao.shape[0]}\")\n",
    "print(f\"Total de anotações PALAVRAS: {len(dados_corp)}\")"
   ]
  },
  {
   "cell_type": "markdown",
   "id": "recovered-insider",
   "metadata": {},
   "source": [
    "### Carga dos dados anotados pelo ANN Linker"
   ]
  },
  {
   "cell_type": "code",
   "execution_count": null,
   "id": "laughing-directory",
   "metadata": {},
   "outputs": [],
   "source": [
    "dados_el = pickle.load(open(REDACOES_EL, 'rb'))\n"
   ]
  },
  {
   "cell_type": "code",
   "execution_count": null,
   "id": "offshore-vietnam",
   "metadata": {},
   "outputs": [],
   "source": [
    "dados_el = pd.DataFrame(dados_el[['Entidades']])"
   ]
  },
  {
   "cell_type": "code",
   "execution_count": null,
   "id": "abroad-template",
   "metadata": {},
   "outputs": [],
   "source": [
    "#dados_f_el = {k:v for k,v in dados_el.items() if len(v['kb_id']) > 0}\n"
   ]
  },
  {
   "cell_type": "code",
   "execution_count": null,
   "id": "compliant-permission",
   "metadata": {},
   "outputs": [],
   "source": [
    "len(dados_f_el)"
   ]
  },
  {
   "cell_type": "markdown",
   "id": "medieval-petersburg",
   "metadata": {},
   "source": [
    "A saída do código abaixo mostra situações onde a vinculação de entidades será importante, \n",
    "por conta de determinar a relação entre o nome de uma entidade e o seu acrônimo. Também,\n",
    "mostra uma situação onde o vínculo é estabelecido, ainda que a grafia esteja ora correta,\n",
    "ora incorreta. Esse mesmo mecanismo é utilizado em sistemas de busca, mas para o nosso estudo\n",
    "permite executar a análise semelhante ao que faz o leitor humano. Uma vez que o mesmo, ainda que\n",
    "se dê conta do erro de grafia, vincula a representação grafada erroneamente ao nome correto da \n",
    "entidade, recuperando a vinculação coesiva ensejada pelo escritor. "
   ]
  },
  {
   "cell_type": "code",
   "execution_count": null,
   "id": "material-bangladesh",
   "metadata": {},
   "outputs": [],
   "source": [
    "print(f\"Zicavírus : {dados_f_el['Zicavírus']}\")\n",
    "print(f\"Zika vírus : {dados_f_el['Zika vírus']}\")\n",
    "\n",
    "print(f\"Conselho Nacional de Justiça : {dados_f_el['Conselho Nacional de Justiça']}\")\n",
    "print(f\"CNJ : {dados_f_el['CNJ']}\")\n"
   ]
  },
  {
   "cell_type": "markdown",
   "id": "supported-black",
   "metadata": {},
   "source": [
    "### Unificação das informações em um único dataframe"
   ]
  },
  {
   "cell_type": "code",
   "execution_count": null,
   "id": "sustainable-visiting",
   "metadata": {},
   "outputs": [],
   "source": [
    "df_redacao['Cadeias'] = [dados_corp[x]['ConteudoXML']['Cadeias'] for x in range(df_redacao.shape[0])]"
   ]
  },
  {
   "cell_type": "code",
   "execution_count": null,
   "id": "balanced-corrections",
   "metadata": {},
   "outputs": [],
   "source": [
    "del dados_corp"
   ]
  },
  {
   "cell_type": "code",
   "execution_count": null,
   "id": "rapid-latter",
   "metadata": {
    "scrolled": true
   },
   "outputs": [],
   "source": [
    "df_redacao['Palavras'] = [dados_palavras[x] for x in range(df_redacao.shape[0])]"
   ]
  },
  {
   "cell_type": "code",
   "execution_count": null,
   "id": "lightweight-paraguay",
   "metadata": {},
   "outputs": [],
   "source": [
    "del dados_palavras"
   ]
  },
  {
   "cell_type": "code",
   "execution_count": null,
   "id": "universal-shame",
   "metadata": {},
   "outputs": [],
   "source": [
    "df_redacao['Erros'] = [dados_cogroo[x].mistakes if dados_cogroo[x] is not None \n",
    "                       else [] for x in range(df_redacao.shape[0])]"
   ]
  },
  {
   "cell_type": "code",
   "execution_count": null,
   "id": "headed-muslim",
   "metadata": {},
   "outputs": [],
   "source": [
    "del dados_cogroo"
   ]
  },
  {
   "cell_type": "code",
   "execution_count": null,
   "id": "sufficient-bubble",
   "metadata": {},
   "outputs": [],
   "source": [
    "df_redacao = pd.concat([df_redacao,dados_el], axis = 1)\n",
    "\n",
    "df_redacao"
   ]
  },
  {
   "cell_type": "code",
   "execution_count": null,
   "id": "addressed-ghost",
   "metadata": {},
   "outputs": [],
   "source": [
    "pickle.dump(df_redacao, open('Corpus_Redacoes_Completo.pickle', 'wb'))"
   ]
  }
 ],
 "metadata": {
  "kernelspec": {
   "display_name": "Python 3",
   "language": "python",
   "name": "python3"
  },
  "language_info": {
   "codemirror_mode": {
    "name": "ipython",
    "version": 3
   },
   "file_extension": ".py",
   "mimetype": "text/x-python",
   "name": "python",
   "nbconvert_exporter": "python",
   "pygments_lexer": "ipython3",
   "version": "3.8.5"
  }
 },
 "nbformat": 4,
 "nbformat_minor": 5
}
