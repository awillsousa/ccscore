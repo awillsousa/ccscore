{
 "cells": [
  {
   "cell_type": "markdown",
   "metadata": {},
   "source": [
    "### Testes básicos do funcionamento do CCScore"
   ]
  },
  {
   "cell_type": "code",
   "execution_count": 1,
   "metadata": {},
   "outputs": [],
   "source": [
    "from infernal import feature_extraction as fe\n",
    "from infernal import datastructures as ds\n",
    "import spacy"
   ]
  },
  {
   "cell_type": "code",
   "execution_count": 2,
   "metadata": {},
   "outputs": [],
   "source": [
    "nlp = spacy.load('pt_core_news_lg')"
   ]
  },
  {
   "cell_type": "code",
   "execution_count": null,
   "metadata": {},
   "outputs": [],
   "source": [
    "# Instalações de pacotes\n",
    "#!python -m spacy download pt_core_news_lg\n",
    "#!python -m spacy download pt_core_news_lg\n",
    "#!pip install zss rdflib\n",
    "#!conda install -y scipy\n",
    "#!conda install -y pandas\n",
    "#!pip install python-dotenv"
   ]
  },
  {
   "cell_type": "code",
   "execution_count": 3,
   "metadata": {},
   "outputs": [
    {
     "data": {
      "text/plain": [
       "'Defendida por agentes do mercado financeiro e uma das bandeiras da equipe econômica do governo Jair Bolsonaro, o projeto de autonomia do Banco Central (BC) deve avançar na Câmara só após a reforma tributária andar, no que depender do presidente da Casa, Rodrigo Maia (DEM-RJ). Para ele, o projeto sobre a instituição presidida por Roberto Campos Neto não é urgente no curto prazo.\\n\"Aceito votar autonomia do Banco, aceito, é claro, votar os depósitos voluntários, mas aí temos que organizar melhor a pauta até o fim do ano. É só o governo ter boa vontade na reforma tributária\", disse Maia, ao participar de evento organizado pelo Itaú. \"A reforma tributária tem importância muito maior que autonomia do Banco Central\", comentou.\\n'"
      ]
     },
     "execution_count": 3,
     "metadata": {},
     "output_type": "execute_result"
    }
   ],
   "source": [
    "texto = '''Defendida por agentes do mercado financeiro e uma das bandeiras da equipe econômica do governo Jair Bolsonaro, o projeto de autonomia do Banco Central (BC) deve avançar na Câmara só após a reforma tributária andar, no que depender do presidente da Casa, Rodrigo Maia (DEM-RJ). Para ele, o projeto sobre a instituição presidida por Roberto Campos Neto não é urgente no curto prazo.\n",
    "\"Aceito votar autonomia do Banco, aceito, é claro, votar os depósitos voluntários, mas aí temos que organizar melhor a pauta até o fim do ano. É só o governo ter boa vontade na reforma tributária\", disse Maia, ao participar de evento organizado pelo Itaú. \"A reforma tributária tem importância muito maior que autonomia do Banco Central\", comentou.\n",
    "'''\n",
    "\n",
    "#O projeto de autonomia do BC foi aprovado na terça-feira, 3, pelo Senado e agora precisa do aval dos deputados para virar lei. O texto mantém o controle dos preços como objetivo central, mas inclui ainda duas novas metas acessórias, sem prejuízo à principal: suavizar as flutuações do nível de atividade econômica e fomentar o pleno emprego no País. O governo concordou com a redação da proposta, apesar de o BC ser historicamente contrário a ampliar o escopo da atuação.\n",
    "#Maia já reclamou outras vezes da falta de empenho e atuação do governo para se aprovar a medida. Na semana passada, acusou o presidente do Banco Central, Roberto Campos Neto, de ter vazado informações sobre conversa que os dois tiveram no dia da decisão do Comitê de Política Monetária (Copom), que manteve a taxa Selic em 2% ao ano.\n",
    "#Ao jornal O Estado de S. Paulo, Maia criticou a articulação do presidente do BC em alertar sobre os reflexos para a economia da dificuldade do Congresso em avançar com as votações da pauta de ajuste fiscal. Segundo o presidente da Câmara, Campos Neto tentou fazer uma articulação política, sem combinar, o que não seria papel dele, mas dos ministros da Economia, Paulo Guedes, e da articulação política, Luiz Eduardo Ramos.\n",
    "#Nesta sexta-feira, o presidente da Câmara lembrou que havia uma proposta de autonomia do BC semelhante na Câmara, mas que não foi votada, e disse que não comentou até agora sobre o tema porque não foi procurado pelo governo para falar sobre o assunto. \"Se eu conseguisse conversar com alguém do governo, eu poderia te responder, mas ninguém me procura. Não vou conversar com a imprensa antes de conversar com o governo\", disse.\n",
    "#Como o Broadcast (sistema de notícias em tempo real do Grupo Estado) mostrou na quinta-feira, deputados já se articulam na Câmara para modificar o projeto aprovado pelo Senado. O partido Novo, por exemplo, quer enxugar a proposta que recebeu aval dos senadores para reduzir os chamados acessórios que foram colocados para o Banco Central.\n",
    "#Sobre a reforma tributária, Maia deu sinais de que quer aprovar o projeto antes de deixar a presidência da Casa e acredita que com acordo pode fazer isso rapidamente.'''\n",
    "#'''\n",
    "\n",
    "texto"
   ]
  },
  {
   "cell_type": "markdown",
   "metadata": {},
   "source": [
    "Processamento básico dos textos é feito com Spacy, \n",
    "mas de forma interno às classes do ccscore"
   ]
  },
  {
   "cell_type": "code",
   "execution_count": null,
   "metadata": {},
   "outputs": [],
   "source": [
    "textdoc = nlp(texto)"
   ]
  },
  {
   "cell_type": "code",
   "execution_count": null,
   "metadata": {},
   "outputs": [],
   "source": [
    "def paragraphs(document):\n",
    "    '''\n",
    "    Generator to define start positions\n",
    "    of paragraphs\n",
    "    '''\n",
    "    start = 0\n",
    "    for token in document:\n",
    "        if token.is_space and token.text.count(\"\\n\") > 1:\n",
    "            yield document[start:token.i]\n",
    "            start = token.i\n",
    "    yield document[start:]"
   ]
  },
  {
   "cell_type": "code",
   "execution_count": null,
   "metadata": {},
   "outputs": [],
   "source": [
    "from itertools import tee\n",
    "\n",
    "def pairwise(iterable):\n",
    "    '''\n",
    "    Receive an iterable and return\n",
    "    an list with tuples of this elements\n",
    "    is this way    \n",
    "    s -> (s0,s1), (s1,s2), (s2, s3), ...\n",
    "    '''\n",
    "    a, b = tee(iterable)    \n",
    "    next(b, None)  # next(b) it's Ok \n",
    "    return zip(a, b)"
   ]
  },
  {
   "cell_type": "code",
   "execution_count": 4,
   "metadata": {},
   "outputs": [],
   "source": [
    "import helper_palavras as h_pal \n",
    "from text_document import TextDocument\n",
    "\n",
    "ARQ_TEXTO = \"./data/texto_exemplo.txt\"\n",
    "ARQ_PALAVRAS = \"./data/texto_exemplo_anotado.html\"\n",
    "ARQ_PALAVRAS_ORIG = \"./data/texto_exemplo.txt\"\n",
    "\n",
    "try:\n",
    "    with open(ARQ_TEXTO, 'r') as f_text:\n",
    "            orig_text = \" \".join(f_text.readlines())\n",
    "except IOError:\n",
    "    print(f\"Erro ao tentar abrir o arquivo {ARQ_TEXTO}\")\n",
    "\n",
    "tp = h_pal.parse_file_toclass(ARQ_PALAVRAS,\n",
    "                              ARQ_PALAVRAS_ORIG)\n",
    "                              \n",
    "td = TextDocument(orig_text, tp)\n"
   ]
  },
  {
   "cell_type": "markdown",
   "metadata": {},
   "source": [
    "\n",
    "Listando:    \n",
    "<ol>\n",
    "    <li>Foco Explícito (FE)</li>\n",
    "    <li>Lista intermediária do FE</li>    \n",
    "    <li>Lista das Entidades Nomeadas</li>\n",
    "    <li>Menções da DBPedia</li>\n",
    "</ol>"
   ]
  },
  {
   "cell_type": "code",
   "execution_count": 5,
   "metadata": {
    "scrolled": false
   },
   "outputs": [
    {
     "name": "stdout",
     "output_type": "stream",
     "text": [
      "\n",
      "ID:  0\n",
      "Texto Original:  Defendida por agentes do mercado financeiro e uma das bandeiras da equipe econômica do governo Jair Bolsonaro, o projeto de autonomia do Banco Central (BC) deve avançar na Câmara só após a reforma tributária andar, no que depender do presidente da Casa, Rodrigo Maia (DEM-RJ).\n",
      "\n",
      "Lista de Foco Explícito:  ['projeto', 'equipe', 'bc', 'dem-rj', 'agentes', 'rodrigo maia', 'bandeiras', 'governo jair bolsonaro', 'reforma tributária', 'autonomia', 'câmara', 'casa', 'que', 'banco central', 'mercado financeiro', 'jair bolsonaro', 'presidente']\n",
      "\n",
      "Lista de Foco Implícito:  ['agentes', 'mercado', 'bandeiras', 'equipe', 'governo', 'projeto', 'autonomia', 'Câmara', 'reforma', 'presidente', 'Casa']\n",
      "\n",
      "Lista de Intermediária de FE:  {'projeto': {'esquema', 'planta', 'desenho', 'plano', 'traçado'}, 'equipe': {'conjunto', 'time', 'grupo'}, 'agente': {'propulsor', 'fator', 'causa', 'polícia', 'pivô', 'detective', 'policial', 'delegado', 'detetive', 'promotor', 'investigador', 'motor', 'causador', 'autor', 'impulsor'}, 'bandeira': {'pendão', 'estandarte', 'fação', 'partido', 'facção', 'emblema', 'lábaro', 'signa', 'pavilhão'}, 'autonomia': {'liberdade', 'auto-suficiência', 'desprendimento', 'independência', 'emancipação'}, 'que': {'quão'}, 'presidente': {'presidência'}}\n",
      "\n",
      "Lista de Entidades Nomeadas:  [Jair Bolsonaro, Banco Central, BC, Câmara, Casa, Rodrigo Maia, DEM-RJ]\n",
      "\n",
      "Lista de Menções DBPedia:  ['mercado financeiro', 'governo Jair Bolsonaro', 'Banco Central', 'reforma tributária', 'Rodrigo Maia']\n",
      "----------------------------------------------------------------------------------------------------\n",
      "\n",
      "ID:  1\n",
      "Texto Original:  Para ele, o projeto sobre a instituição presidida por Roberto Campos Neto não é urgente no curto prazo.\n",
      "\n",
      "Lista de Foco Explícito:  ['prazo', 'projeto', 'roberto campos neto', 'ele', 'instituição']\n",
      "\n",
      "Lista de Foco Implícito:  ['projeto', 'instituição', 'prazo']\n",
      "\n",
      "Lista de Intermediária de FE:  {'prazo': {'dilação', 'tempo', 'termo'}, 'projeto': {'esquema', 'planta', 'desenho', 'plano', 'traçado'}, 'instituição': {'empresa', 'convenção', 'código', 'estabelecimento', 'instituto', 'advento', 'fundação', 'entidade', 'sociedade', 'associação', 'firma'}}\n",
      "\n",
      "Lista de Entidades Nomeadas:  [Roberto Campos Neto]\n",
      "\n",
      "Lista de Menções DBPedia:  ['Roberto Campos Neto']\n",
      "----------------------------------------------------------------------------------------------------\n",
      "\n",
      "ID:  2\n",
      "Texto Original:  \"Aceito votar autonomia do Banco, aceito, é claro, votar os depósitos voluntários, mas aí temos que organizar melhor a pauta até o fim do ano.\n",
      "\n",
      "Lista de Foco Explícito:  ['ano', 'banco', 'depósitos', 'autonomia', 'pauta', 'fim']\n",
      "\n",
      "Lista de Foco Implícito:  ['autonomia', 'depósitos', 'pauta', 'fim', 'ano']\n",
      "\n",
      "Lista de Intermediária de FE:  {'depósito': {'alojamento', 'repositório', 'reservatório', 'tanque', 'represa', 'estoque', 'armazém', 'arrecadação', 'custódia', 'almoxarifado'}, 'autonomia': {'liberdade', 'auto-suficiência', 'desprendimento', 'independência', 'emancipação'}, 'fim': {'desenredo', 'finamento', 'desenlace', 'fundo', 'postimária', 'morte', 'escopo', 'exterminação', 'terminação', 'solução', 'extinção', 'conclusão', 'perecimento', 'finalidade', 'motivo', 'alvo', 'ômega', 'extermínio', 'limite', 'termo', 'extremidade', 'intuito', 'destino', 'final', 'destinação', 'objeto', 'ponto', 'extremo', 'intenção', 'sorte', 'destruição', 'mira', 'término', 'intento', 'acabamento', 'propósito', 'cabo', 'desfecho', 'resultado', 'objetivo', 'meta', 'fito', 'sina'}}\n",
      "\n",
      "Lista de Entidades Nomeadas:  [Banco]\n",
      "\n",
      "Lista de Menções DBPedia:  []\n",
      "----------------------------------------------------------------------------------------------------\n",
      "\n",
      "ID:  3\n",
      "Texto Original:  É só o governo ter boa vontade na reforma tributária\", disse Maia, ao participar de evento organizado pelo Itaú.\n",
      "\n",
      "Lista de Foco Explícito:  ['evento', 'itaú', 'maia', 'boa', 'governo', 'reforma tributária', 'vontade']\n",
      "\n",
      "Lista de Foco Implícito:  ['governo', 'reforma', 'evento']\n",
      "\n",
      "Lista de Intermediária de FE:  {'evento': {'acaso', 'vicissitude', 'episódio', 'contingência', 'acidente', 'fato', 'acontecimento', 'caso', 'ocorrência', 'eventualidade'}, 'governo': {'regime', 'controle', 'estado', 'regímen', 'domínio', 'direção', 'administração', 'governação', 'governança', 'norteamento', 'regência', 'norteio', 'orientação', 'regimento'}, 'vontade': {'interesse', 'querer', 'afano', 'determinação', 'disposição', 'fantasia', 'veleidade', 'apetência', 'desígnio', 'arbítrio', 'apetite', 'querença', 'afã', 'intenção', 'deliberação', 'entusiasmo', 'intento', 'capricho', 'bel-prazer', 'desejo', 'ânsia', 'pretensão', 'talante'}}\n",
      "\n",
      "Lista de Entidades Nomeadas:  [Maia, Itaú]\n",
      "\n",
      "Lista de Menções DBPedia:  ['boa', 'reforma tributária', 'Itaú']\n",
      "----------------------------------------------------------------------------------------------------\n",
      "\n",
      "ID:  4\n",
      "Texto Original:  \"A reforma tributária tem importância muito maior que autonomia do Banco Central\", comentou.\n",
      "\n",
      "Lista de Foco Explícito:  ['que', 'banco central', 'reforma tributária', 'importância', 'autonomia']\n",
      "\n",
      "Lista de Foco Implícito:  ['reforma', 'importância', 'autonomia']\n",
      "\n",
      "Lista de Intermediária de FE:  {'que': {'quão'}, 'importância': {'respeito', 'consideração', 'alcance', 'merecimento', 'profundidade', 'cifra', 'conseqüência', 'altura', 'profundeza', 'proporção', 'preço', 'intensidade', 'valor', 'relevância', 'soma', 'peso', 'polpa', 'profundura', 'dimensão', 'porte', 'montante', 'valimento', 'significatividade', 'apreço', 'valia', 'significado', 'profundez', 'proporções', 'gravidade', 'monta'}, 'autonomia': {'liberdade', 'auto-suficiência', 'desprendimento', 'independência', 'emancipação'}}\n",
      "\n",
      "Lista de Entidades Nomeadas:  [Banco Central]\n",
      "\n",
      "Lista de Menções DBPedia:  ['reforma tributária', 'Banco Central']\n",
      "----------------------------------------------------------------------------------------------------\n",
      "\n",
      "ID:  5\n",
      "Texto Original:  O projeto de autonomia do BC foi aprovado na terça-feira, 3, pelo Senado e agora precisa do aval dos deputados para virar lei.\n",
      "\n",
      "Lista de Foco Explícito:  ['projeto', 'aval', 'bc', 'deputados', 'terça-feira', 'lei', 'senado', 'autonomia']\n",
      "\n",
      "Lista de Foco Implícito:  ['projeto', 'autonomia', 'terça-feira', 'Senado', 'aval', 'deputados', 'lei']\n",
      "\n",
      "Lista de Intermediária de FE:  {'projeto': {'esquema', 'planta', 'desenho', 'plano', 'traçado'}, 'aval': {'aprazimento', 'consentimento', 'agrado', 'plácito', 'assenso', 'aprovação', 'autorização', 'prazimento', 'beneplácito'}, 'deputado': {'enviado', 'delegado', 'representante'}, 'lei': {'estatuto', 'ordem', 'constituição', 'regra', 'prescrição', 'código', 'norma', 'preceito'}, 'autonomia': {'liberdade', 'auto-suficiência', 'desprendimento', 'independência', 'emancipação'}}\n",
      "\n",
      "Lista de Entidades Nomeadas:  [BC, Senado]\n",
      "\n",
      "Lista de Menções DBPedia:  ['terça-feira', 'Senado']\n",
      "----------------------------------------------------------------------------------------------------\n",
      "\n",
      "ID:  6\n",
      "Texto Original:  O texto mantém o controle dos preços como objetivo central, mas inclui ainda duas novas metas acessórias, sem prejuízo à principal: suavizar as flutuações do nível de atividade econômica e fomentar o pleno emprego no País.\n",
      "\n",
      "Lista de Foco Explícito:  ['prejuízo', 'controle', 'texto', 'metas', 'nível', 'país', 'flutuações', 'objetivo', 'atividade', 'preços', 'pleno emprego', 'principal']\n",
      "\n",
      "Lista de Foco Implícito:  ['texto', 'controle', 'preços', 'metas', 'prejuízo', 'principal', 'flutuações', 'nível', 'atividade', 'emprego', 'País']\n",
      "\n",
      "Lista de Intermediária de FE:  {'prejuízo': {'perdida', 'pernície', 'perda', 'perca', 'dano', 'desproveito', 'desvantagem', 'detrimento', 'malefício'}, 'controle': {'equilíbrio', 'autodomínio', 'domínio', 'contenção', 'vigilância', 'limite', 'fiscalização', 'checagem', 'autocontrole', 'governo'}, 'texto': {'notícia', 'reportagem', 'matéria', 'artigo'}, 'meta': {'objeto', 'fim', 'alvo', 'objetivo', 'mira', 'intento', 'intuito'}, 'nível': {'categoria', 'estado', 'patamar', 'plano', 'gabarito', 'ponto', 'situação', 'coeficiente', 'grau', 'estágio', 'etapa', 'altura'}, 'flutuar': {'trastejar', 'patetar', 'titubar', 'patetear', 'boiar', 'ondar', 'trepidar', 'oscilar', 'ondear', 'pejar-se', 'caranguejar', 'remar', 'esvoaçar', 'drapear', 'tropeçar', 'bubuiar', 'duvidar', 'errar', 'tremular', 'vacilar', 'esvoejar', 'drapejar', 'ondular', 'hesitar', 'aboiar', 'sobrenadar', 'abasbacar', 'pairar', 'titubear', 'tremer', 'nadar', 'embasbacar', 'apejar-se'}, 'objetivo': {'propósito', 'razão', 'objeto', 'fim', 'sentido', 'alvo', 'meta', 'mira', 'intento', 'intuito'}, 'atividade': {'desempenho', 'viveza', 'ocupação', 'veemência', 'agilidade', 'indústria', 'tarimba', 'diligência', 'intensidade', 'movimento', 'expedição', 'execução', 'energia', 'vivacidade', 'virilidade', 'exercício', 'funcionamento', 'experiência', 'tarefa', 'tirocínio', 'trabalho', 'vigor', 'ação', 'profissão', 'dinamismo', 'prática'}, 'preço': {'correção', 'valimento', 'vara', 'valia', 'acoimamento', 'merecimento', 'importância', 'custo', 'punição', 'penalidade', 'pena', 'valor', 'castigo'}, 'principal': {'mestre', 'primordial', 'cardeal', 'cardinal', 'vital', 'essencial', 'fundamental', 'capital', 'central', 'basilar', 'básico', 'crucial', 'precípuo', 'elementar', 'matriz', 'substancial', 'primeiro'}}\n",
      "\n",
      "Lista de Entidades Nomeadas:  [País]\n",
      "\n",
      "Lista de Menções DBPedia:  ['pleno emprego']\n",
      "----------------------------------------------------------------------------------------------------\n",
      "\n",
      "ID:  7\n",
      "Texto Original:  O governo concordou com a redação da proposta, apesar de o BC ser historicamente contrário a ampliar o escopo da atuação.\n",
      "\n",
      "Lista de Foco Explícito:  ['redação', 'bc', 'governo', 'proposta', 'escopo', 'atuação']\n",
      "\n",
      "Lista de Foco Implícito:  ['governo', 'redação', 'proposta', 'escopo', 'atuação']\n",
      "\n",
      "Lista de Intermediária de FE:  {'redação': {'composição'}, 'governo': {'regime', 'controle', 'estado', 'regímen', 'domínio', 'direção', 'administração', 'governação', 'governança', 'norteamento', 'regência', 'norteio', 'orientação', 'regimento'}, 'proposta': {'proposição', 'sugestâo', 'alvitre'}, 'escopo': {'fim', 'ponto', 'motivo', 'alvo', 'fito', 'mira', 'intuito'}, 'atuação': {'feito', 'influência', 'desempenho', 'influxo', 'obra', 'ato', 'poder', 'influição', 'ação', 'jurisdição', 'exercício', 'performance'}}\n",
      "\n",
      "Lista de Entidades Nomeadas:  [BC]\n",
      "\n",
      "Lista de Menções DBPedia:  []\n",
      "----------------------------------------------------------------------------------------------------\n",
      "\n",
      "ID:  8\n",
      "Texto Original:  Maia já reclamou outras vezes da falta de empenho e atuação do governo para se aprovar a medida.\n",
      "\n",
      "Lista de Foco Explícito:  ['falta', 'vezes', 'se', 'atuação', 'medida', 'maia', 'empenho', 'governo']\n",
      "\n",
      "Lista de Foco Implícito:  ['vezes', 'falta', 'empenho', 'atuação', 'governo', 'medida']\n",
      "\n",
      "Lista de Intermediária de FE:  {'falta': {'inexistência', 'vício', 'defeito', 'pouquidão', 'pecado', 'irregularidade', 'pouquidade', 'falência', 'falha', 'nudez', 'erro', 'desprovimento', 'esterilidade', 'raleiro', 'estreiteza', 'imperfeição', 'privação', 'exigüidade', 'carestia', 'escassez', 'queda', 'carência', 'culpa', 'raleira', 'falimento', 'lacuna', 'ausência', 'míngua', 'destituição', 'necessidade', 'fraqueza', 'penúria', 'delito', 'precisão', 'omissão'}, 'vez': {'viravolta', 'vicissitude', 'dose', 'margem', 'alternativa', 'ensejo', 'tempo', 'oportunidade', 'porção', 'hora', 'turno', 'lugar'}, 'atuação': {'feito', 'influência', 'desempenho', 'influxo', 'obra', 'ato', 'poder', 'influição', 'ação', 'jurisdição', 'exercício', 'performance'}, 'medida': {'estalão', 'craveira', 'providência', 'padrão', 'medição', 'bitola', 'diligência'}, 'empenho': {'dispêndio', 'custo', 'pistolão', 'labutação', 'faina', 'refrega', 'prometimento', 'afano', 'luta', 'batalha', 'comprometimento', 'lide', 'tráfego', 'recomendação', 'afã', 'forcejo', 'compromisso', 'lida', 'cunha', 'trabalho', 'labuta', 'promessa', 'esforço'}, 'governo': {'regime', 'controle', 'estado', 'regímen', 'domínio', 'direção', 'administração', 'governação', 'governança', 'norteamento', 'regência', 'norteio', 'orientação', 'regimento'}}\n",
      "\n",
      "Lista de Entidades Nomeadas:  [Maia]\n",
      "\n",
      "Lista de Menções DBPedia:  []\n",
      "----------------------------------------------------------------------------------------------------\n",
      "\n",
      "ID:  9\n",
      "Texto Original:  Na semana passada, acusou o presidente do Banco Central, Roberto Campos Neto, de ter vazado informações sobre conversa que os dois tiveram no dia da decisão do Comitê de Política Monetária (Copom), que manteve a taxa Selic em 2% ao ano.\n",
      "\n",
      "Lista de Foco Explícito:  ['ano', 'informações', 'copom', 'roberto campos neto', 'que', 'conversa', 'banco central', 'decisão', 'semana', 'dia', 'taxa', 'selic', 'comitê de política monetária', 'presidente']\n",
      "\n",
      "Lista de Foco Implícito:  ['semana', 'presidente', 'informações', 'conversa', 'dia', 'decisão', 'taxa', 'ano']\n",
      "\n",
      "Lista de Intermediária de FE:  {'informar': {'expressar', 'manifestar', 'relatar', 'exprimir', 'dar', 'presentar', 'precaver', 'comunicar', 'enunciar', 'instruir', 'precautelar', 'contar', 'anunciar', 'noticiar', 'cientificar', 'formular', 'pôr', 'declarar', 'notificar', 'participar', 'avisar', 'explicar', 'significar', 'inteirar', 'apresentar', 'reportar'}, 'que': {'quão'}, 'conversa': {'colóquio', 'peta', 'pulha', 'potoca', 'palavrório', 'mentira', 'bagaçada', 'abocamento', 'prego', 'parlenda', 'história', 'prosa', 'palanfrório', 'bate-papo', 'bacharelice', 'cavaco', 'parlenga', 'lampana', 'diálogo', 'conversação', 'patranha', 'palavreado', 'tretas', 'palestra', 'lorota'}, 'decisão': {'propósito', 'despacho', 'resolução', 'definição', 'opção', 'deliberação', 'resultado', 'escolha', 'solução', 'alternativa', 'determinação', 'passo'}, 'semana': {'semanada'}, 'dia': {'momento', 'data', 'atualidade'}, 'taxa': {'razão', 'direito', 'tributo', 'imposto', 'contribuição', 'proporção', 'termo', 'encargo'}, 'presidente': {'presidência'}}\n",
      "\n",
      "Lista de Entidades Nomeadas:  [Banco Central, Roberto Campos Neto, Comitê de Política Monetária, Copom, Selic]\n",
      "\n",
      "Lista de Menções DBPedia:  ['Banco Central', 'Roberto Campos Neto', 'Comitê de Política Monetária', 'Copom', 'Selic']\n",
      "----------------------------------------------------------------------------------------------------\n",
      "\n",
      "ID:  10\n",
      "Texto Original:  Ao jornal O Estado de S. Paulo, Maia criticou a articulação do presidente do BC em alertar sobre os reflexos para a economia da dificuldade do Congresso em avançar com as votações da pauta de ajuste fiscal.\n",
      "\n",
      "Lista de Foco Explícito:  ['reflexos', 'estado', 'jornal', 'dificuldade', 'bc', 'ajuste', 'votações', 'articulação', 'congresso', 'economia', 'maia', 'pauta', 'presidente']\n",
      "\n",
      "Lista de Foco Implícito:  ['jornal', 'articulação', 'presidente', 'reflexos', 'economia', 'dificuldade', 'Congresso', 'votações', 'pauta', 'ajuste']\n",
      "\n",
      "Lista de Intermediária de FE:  {'estado': {'posição', 'acatadura', 'disposição', 'nível', 'catadura', 'circunstância', 'registro', 'situação', 'ponto', 'território', 'governo', 'condição', 'inventário'}, 'jornal': {'salário', 'remuneração', 'ordenado', 'noticiário', 'diária', 'folha', 'féria', 'pagamento', 'honorários', 'periódico', 'estipêndio', 'gazeta'}, 'dificuldade': {'embrulho', 'obstáculo', 'dúvida', 'arduidade', 'complicação', 'contratempo', 'embrulhada', 'apuro', 'arrocho', 'repugnância', 'entrave', 'aperto', 'empecilho', 'complexidade', 'encontro', 'embaraço', 'encrava', 'espinho', 'espinha', 'rascada', 'embargo', 'enrascada', 'obstrucionismo', 'escolho', 'quê', 'tormento', 'encamisada', 'encravação', 'encrenca', 'contrariedade', 'impedimento', 'relutância', 'empeço', 'barreira', 'percalço', 'embondo', 'enrascadela', 'torniquete', 'estrepe', 'apertura', 'objeção', 'embretada', 'bicudez', 'abrolho'}, 'ajuste': {'convenção', 'ajustamento', 'acertamento', 'adaptação', 'amoldamento', 'regularização', 'entendimento', 'contrato', 'conformação', 'contratação', 'ajustagem', 'avença', 'concerto', 'negócio', 'acerto', 'firmação', 'acordo', 'combinação', 'negociação', 'regulagem', 'transação', 'pacto'}, 'votar': {'arbitrar', 'largar', 'destinar', 'imprimir', 'conceder', 'consagrar', 'dar', 'creditar', 'sacrificar', 'outorgar', 'oferecer', 'empregar', 'consignar', 'adjudicar', 'doar', 'assinar', 'opinar', 'dispensar', 'dedicar', 'aplicar', 'atribuir', 'entregar', 'conferir'}, 'articulação': {'amarração', 'pronunciação', 'encadeação', 'concatenação', 'coesão', 'vinculação', 'promoção', 'proferimento', 'união', 'conexão', 'fomentação', 'formulação', 'proferição', 'pronúncia', 'coerência', 'junta', 'ligação', 'junção'}, 'presidente': {'presidência'}}\n",
      "\n",
      "Lista de Entidades Nomeadas:  [Maia, BC, Congresso]\n",
      "\n",
      "Lista de Menções DBPedia:  ['economia']\n",
      "----------------------------------------------------------------------------------------------------\n",
      "\n",
      "ID:  11\n",
      "Texto Original:  Segundo o presidente da Câmara, Campos Neto tentou fazer uma articulação política, sem combinar, o que não seria papel dele, mas dos ministros da Economia, Paulo Guedes, e da articulação política, Luiz Eduardo Ramos.\n",
      "\n",
      "Lista de Foco Explícito:  ['campos neto', 'que', 'presidente', 'articulação', 'economia', 'luiz eduardo ramos', 'papel', 'ministros', 'câmara', 'paulo guedes']\n",
      "\n",
      "Lista de Foco Implícito:  ['presidente', 'Câmara', 'articulação', 'papel', 'ministros']\n",
      "\n",
      "Lista de Intermediária de FE:  {'que': {'quão'}, 'presidente': {'presidência'}, 'articulação': {'amarração', 'pronunciação', 'encadeação', 'concatenação', 'coesão', 'vinculação', 'promoção', 'proferimento', 'união', 'conexão', 'fomentação', 'formulação', 'proferição', 'pronúncia', 'coerência', 'junta', 'ligação', 'junção'}, 'papel': {'finalidade', 'função'}, 'câmara': {'apartamento', 'compartimento', 'recâmara', 'repartimento', 'aposento', 'quarto', 'alcova', 'assembléia'}}\n",
      "\n",
      "Lista de Entidades Nomeadas:  [Campos Neto, Economia, Paulo Guedes, Luiz Eduardo Ramos]\n",
      "\n",
      "Lista de Menções DBPedia:  ['Paulo Guedes', 'Luiz Eduardo Ramos']\n",
      "----------------------------------------------------------------------------------------------------\n",
      "\n",
      "ID:  12\n",
      "Texto Original:  Nesta sexta-feira, o presidente da Câmara lembrou que havia uma proposta de autonomia do BC semelhante na Câmara, mas que não foi votada, e disse que não comentou até agora sobre o tema porque não foi procurado pelo governo para falar sobre o assunto.\n",
      "\n",
      "Lista de Foco Explícito:  ['presidente da câmara', 'sexta-feira', 'tema', 'bc', 'que', 'assunto', 'autonomia', 'governo', 'proposta']\n",
      "\n",
      "Lista de Foco Implícito:  ['sexta-feira', 'presidente', 'Câmara', 'proposta', 'autonomia', 'tema', 'governo', 'assunto']\n",
      "\n",
      "Lista de Intermediária de FE:  {'tema': {'tenção', 'tópico', 'argumento', 'tese', 'assunto', 'contexto', 'terreno', 'epígrafe', 'matéria', 'enredo', 'mote'}, 'que': {'quão'}, 'assunto': {'teor', 'tenção', 'argumento', 'tema', 'tese', 'contexto', 'ponto', 'enredo', 'conteúdo', 'cousa', 'matéria', 'terreno', 'tópico', 'coisa', 'contento', 'artigo'}, 'autonomia': {'liberdade', 'auto-suficiência', 'desprendimento', 'independência', 'emancipação'}, 'governo': {'regime', 'controle', 'estado', 'regímen', 'domínio', 'direção', 'administração', 'governação', 'governança', 'norteamento', 'regência', 'norteio', 'orientação', 'regimento'}, 'proposta': {'proposição', 'sugestâo', 'alvitre'}}\n",
      "\n",
      "Lista de Entidades Nomeadas:  [presidente da Câmara, BC, Câmara]\n",
      "\n",
      "Lista de Menções DBPedia:  ['sexta-feira']\n",
      "----------------------------------------------------------------------------------------------------\n",
      "\n",
      "ID:  13\n",
      "Texto Original:  \"Se eu conseguisse conversar com alguém do governo, eu poderia te responder, mas ninguém me procura.\n",
      "\n",
      "Lista de Foco Explícito:  ['alguém', 'ninguém', 'te', 'governo', 'me', 'eu']\n",
      "\n",
      "Lista de Foco Implícito:  ['governo']\n",
      "\n",
      "Lista de Intermediária de FE:  {'governo': {'regime', 'controle', 'estado', 'regímen', 'domínio', 'direção', 'administração', 'governação', 'governança', 'norteamento', 'regência', 'norteio', 'orientação', 'regimento'}}\n",
      "\n",
      "Lista de Entidades Nomeadas:  []\n",
      "\n",
      "Lista de Menções DBPedia:  []\n",
      "----------------------------------------------------------------------------------------------------\n",
      "\n",
      "ID:  14\n",
      "Texto Original:  Não vou conversar com a imprensa antes de conversar com o governo\", disse.\n",
      "\n",
      "Lista de Foco Explícito:  ['imprensa', 'governo']\n",
      "\n",
      "Lista de Foco Implícito:  ['imprensa', 'governo']\n",
      "\n",
      "Lista de Intermediária de FE:  {'governo': {'regime', 'controle', 'estado', 'regímen', 'domínio', 'direção', 'administração', 'governação', 'governança', 'norteamento', 'regência', 'norteio', 'orientação', 'regimento'}}\n",
      "\n",
      "Lista de Entidades Nomeadas:  []\n",
      "\n",
      "Lista de Menções DBPedia:  []\n",
      "----------------------------------------------------------------------------------------------------\n",
      "\n",
      "ID:  15\n",
      "Texto Original:  Como o Broadcast (sistema de notícias em tempo real do Grupo Estado) mostrou na quinta-feira, deputados já se articulam na Câmara para modificar o projeto aprovado pelo Senado.\n",
      "\n",
      "Lista de Foco Explícito:  ['projeto', 'sistema', 'grupo estado', 'deputados', 'notícias', 'broadcast', 'tempo', 'senado', 'quinta-feira', 'câmara']\n",
      "\n",
      "Lista de Foco Implícito:  ['sistema', 'notícias', 'tempo', 'quinta-feira', 'deputados', 'Câmara', 'projeto', 'Senado']\n",
      "\n",
      "Lista de Intermediária de FE:  {'projeto': {'esquema', 'planta', 'desenho', 'plano', 'traçado'}, 'sistema': {'regime', 'meio', 'via', 'escola', 'código', 'regra', 'uso', 'costume', 'hábito', 'norma', 'método', 'seita', 'modo', 'caminho', 'teor', 'doutrina'}, 'deputado': {'enviado', 'delegado', 'representante'}, 'notícia': {'informe', 'texto', 'comunicação', 'reportagem', 'participação', 'fama', 'novidade', 'nova', 'informação', 'aviso', 'conhecimento', 'matéria', 'artigo', 'eco'}, 'tempo': {'prazo', 'dilação', 'vagar', 'vez', 'margem', 'sazão', 'ensejo', 'época', 'estação', 'oportunidade', 'hora', 'folga', 'lugar'}}\n",
      "\n",
      "Lista de Entidades Nomeadas:  [Broadcast, Grupo Estado, Câmara, Senado]\n",
      "\n",
      "Lista de Menções DBPedia:  ['Grupo Estado', 'quinta-feira', 'Senado']\n",
      "----------------------------------------------------------------------------------------------------\n",
      "\n",
      "ID:  16\n",
      "Texto Original:  O partido Novo, por exemplo, quer enxugar a proposta que recebeu aval dos senadores para reduzir os chamados acessórios que foram colocados para o Banco Central.\n",
      "\n",
      "Lista de Foco Explícito:  ['exemplo', 'partido novo', 'aval', 'que', 'banco central', 'senadores', 'acessórios', 'proposta']\n",
      "\n",
      "Lista de Foco Implícito:  ['proposta', 'aval', 'senadores', 'acessórios']\n",
      "\n",
      "Lista de Intermediária de FE:  {'exemplo': {'escola', 'modelo', 'translado', 'lição', 'ensinamento', 'traslado', 'retrato'}, 'aval': {'aprazimento', 'consentimento', 'agrado', 'plácito', 'assenso', 'aprovação', 'autorização', 'prazimento', 'beneplácito'}, 'que': {'quão'}, 'acessório': {'adiáforo', 'suplementar', 'detalhe', 'minudência', 'miudeza', 'complemento', 'suplementário', 'minúcia', 'adicional', 'acidental', 'complementar', 'particularidade', 'complementário', 'pormenor', 'secundário'}, 'proposta': {'proposição', 'sugestâo', 'alvitre'}}\n",
      "\n",
      "Lista de Entidades Nomeadas:  [partido Novo, Banco Central]\n",
      "\n",
      "Lista de Menções DBPedia:  ['partido Novo', 'Banco Central']\n",
      "----------------------------------------------------------------------------------------------------\n",
      "\n",
      "ID:  17\n",
      "Texto Original:  Sobre a reforma tributária, Maia deu sinais de que quer aprovar o projeto antes de deixar a presidência da Casa e acredita que com acordo pode fazer isso rapidamente.\n",
      "\n",
      "Lista de Foco Explícito:  ['sinais', 'projeto', 'casa', 'acordo', 'presidência', 'maia', 'reforma tributária', 'isso']\n",
      "\n",
      "Lista de Foco Implícito:  ['reforma', 'sinais', 'projeto', 'presidência', 'acordo']\n",
      "\n",
      "Lista de Intermediária de FE:  {'sinal': {'sinaleiro', 'símbolo', 'tintura', 'assinatura', 'sinaleira', 'pinta', 'laivo', 'rebate', 'vestígio', 'traço', 'prognóstico', 'signo', 'toque', 'marca', 'presságio', 'auspício', 'vislumbre', 'indicação', 'manifestação', 'rubrica', 'entrada', 'rabeira', 'tinta', 'garantia', 'ameaça', 'mostra', 'rastro', 'imagem', 'agoiro', 'prenúncio', 'anúncio', 'testemunho', 'cicatriz', 'firma', 'aceno', 'predição', 'augúrio', 'demonstração', 'cheiro', 'registro', 'gesto', 'vaticínio', 'ressaibo', 'viso', 'rasto', 'semáforo', 'cesura', 'agouro', 'indício'}, 'projeto': {'esquema', 'planta', 'desenho', 'plano', 'traçado'}, 'acordo': {'harmonia', 'ajustamento', 'plácito', 'acertamento', 'concórdia', 'consciência', 'entendimento', 'contrato', 'trato', 'conciliação', 'sentido', 'convênio', 'avença', 'conformidade', 'concerto', 'consenso', 'acerto', 'tratado', 'combinação', 'aliança', 'ajuste', 'transação', 'tratativa', 'concordância', 'pacto'}, 'presidência': {'presidente'}}\n",
      "\n",
      "Lista de Entidades Nomeadas:  [Maia, Casa]\n",
      "\n",
      "Lista de Menções DBPedia:  ['reforma tributária']\n",
      "----------------------------------------------------------------------------------------------------\n"
     ]
    }
   ],
   "source": [
    "for i, sent in enumerate(td.sentences):\n",
    "    print()\n",
    "    print(\"ID: \", str(i))    \n",
    "    print(\"Texto Original: \", sent.text)    \n",
    "    print()    \n",
    "    print(\"Lista de Foco Explícito: \", [s for s in sent.list_fe])    \n",
    "    print()\n",
    "    print(\"Lista de Foco Implícito: \", [s for s in sent.list_fi.items()])   \n",
    "    print()\n",
    "    print(\"Lista de Intermediária de FE: \", sent.list_fe_li)\n",
    "    print()    \n",
    "    print(\"Lista de Entidades Nomeadas: \", sent.named_entities)    \n",
    "    print()\n",
    "    print(\"Lista de Menções DBPedia: \", str(sent.dbpedia_mentions))    \n",
    "    \n",
    "    print(\"-\"*100)\n",
    "    \n",
    "#s_disp = td.nlp_processor(td.sentences[4].text)\n",
    "#spacy.displacy.render(s_disp, style=\"dep\", options = {\"compact\": True})    "
   ]
  },
  {
   "cell_type": "code",
   "execution_count": 6,
   "metadata": {},
   "outputs": [
    {
     "ename": "AttributeError",
     "evalue": "'SingleSentence' object has no attribute 'lisf_fe'",
     "output_type": "error",
     "traceback": [
      "\u001b[0;31m---------------------------------------------------------------------------\u001b[0m",
      "\u001b[0;31mAttributeError\u001b[0m                            Traceback (most recent call last)",
      "\u001b[0;32m<ipython-input-6-be2189dd1a7f>\u001b[0m in \u001b[0;36m<module>\u001b[0;34m\u001b[0m\n\u001b[1;32m      4\u001b[0m \u001b[0ms2\u001b[0m \u001b[0;34m=\u001b[0m \u001b[0mtd\u001b[0m\u001b[0;34m.\u001b[0m\u001b[0msentences\u001b[0m\u001b[0;34m[\u001b[0m\u001b[0;36m1\u001b[0m\u001b[0;34m]\u001b[0m\u001b[0;34m\u001b[0m\u001b[0;34m\u001b[0m\u001b[0m\n\u001b[1;32m      5\u001b[0m \u001b[0;34m\u001b[0m\u001b[0m\n\u001b[0;32m----> 6\u001b[0;31m \u001b[0msent_pair\u001b[0m \u001b[0;34m=\u001b[0m \u001b[0mSentencePair\u001b[0m\u001b[0;34m(\u001b[0m\u001b[0ms1\u001b[0m\u001b[0;34m,\u001b[0m\u001b[0ms2\u001b[0m\u001b[0;34m)\u001b[0m\u001b[0;34m\u001b[0m\u001b[0;34m\u001b[0m\u001b[0m\n\u001b[0m",
      "\u001b[0;32m~/desenv/master/ccscore/ccscore/sentence_pair.py\u001b[0m in \u001b[0;36m__init__\u001b[0;34m(self, s1, s2, similarity)\u001b[0m\n\u001b[1;32m     22\u001b[0m         \u001b[0mself\u001b[0m\u001b[0;34m.\u001b[0m\u001b[0ms1\u001b[0m \u001b[0;34m=\u001b[0m \u001b[0ms1\u001b[0m\u001b[0;34m\u001b[0m\u001b[0;34m\u001b[0m\u001b[0m\n\u001b[1;32m     23\u001b[0m         \u001b[0mself\u001b[0m\u001b[0;34m.\u001b[0m\u001b[0ms2\u001b[0m \u001b[0;34m=\u001b[0m \u001b[0ms2\u001b[0m\u001b[0;34m\u001b[0m\u001b[0;34m\u001b[0m\u001b[0m\n\u001b[0;32m---> 24\u001b[0;31m         \u001b[0mself\u001b[0m\u001b[0;34m.\u001b[0m\u001b[0mfe_intersection\u001b[0m \u001b[0;34m=\u001b[0m \u001b[0mself\u001b[0m\u001b[0;34m.\u001b[0m\u001b[0mget_fe_intersection\u001b[0m\u001b[0;34m(\u001b[0m\u001b[0;34m)\u001b[0m\u001b[0;34m\u001b[0m\u001b[0;34m\u001b[0m\u001b[0m\n\u001b[0m\u001b[1;32m     25\u001b[0m         \u001b[0mself\u001b[0m\u001b[0;34m.\u001b[0m\u001b[0mfi_intersection\u001b[0m \u001b[0;34m=\u001b[0m \u001b[0mself\u001b[0m\u001b[0;34m.\u001b[0m\u001b[0mget_fi_intersection\u001b[0m\u001b[0;34m(\u001b[0m\u001b[0;34m)\u001b[0m\u001b[0;34m\u001b[0m\u001b[0;34m\u001b[0m\u001b[0m\n\u001b[1;32m     26\u001b[0m         \u001b[0mself\u001b[0m\u001b[0;34m.\u001b[0m\u001b[0mlexical_alignments\u001b[0m \u001b[0;34m=\u001b[0m \u001b[0;32mNone\u001b[0m\u001b[0;34m\u001b[0m\u001b[0;34m\u001b[0m\u001b[0m\n",
      "\u001b[0;32m~/desenv/master/ccscore/ccscore/sentence_pair.py\u001b[0m in \u001b[0;36mget_fe_intersection\u001b[0;34m(self)\u001b[0m\n\u001b[1;32m     57\u001b[0m         \u001b[0mof\u001b[0m \u001b[0mthe\u001b[0m \u001b[0mpairs\u001b[0m\u001b[0;31m'\u001b[0m \u001b[0msentences\u001b[0m\u001b[0;34m\u001b[0m\u001b[0;34m\u001b[0m\u001b[0m\n\u001b[1;32m     58\u001b[0m         \"\"\"\n\u001b[0;32m---> 59\u001b[0;31m         \u001b[0ms1_list_fe\u001b[0m \u001b[0;34m=\u001b[0m \u001b[0mself\u001b[0m\u001b[0;34m.\u001b[0m\u001b[0ms1\u001b[0m\u001b[0;34m.\u001b[0m\u001b[0mlisf_fe\u001b[0m\u001b[0;34m\u001b[0m\u001b[0;34m\u001b[0m\u001b[0m\n\u001b[0m\u001b[1;32m     60\u001b[0m         \u001b[0ms2_list_fe\u001b[0m \u001b[0;34m=\u001b[0m \u001b[0mself\u001b[0m\u001b[0;34m.\u001b[0m\u001b[0ms2\u001b[0m\u001b[0;34m.\u001b[0m\u001b[0mlisf_fe\u001b[0m\u001b[0;34m\u001b[0m\u001b[0;34m\u001b[0m\u001b[0m\n\u001b[1;32m     61\u001b[0m         \u001b[0mfrom_li_le\u001b[0m \u001b[0;34m=\u001b[0m \u001b[0;34m{\u001b[0m\u001b[0;34m}\u001b[0m\u001b[0;34m\u001b[0m\u001b[0;34m\u001b[0m\u001b[0m\n",
      "\u001b[0;31mAttributeError\u001b[0m: 'SingleSentence' object has no attribute 'lisf_fe'"
     ]
    }
   ],
   "source": [
    "from sentence_pair import SentencePair\n",
    "\n",
    "s1 = td.sentences[0]\n",
    "s2 = td.sentences[1]\n",
    "\n",
    "sent_pair = SentencePair(s1,s2)"
   ]
  },
  {
   "cell_type": "code",
   "execution_count": null,
   "metadata": {
    "tags": []
   },
   "outputs": [],
   "source": [
    "import helper_palavras as h_pal \n",
    "from text_document import TextDocument\n",
    "\n",
    "ARQ_TEXTO = \"./data/texto_exemplo.txt\"\n",
    "ARQ_PALAVRAS = \"./data/texto_exemplo_anotado.html\"\n",
    "ARQ_PALAVRAS_ORIG = \"./data/texto_exemplo.txt\"\n",
    "\n",
    "try:\n",
    "    with open(ARQ_TEXTO, 'r') as f_text:\n",
    "            orig_text = \" \".join(f_text.readlines())\n",
    "except IOError:\n",
    "    print(f\"Erro ao tentar abrir o arquivo {ARQ_TEXTO}\")\n",
    "\n",
    "\n",
    "\n"
   ]
  },
  {
   "cell_type": "code",
   "execution_count": null,
   "metadata": {},
   "outputs": [],
   "source": [
    "tp = h_pal.parse_file_toclass(ARQ_PALAVRAS,\n",
    "                              ARQ_PALAVRAS_ORIG)\n",
    "td = TextDocument(orig_text, tp)"
   ]
  },
  {
   "cell_type": "code",
   "execution_count": null,
   "metadata": {},
   "outputs": [],
   "source": [
    "t_doc = '\"Aceito a oferta.\" disse ele'\n",
    "doc = td.nlp_processor(t_doc)\n",
    "\n",
    "for t in doc:\n",
    "    print(t)"
   ]
  },
  {
   "cell_type": "code",
   "execution_count": null,
   "metadata": {},
   "outputs": [],
   "source": [
    "#print(td.sentences[1].text)\n",
    "#print(td.sentences[2].text)\n",
    "#print(td.sentences[3].text)\n",
    "#print(td.sentences[4].text)\n",
    "#print(td.sentences[5].text)\n",
    "import split_utils as su\n",
    "t_doc = '''\"Aceito votar autonomia do Banco, aceito, é claro, votar os depósitos voluntários, mas aí temos que organizar melhor a pauta até o fim do ano. É só o governo ter boa vontade na reforma tributária\", disse Maia, ao participar de evento organizado pelo Itaú. \"A reforma tributária tem importância muito maior que autonomia do Banco Central\", comentou.'''\n",
    "su.split_by_sentence(t_doc)"
   ]
  },
  {
   "cell_type": "code",
   "execution_count": null,
   "metadata": {},
   "outputs": [],
   "source": [
    "\n",
    "#for s in td.sentences:\n",
    "#    for t_sp, t_pal in zip(s.annotated, s.palavras_sentence):\n",
    "#        print(t_sp.text, t_sp.pos_, t_pal.text)\n",
    "\n",
    "from collections import defaultdict\n",
    "\n",
    "aligned_sentences = defaultdict()\n",
    "for idx_sentence, s in enumerate(td.sentences):\n",
    "\n",
    "    aligned_pal_tokens = defaultdict()\n",
    "    #aligned_spa_tokens = defaultdict()\n",
    "    idx_token = 0\n",
    "    pal_idx_token = 0\n",
    "    spa_idx_token = 0\n",
    "    pal_token_text = \"\"\n",
    "    spa_token_text = \"\"\n",
    "    pal_tokens_list = []\n",
    "    spa_tokens_list = []\n",
    "    it_t_spa = iter(s.annotated)\n",
    "    for t_pal in s.palavras_sentence:   \n",
    "        \n",
    "        # tokens that has composition, stay together    \n",
    "        if any(\"<sam->\" in tag for tag,_ in t_pal.tags):\n",
    "            pal_token_text += t_pal.text+\" + \" \n",
    "            pal_tokens_list.append(t_pal)    \n",
    "            continue\n",
    "        else:\n",
    "            # first token from palavras\n",
    "            pal_token_text += t_pal.text\n",
    "            pal_tokens_list.append(t_pal)\n",
    "\n",
    "        # first token from spacy\n",
    "        token_spa = next(it_t_spa)\n",
    "        spa_token_text += token_spa.text\n",
    "        spa_tokens_list.append(token_spa)\n",
    "\n",
    "        # tokens of proper names are grouped in palavras but,\n",
    "        # in spacy not\n",
    "        #if any(\" \" in tag for tag,_ in t_pal.tags):\n",
    "        if \" \" in t_pal.text:\n",
    "            for _ in range(len(t_pal.text.split(' '))-1):\n",
    "                token_spa = next(it_t_spa)\n",
    "                spa_token_text += \" \"+token_spa.text\n",
    "                spa_tokens_list.append(token_spa)\n",
    "\n",
    "        aligned_pal_tokens[idx_token] = {'text': pal_token_text,\n",
    "                                        'pal_tokens': pal_tokens_list,\n",
    "                                        'spa_tokens': spa_tokens_list,\n",
    "                                        'pal_start_idx': pal_idx_token,\n",
    "                                        'spa_start_idx': spa_idx_token\n",
    "                                        }\n",
    "\n",
    "        print(pal_token_text, \" <-> \", spa_token_text)\n",
    "        idx_token += 1\n",
    "        pal_idx_token += len(pal_tokens_list)\n",
    "        spa_idx_token += len(spa_tokens_list)\n",
    "        pal_token_text = \"\"\n",
    "        spa_token_text = \"\"\n",
    "        pal_tokens_list = []\n",
    "        spa_tokens_list = []\n",
    "\n",
    "    aligned_sentences[idx_sentence] = aligned_pal_tokens\n",
    "    #aligned_pal_tokens"
   ]
  },
  {
   "cell_type": "code",
   "execution_count": null,
   "metadata": {},
   "outputs": [],
   "source": [
    "for s in aligned_sentences.values():\n",
    "    for apt in s.values():\n",
    "        print(apt)\n",
    "        print([str(x) for x in apt['pal_tokens']])\n",
    "        print(f\"{'='*100}\\n\")\n"
   ]
  },
  {
   "cell_type": "code",
   "execution_count": null,
   "metadata": {},
   "outputs": [],
   "source": [
    "for token in td.sentences[0].annotated:\n",
    "    print(token.)"
   ]
  },
  {
   "cell_type": "code",
   "execution_count": null,
   "metadata": {},
   "outputs": [],
   "source": [
    "from palavras_dic_tags import *\n",
    "\n",
    "d = SEMANTIC_TAGSET\n",
    "\n"
   ]
  },
  {
   "cell_type": "code",
   "execution_count": null,
   "metadata": {},
   "outputs": [],
   "source": []
  },
  {
   "cell_type": "code",
   "execution_count": null,
   "metadata": {},
   "outputs": [],
   "source": [
    "import split_utils as su\n",
    "orig_sentences = []\n",
    "try:\n",
    "    with open(\"./data/texto_exemplo.txt\", 'r') as f_text:\n",
    "        orig_sentences = su.split_by_sentence(\"\\n\".join(f_text.readlines()))\n",
    "except IOError:\n",
    "    print(f\"Erro ao tentar abrir o arquivo {original_text}\")\n",
    "orig_sentences"
   ]
  },
  {
   "cell_type": "code",
   "execution_count": null,
   "metadata": {
    "tags": []
   },
   "outputs": [],
   "source": [
    "import helper_palavras as h_pal \n",
    "\n",
    "tp = h_pal.parse_file_toclass(\"./data/texto_exemplo_anotado.html\",\n",
    "                              \"./data/texto_exemplo.txt\"  )\n",
    "\n",
    "\n",
    "\n"
   ]
  },
  {
   "cell_type": "code",
   "execution_count": null,
   "metadata": {},
   "outputs": [],
   "source": [
    "# Teste do extrator de features do pacote infernal\n",
    "extrator = fe.FeatureExtractor(both=True)\n",
    "extrator.get_feature_names()"
   ]
  },
  {
   "cell_type": "code",
   "execution_count": null,
   "metadata": {},
   "outputs": [],
   "source": [
    "from infernal.datastructures import Entailment \n",
    "s1,s2 = pares[0]\n",
    "\n",
    "\n",
    "par = ds.Pair(s1,s2, 0, Entailment.none)\n",
    "\n",
    "par"
   ]
  },
  {
   "cell_type": "code",
   "execution_count": null,
   "metadata": {},
   "outputs": [],
   "source": [
    "s_ex = None\n",
    "for i,s in enumerate(textdoc.sents):\n",
    "    s_ex = s\n",
    "    if i == 1:\n",
    "        break\n",
    "   # print(dir(s))\n",
    "    print(type(s))\n",
    "\n",
    "#dir(s_ex)"
   ]
  },
  {
   "cell_type": "code",
   "execution_count": null,
   "metadata": {},
   "outputs": [],
   "source": [
    "import helper_tools as htools\n",
    "from tep2 import GrupoSinonimo\n",
    "\n",
    "htools.dic_tep2.get_sinonimos(\"governo\")"
   ]
  },
  {
   "cell_type": "code",
   "execution_count": null,
   "metadata": {
    "scrolled": false
   },
   "outputs": [],
   "source": [
    "for i, sent in enumerate(td.sentences):\n",
    "    print()\n",
    "    print(\"ID: \", str(i))   \n",
    "    print(sent.tokens_dbpedia_metions)\n",
    "    print(\"Texto Original: \", sent.text)    "
   ]
  },
  {
   "cell_type": "code",
   "execution_count": null,
   "metadata": {
    "scrolled": false
   },
   "outputs": [],
   "source": [
    "import helper_tools as htools\n",
    "\n",
    "#htools.get_dbpedia_mentions(texto)\n",
    "dbpedia_mentions = []\n",
    "dbpedia_mentions_entries = htools.get_dbpedia_entries(texto)\n",
    "for key, entry in dbpedia_mentions_entries.items():\n",
    "    if entry and key == 'raw_text':        \n",
    "        dbpedia_mentions.append(entry['raw_text'].replace(\"'\",''))\n",
    "\n",
    "#print(dbpedia_mentions)\n",
    "#print(dbpedia_mentions_entries)\n",
    "\n",
    "print(\"\\n\\n\".join([\"{}: {}\".format(k,v) for k,v in dbpedia_mentions_entries.items()]))"
   ]
  },
  {
   "cell_type": "code",
   "execution_count": null,
   "metadata": {},
   "outputs": [],
   "source": [
    "import requests\n",
    "from bs4 import BeautifulSoup\n",
    "import re\n",
    "\n",
    "page = requests.get(\"http://pt.dbpedia.org/resource/Pleno_emprego\")\n",
    "soup = BeautifulSoup(page.text, 'html.parser')\n",
    "\n",
    "a_elements = soup.find_all('a', text=re.compile(\".*Categoria.*\"))\n",
    "\n",
    "def get_categorias_dbpedia(resource):\n",
    "    page = requests.get(\"http://pt.dbpedia.org/resource/{}\".format(resource))\n",
    "    soup = BeautifulSoup(page.text, 'html.parser')\n",
    "    a_elements = soup.find_all('a', text=re.compile(\".*Categoria.*\"))\n",
    "    \n",
    "    categorias = set([])\n",
    "    for elem in a_elements:\n",
    "        texto = \"\".join(elem.text.split())\n",
    "        texto = texto.split(\"dbr:Categoria:\")[1]\n",
    "        texto = texto.replace(\"_\", \" \")\n",
    "        categorias.add(texto)\n",
    "\n",
    "    return categorias\n",
    "    \n"
   ]
  },
  {
   "cell_type": "code",
   "execution_count": null,
   "metadata": {
    "scrolled": true
   },
   "outputs": [],
   "source": [
    "categorias = set([])\n",
    "for elem in a_elements:\n",
    "    texto = \"\".join(elem.text.split())\n",
    "    texto = texto.split(\"dbr:Categoria:\")[1]\n",
    "    texto = texto.replace(\"_\", \" \")\n",
    "    categorias.add(texto)\n",
    "    \n",
    "categorias"
   ]
  },
  {
   "cell_type": "code",
   "execution_count": null,
   "metadata": {
    "scrolled": true
   },
   "outputs": [],
   "source": [
    "get_categorias_dbpedia(\"Reforma_tributária\")"
   ]
  },
  {
   "cell_type": "code",
   "execution_count": null,
   "metadata": {
    "scrolled": false
   },
   "outputs": [],
   "source": [
    "#print(list(dbpedia_mentions_entries.values())[5])\n",
    "print(htools.get_dbpedia_entries(texto, formated=False))\n"
   ]
  },
  {
   "cell_type": "code",
   "execution_count": null,
   "metadata": {},
   "outputs": [],
   "source": [
    "# Recuperar os tokens que constituem os spans relacionados\n",
    "# as menções obtidas da dbpedia spotlight\n",
    "\n",
    "ent1 = list(dbpedia_mentions_entries.values())[0]\n",
    "\n",
    "tk0 = None\n",
    "for t in td.sentences[0].annotated:\n",
    "    if  t.idx == int(ent1['pos']):\n",
    "        tk0 = t\n",
    "\n",
    "\n",
    "sp1 = td.sentences[0].annotated[tk0.i:tk0.i+len(ent1['raw_text'].split())]\n",
    "for t in sp1:\n",
    "    print(type(t))\n",
    "    print(t.pos_)\n",
    "    print(t.text)"
   ]
  },
  {
   "cell_type": "code",
   "execution_count": null,
   "metadata": {},
   "outputs": [],
   "source": [
    "from single_sentence import SingleSentence\n",
    "\n",
    "for i,s in enumerate(td.sentences):\n",
    "    if i == 1:\n",
    "        break\n",
    "\n",
    "id_sent = 1        \n",
    "    \n",
    "    \n",
    "#for t in td.sentences[id_sent].list_fe:    \n",
    "#    print(f\"{t} -- {t.pos_} -- {t.dep_}\")\n",
    "    \n",
    "#print(td.sentences[0].list_fe)    \n",
    "#s_ano = td.nlp_processor(td.sentences[0].text)\n",
    "#spacy.displacy.render(s_ano, style=\"dep\", options = {\"compact\": True})\n",
    "\n",
    "#print(td.sentences[1].list_fe)    \n",
    "#s_ano = td.nlp_processor(td.sentences[1].text)\n",
    "#spacy.displacy.render(s_ano, style=\"dep\", options = {\"compact\": True})"
   ]
  },
  {
   "cell_type": "code",
   "execution_count": null,
   "metadata": {
    "scrolled": false
   },
   "outputs": [],
   "source": [
    "#syns = own.find_synonyms(\"governo\")\n",
    "import helper_tools as htools\n",
    "\n",
    "\n",
    "for sent in td.sentences:\n",
    "    print(\"=\"*100)\n",
    "    print(f\"Sentenca: {sent.text}\")\n",
    "    print(\"=\"*100, '\\n')\n",
    "    \n",
    "    for fe_elem in sent.list_fe:\n",
    "        print(fe_elem, \":\")\n",
    "        try:\n",
    "            print(f\"WordNet: {own.find_synonyms(htools.cogroo_lemmatize(fe_elem.lower()))}\")\n",
    "            print(f\"TeP2: {tep2.get_sinominos(htools.cogroo_lemmatize(fe_elem.lower()))}\")\n",
    "        except:\n",
    "            print(None)\n",
    "        print(\"-------------------------\")\n",
    "#own.are_synonyms(\"governo\", \"instituição\")"
   ]
  },
  {
   "cell_type": "code",
   "execution_count": null,
   "metadata": {},
   "outputs": [],
   "source": [
    "#print(td.sentences[0].dbpedia_mentions[0])\n",
    "for i, sent in enumerate(td.sentences):\n",
    "    for text_token in sent.list_fe:    \n",
    "        pos_token = sent.tokens_fe_pos_tags[text_token].pos_ if text_token in sent.tokens_fe_pos_tags.keys() else None\n",
    "        print(text_token, pos_token)"
   ]
  },
  {
   "cell_type": "code",
   "execution_count": null,
   "metadata": {},
   "outputs": [],
   "source": [
    "sent = td.sentences[0]\n",
    "\n",
    "import itertools as itt\n",
    "\n",
    "it_fe_pairs = itt.permutations(sent.list_fe, 2)\n",
    "\n",
    "\n",
    "#print([elem_fe_pair for elem_fe_pair in it_fe_pairs])"
   ]
  },
  {
   "cell_type": "code",
   "execution_count": null,
   "metadata": {},
   "outputs": [],
   "source": [
    "import itertools as itt\n",
    "\n",
    "it_fe_pairs = itt.permutations(sent.list_fe, 2)\n",
    "head_elem = None\n",
    "is_part_of_other = False\n",
    "elems_to_exclude = set([])\n",
    "for a,b in it_fe_pairs:    \n",
    "    if len(a.split()) == 1:    \n",
    "        if a in b:\n",
    "            elems_to_exclude.add(a)\n",
    "            is_part_of_other = True            \n",
    "            \n",
    "print(sent.list_fe,' - ', len(sent.list_fe))    \n",
    "list_fe = list(set(sent.list_fe).difference(set(elems_to_exclude)))\n",
    "print(list_fe,' - ', len(list_fe))    "
   ]
  },
  {
   "cell_type": "code",
   "execution_count": null,
   "metadata": {},
   "outputs": [],
   "source": [
    "ss = td.sentences[3]\n",
    "\n",
    "#print(dir(ss.anotated))\n",
    "#ss.anotated.start\n",
    "\n",
    "sentence_tokens = [token for token in ss.annotated]\n",
    "type(sentence_tokens[0])\n",
    "sentence_tokens"
   ]
  },
  {
   "cell_type": "code",
   "execution_count": null,
   "metadata": {},
   "outputs": [],
   "source": [
    "#!python -m spacy download en_core_web_sm"
   ]
  },
  {
   "cell_type": "code",
   "execution_count": null,
   "metadata": {},
   "outputs": [],
   "source": [
    "def get_sentences(text):\n",
    "    doc = nlp(text)\n",
    "    return (list(doc.sents)) # convert to string if required."
   ]
  },
  {
   "cell_type": "code",
   "execution_count": null,
   "metadata": {},
   "outputs": [],
   "source": [
    "text = '''\"É só o governo ter boa vontade na reforma tributária\", disse Maia, ao participar de evento organizado pelo Itaú. \n",
    "\"A reforma tributária tem importância muito maior que autonomia do Banco Central\", comentou. O projeto de autonomia do BC foi aprovado na terça-feira, 3, pelo Senado e agora precisa do aval dos deputados para virar lei.'''\n",
    "\n",
    "#get_sentences(text)\n",
    "doc = nlp(text)\n",
    "sents = [sent.text for sent in doc.sents]\n",
    "print(\"After:\", sents)\n",
    "print(\"tamanho:\", len(sents))"
   ]
  },
  {
   "cell_type": "code",
   "execution_count": null,
   "metadata": {
    "scrolled": true
   },
   "outputs": [],
   "source": [
    "import split_utils as su\n",
    "su.split_by_sentence(texto)"
   ]
  },
  {
   "cell_type": "code",
   "execution_count": null,
   "metadata": {},
   "outputs": [],
   "source": [
    "from infernal import openwordnetpt as own\n",
    "own.load_wordnet(\"./data/own-pt.pickle\")\n"
   ]
  },
  {
   "cell_type": "code",
   "execution_count": null,
   "metadata": {},
   "outputs": [],
   "source": [
    "try:\n",
    "    print(own.find_synonyms(\"reitor\"))\n",
    "except:\n",
    "    print(None)"
   ]
  },
  {
   "cell_type": "code",
   "execution_count": null,
   "metadata": {},
   "outputs": [],
   "source": [
    "from itertools import combinations \n",
    "from collections import defaultdict \n",
    "\n",
    "class GrupoSinonimo():\n",
    "    \n",
    "    def __init__(self):\n",
    "        self.data = {}\n",
    "        self.sinonimos = defaultdict(list)\n",
    "        self.classes = defaultdict(str)\n",
    "        self.idx_antonimos = defaultdict(int)\n",
    "        \n",
    "    def add(self, idx, dados_grupo):\n",
    "        if dados_grupo:            \n",
    "            self.data[idx] = dados_grupo\n",
    "            self.set_sinonimos(idx)\n",
    "            self.set_classes(idx)\n",
    "        else:\n",
    "            print(\"Sem dados para inserir\")\n",
    "    \n",
    "    def get(self, idx):\n",
    "        return self.data[idx]\n",
    "    \n",
    "    def set_sinonimos(self, idx):               \n",
    "        all_sinoms = self.data[idx][1]\n",
    "        \n",
    "        pares_palavras = combinations(all_sinoms, 2)\n",
    "        for sinonimo_left, sinonimo_right in pares_palavras:\n",
    "            self.sinonimos[sinonimo_left].append(sinonimo_right)\n",
    "            self.sinonimos[sinonimo_right].append(sinonimo_left)\n",
    "                \n",
    "    def get_sinonimos(self, palavra):\n",
    "        return self.sinonimos[palavra]\n",
    "    \n",
    "    def set_classes(self, idx):\n",
    "        all_sinoms = self.data[idx][1]\n",
    "        classe = self.data[idx][0]\n",
    "                \n",
    "        for palavra in all_sinoms:\n",
    "            #print(\"classe: \" + classe + \" \" + \"palavra: \" + palavra)\n",
    "            self.classes[palavra] = classe        \n",
    "    \n",
    "    def get_classe(self, palavra):\n",
    "        return self.classes[palavra]\n",
    "    \n",
    "    def set_antonimos(self, idx):\n",
    "        idx_antonimo = self.data[idx][2]\n",
    "        all_sinoms = self.data[idx][1]\n",
    "        \n",
    "        for palavra in all_sinoms:\n",
    "            self.idx_antonimos[palavra] = idx_antonimo\n",
    "            \n",
    "    def get_antonimos(self, palavra):\n",
    "        if palavra in self.idx_antonimos.keys():\n",
    "            data = self.get(self.idx_antonimos[palavra])        \n",
    "            return data[1]\n",
    "        else:\n",
    "            return None\n",
    "        \n",
    "    def get_by_classe(self, classe):\n",
    "        return [k for k,v in self.classes.items() if v == classe]"
   ]
  },
  {
   "cell_type": "code",
   "execution_count": null,
   "metadata": {},
   "outputs": [],
   "source": [
    "import pickle\n",
    "\n",
    "tep2 = None\n",
    "with open('./data/tep2.pickle', 'rb') as f:\n",
    "    tep2 = pickle.load(f)\n",
    "    \n",
    "tep2 = tep2['objeto']\n",
    "\n",
    "tep2.get_sinominos('governo')"
   ]
  },
  {
   "cell_type": "code",
   "execution_count": null,
   "metadata": {},
   "outputs": [],
   "source": [
    "from cogroo_interface import Cogroo\n",
    "cogroo = Cogroo.Instance()\n",
    "doc = cogroo.analyze('bandeiras')\n",
    "print(f\"token pos: {doc.sentences[0].tokens}\")\n",
    "print(f\"token lemma: {cogroo.lemmatize('bandeiras')}\")\n",
    "\n",
    "print(f\"token lemma: {cogroo.lemmatize('abacelara-lhe')}\")\n",
    "\n"
   ]
  },
  {
   "cell_type": "code",
   "execution_count": null,
   "metadata": {},
   "outputs": [],
   "source": [
    "FE_POS_TAGS = {\"NOUN\", \"PRON\", \"PROPN\"}\n",
    "POS_PLURAL = {}\n",
    "tk_exemplo = None\n",
    "for sent in td.sentences:\n",
    "    print(f\"Sentenca: {sent.text}\")\n",
    "    for token in sent.annotated:\n",
    "        #if token.text == \"agentes\":\n",
    "                #print(token.text, \" \", token.tag_)\n",
    "                                \n",
    "                if tk_exemplo is None:\n",
    "                    tk_exemplo = token\n",
    "                if token.pos_ in FE_POS_TAGS and \\\n",
    "                   \"Number=Plur\" in token.tag_ :# and token.tag_ in POS_PLURAL:\n",
    "                    print(f\"Texto: {token.text}\")\n",
    "                    print(f\"Lemma: {token.lemma_}\")\n",
    "                    print(f\"Morph: {token.text}\")\n",
    "                    print(f\"POS: {token.pos_}\")\n",
    "                    print(f\"Lemma CoGroo: {cogroo.lemmatize(token.text)}\")\n",
    "                    print(\"--\"*30)\n",
    "\n",
    "#print(f\"Texto: {tk_exemplo.text}\")\n",
    "#print(f\"Lemma: {tk_exemplo.lemma_}\")\n",
    "#print(f\"Morph: {tk_exemplo.text}\")\n",
    "\n",
    "#dir(tk_exemplo)"
   ]
  },
  {
   "cell_type": "code",
   "execution_count": null,
   "metadata": {},
   "outputs": [],
   "source": [
    "print(\"\\n\".join([l for l in nlp.get_pipe(\"tagger\").labels if \"Number=Plur\" in l]))"
   ]
  },
  {
   "cell_type": "code",
   "execution_count": null,
   "metadata": {},
   "outputs": [],
   "source": [
    "from infernal import lemmatization\n",
    "\n",
    "lemmatization.get_lemma(\"depósitos\", \"NOUN\")"
   ]
  },
  {
   "cell_type": "code",
   "execution_count": null,
   "metadata": {},
   "outputs": [],
   "source": [
    "import random\n",
    "from itertools import tee\n",
    "#random.randint(10, 100)\n",
    "l = [x for x in range(5)]\n",
    "a,b = tee(l)\n",
    "next(b)\n",
    "\n",
    "list(zip(a,b))"
   ]
  },
  {
   "cell_type": "code",
   "execution_count": null,
   "metadata": {},
   "outputs": [],
   "source": [
    "sentencas = []\n",
    "\n",
    "add_asspas = False\n",
    "for s in textdoc.sents:\n",
    "    if s.text == '\"':\n",
    "        add_asspas = True\n",
    "    else:\n",
    "        if add_asspas:\n",
    "            sentencas.append('\"'+s.text)\n",
    "            add_asspas = False\n",
    "        else:\n",
    "            sentencas.append(s.text)"
   ]
  }
 ],
 "metadata": {
  "kernelspec": {
   "display_name": "Python 3",
   "language": "python",
   "name": "python3"
  },
  "language_info": {
   "codemirror_mode": {
    "name": "ipython",
    "version": 3
   },
   "file_extension": ".py",
   "mimetype": "text/x-python",
   "name": "python",
   "nbconvert_exporter": "python",
   "pygments_lexer": "ipython3",
   "version": "3.8.5"
  }
 },
 "nbformat": 4,
 "nbformat_minor": 2
}
