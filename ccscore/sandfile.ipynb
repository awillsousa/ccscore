{
 "cells": [
  {
   "cell_type": "code",
   "execution_count": 20,
   "metadata": {},
   "outputs": [],
   "source": [
    "from infernal import feature_extraction as fe\n",
    "from infernal import datastructures as ds\n",
    "import spacy"
   ]
  },
  {
   "cell_type": "code",
   "execution_count": 21,
   "metadata": {},
   "outputs": [],
   "source": [
    "nlp = spacy.load('pt_core_news_lg')"
   ]
  },
  {
   "cell_type": "code",
   "execution_count": 22,
   "metadata": {},
   "outputs": [],
   "source": [
    "#!python -m spacy download pt_core_news_lg\n",
    "#!pip install zss rdflib"
   ]
  },
  {
   "cell_type": "code",
   "execution_count": 23,
   "metadata": {},
   "outputs": [
    {
     "data": {
      "text/plain": [
       "'Defendida por agentes do mercado financeiro e uma das bandeiras da equipe econômica do governo Jair Bolsonaro, o projeto de autonomia do Banco Central (BC) deve avançar na Câmara só após a reforma tributária andar, no que depender do presidente da Casa, Rodrigo Maia (DEM-RJ). Para ele, o projeto sobre a instituição presidida por Roberto Campos Neto não é urgente no curto prazo.\\n\\n\"Aceito votar autonomia do Banco, aceito, é claro, votar os depósitos voluntários, mas aí temos que organizar melhor a pauta até o fim do ano. É só o governo ter boa vontade na reforma tributária\", disse Maia, ao participar de evento organizado pelo Itaú. \"A reforma tributária tem importância muito maior que autonomia do Banco Central\", comentou.\\n\\nO projeto de autonomia do BC foi aprovado na terça-feira, 3, pelo Senado e agora precisa do aval dos deputados para virar lei. O texto mantém o controle dos preços como objetivo central, mas inclui ainda duas novas metas acessórias, sem prejuízo à principal: suavizar as flutuações do nível de atividade econômica e fomentar o pleno emprego no País. O governo concordou com a redação da proposta, apesar de o BC ser historicamente contrário a ampliar o escopo da atuação.\\n\\nMaia já reclamou outras vezes da falta de empenho e atuação do governo para se aprovar a medida. Na semana passada, acusou o presidente do Banco Central, Roberto Campos Neto, de ter vazado informações sobre conversa que os dois tiveram no dia da decisão do Comitê de Política Monetária (Copom), que manteve a taxa Selic em 2% ao ano.\\n\\nAo jornal O Estado de S. Paulo, Maia criticou a articulação do presidente do BC em alertar sobre os reflexos para a economia da dificuldade do Congresso em avançar com as votações da pauta de ajuste fiscal. Segundo o presidente da Câmara, Campos Neto tentou fazer uma articulação política, sem combinar, o que não seria papel dele, mas dos ministros da Economia, Paulo Guedes, e da articulação política, Luiz Eduardo Ramos.\\n\\nNesta sexta-feira, o presidente da Câmara lembrou que havia uma proposta de autonomia do BC semelhante na Câmara, mas que não foi votada, e disse que não comentou até agora sobre o tema porque não foi procurado pelo governo para falar sobre o assunto. \"Se eu conseguisse conversar com alguém do governo, eu poderia te responder, mas ninguém me procura. Não vou conversar com a imprensa antes de conversar com o governo\", disse.\\n\\nComo o Broadcast (sistema de notícias em tempo real do Grupo Estado) mostrou na quinta-feira, deputados já se articulam na Câmara para modificar o projeto aprovado pelo Senado. O partido Novo, por exemplo, quer enxugar a proposta que recebeu aval dos senadores para reduzir os chamados acessórios que foram colocados para o Banco Central.\\n\\nSobre a reforma tributária, Maia deu sinais de que quer aprovar o projeto antes de deixar a presidência da Casa e acredita que com acordo pode fazer isso rapidamente.'"
      ]
     },
     "execution_count": 23,
     "metadata": {},
     "output_type": "execute_result"
    }
   ],
   "source": [
    "texto = '''Defendida por agentes do mercado financeiro e uma das bandeiras da equipe econômica do governo Jair Bolsonaro, o projeto de autonomia do Banco Central (BC) deve avançar na Câmara só após a reforma tributária andar, no que depender do presidente da Casa, Rodrigo Maia (DEM-RJ). Para ele, o projeto sobre a instituição presidida por Roberto Campos Neto não é urgente no curto prazo.\n",
    "\n",
    "\"Aceito votar autonomia do Banco, aceito, é claro, votar os depósitos voluntários, mas aí temos que organizar melhor a pauta até o fim do ano. É só o governo ter boa vontade na reforma tributária\", disse Maia, ao participar de evento organizado pelo Itaú. \"A reforma tributária tem importância muito maior que autonomia do Banco Central\", comentou.\n",
    "\n",
    "O projeto de autonomia do BC foi aprovado na terça-feira, 3, pelo Senado e agora precisa do aval dos deputados para virar lei. O texto mantém o controle dos preços como objetivo central, mas inclui ainda duas novas metas acessórias, sem prejuízo à principal: suavizar as flutuações do nível de atividade econômica e fomentar o pleno emprego no País. O governo concordou com a redação da proposta, apesar de o BC ser historicamente contrário a ampliar o escopo da atuação.\n",
    "\n",
    "Maia já reclamou outras vezes da falta de empenho e atuação do governo para se aprovar a medida. Na semana passada, acusou o presidente do Banco Central, Roberto Campos Neto, de ter vazado informações sobre conversa que os dois tiveram no dia da decisão do Comitê de Política Monetária (Copom), que manteve a taxa Selic em 2% ao ano.\n",
    "\n",
    "Ao jornal O Estado de S. Paulo, Maia criticou a articulação do presidente do BC em alertar sobre os reflexos para a economia da dificuldade do Congresso em avançar com as votações da pauta de ajuste fiscal. Segundo o presidente da Câmara, Campos Neto tentou fazer uma articulação política, sem combinar, o que não seria papel dele, mas dos ministros da Economia, Paulo Guedes, e da articulação política, Luiz Eduardo Ramos.\n",
    "\n",
    "Nesta sexta-feira, o presidente da Câmara lembrou que havia uma proposta de autonomia do BC semelhante na Câmara, mas que não foi votada, e disse que não comentou até agora sobre o tema porque não foi procurado pelo governo para falar sobre o assunto. \"Se eu conseguisse conversar com alguém do governo, eu poderia te responder, mas ninguém me procura. Não vou conversar com a imprensa antes de conversar com o governo\", disse.\n",
    "\n",
    "Como o Broadcast (sistema de notícias em tempo real do Grupo Estado) mostrou na quinta-feira, deputados já se articulam na Câmara para modificar o projeto aprovado pelo Senado. O partido Novo, por exemplo, quer enxugar a proposta que recebeu aval dos senadores para reduzir os chamados acessórios que foram colocados para o Banco Central.\n",
    "\n",
    "Sobre a reforma tributária, Maia deu sinais de que quer aprovar o projeto antes de deixar a presidência da Casa e acredita que com acordo pode fazer isso rapidamente.'''\n",
    "\n",
    "texto"
   ]
  },
  {
   "cell_type": "code",
   "execution_count": 24,
   "metadata": {},
   "outputs": [],
   "source": [
    "textdoc = nlp(texto)"
   ]
  },
  {
   "cell_type": "code",
   "execution_count": 25,
   "metadata": {},
   "outputs": [],
   "source": [
    "def paragraphs(document):\n",
    "    start = 0\n",
    "    for token in document:\n",
    "        if token.is_space and token.text.count(\"\\n\") > 1:\n",
    "            yield document[start:token.i]\n",
    "            start = token.i\n",
    "    yield document[start:]"
   ]
  },
  {
   "cell_type": "code",
   "execution_count": 26,
   "metadata": {},
   "outputs": [],
   "source": [
    "from itertools import tee\n",
    "\n",
    "def pairwise(iterable):\n",
    "    \"s -> (s0,s1), (s1,s2), (s2, s3), ...\"\n",
    "    a, b = tee(iterable)    \n",
    "    next(b, None)\n",
    "    return zip(a, b)"
   ]
  },
  {
   "cell_type": "code",
   "execution_count": 27,
   "metadata": {},
   "outputs": [
    {
     "data": {
      "text/plain": [
       "[(0,\n",
       "  Defendida por agentes do mercado financeiro e uma das bandeiras da equipe econômica do governo Jair Bolsonaro, o projeto de autonomia do Banco Central (BC) deve avançar na Câmara só após a reforma tributária andar, no que depender do presidente da Casa, Rodrigo Maia (DEM-RJ).),\n",
       " (1,\n",
       "  Para ele, o projeto sobre a instituição presidida por Roberto Campos Neto não é urgente no curto prazo.\n",
       "  ),\n",
       " (2, \"),\n",
       " (3,\n",
       "  Aceito votar autonomia do Banco, aceito, é claro, votar os depósitos voluntários, mas aí temos que organizar melhor a pauta até o fim do ano.),\n",
       " (4,\n",
       "  É só o governo ter boa vontade na reforma tributária\", disse Maia, ao participar de evento organizado pelo Itaú.),\n",
       " (5, \"),\n",
       " (6,\n",
       "  A reforma tributária tem importância muito maior que autonomia do Banco Central\", comentou.\n",
       "  ),\n",
       " (7,\n",
       "  O projeto de autonomia do BC foi aprovado na terça-feira, 3, pelo Senado e agora precisa do aval dos deputados para virar lei.),\n",
       " (8,\n",
       "  O texto mantém o controle dos preços como objetivo central, mas inclui ainda duas novas metas acessórias, sem prejuízo à principal: suavizar as flutuações do nível de atividade econômica e fomentar o pleno emprego no País.),\n",
       " (9,\n",
       "  O governo concordou com a redação da proposta, apesar de o BC ser historicamente contrário a ampliar o escopo da atuação.\n",
       "  ),\n",
       " (10,\n",
       "  Maia já reclamou outras vezes da falta de empenho e atuação do governo para se aprovar a medida.),\n",
       " (11,\n",
       "  Na semana passada, acusou o presidente do Banco Central, Roberto Campos Neto, de ter vazado informações sobre conversa que os dois tiveram no dia da decisão do Comitê de Política Monetária (Copom), que manteve a taxa Selic em 2% ao ano.\n",
       "  ),\n",
       " (12, Ao jornal),\n",
       " (13,\n",
       "  O Estado de S. Paulo, Maia criticou a articulação do presidente do BC em alertar sobre os reflexos para a economia da dificuldade do Congresso em avançar com as votações da pauta de ajuste fiscal.),\n",
       " (14,\n",
       "  Segundo o presidente da Câmara, Campos Neto tentou fazer uma articulação política, sem combinar, o que não seria papel dele, mas dos ministros da Economia, Paulo Guedes, e da articulação política, Luiz Eduardo Ramos.\n",
       "  ),\n",
       " (15,\n",
       "  Nesta sexta-feira, o presidente da Câmara lembrou que havia uma proposta de autonomia do BC semelhante na Câmara, mas que não foi votada, e disse que não comentou até agora sobre o tema porque não foi procurado pelo governo para falar sobre o assunto.),\n",
       " (16, \"),\n",
       " (17,\n",
       "  Se eu conseguisse conversar com alguém do governo, eu poderia te responder, mas ninguém me procura.),\n",
       " (18,\n",
       "  Não vou conversar com a imprensa antes de conversar com o governo\", disse.\n",
       "  ),\n",
       " (19,\n",
       "  Como o Broadcast (sistema de notícias em tempo real do Grupo Estado) mostrou na quinta-feira, deputados já se articulam na Câmara para modificar o projeto aprovado pelo Senado.),\n",
       " (20,\n",
       "  O partido Novo, por exemplo, quer enxugar a proposta que recebeu aval dos senadores para reduzir os chamados acessórios que foram colocados para o Banco Central.\n",
       "  ),\n",
       " (21,\n",
       "  Sobre a reforma tributária, Maia deu sinais de que quer aprovar o projeto antes de deixar a presidência da Casa e acredita que com acordo pode fazer isso rapidamente.)]"
      ]
     },
     "execution_count": 27,
     "metadata": {},
     "output_type": "execute_result"
    }
   ],
   "source": [
    "list(enumerate(textdoc.sents))"
   ]
  },
  {
   "cell_type": "code",
   "execution_count": 28,
   "metadata": {},
   "outputs": [],
   "source": [
    "sentencas = []\n",
    "\n",
    "add_asspas = False\n",
    "for s in textdoc.sents:\n",
    "    if s.text == '\"':\n",
    "        add_asspas = True\n",
    "    else:\n",
    "        if add_asspas:\n",
    "            sentencas.append('\"'+s.text)\n",
    "            add_asspas = False\n",
    "        else:\n",
    "            sentencas.append(s.text)\n",
    "        "
   ]
  },
  {
   "cell_type": "code",
   "execution_count": 29,
   "metadata": {},
   "outputs": [
    {
     "data": {
      "text/plain": [
       "[('Defendida por agentes do mercado financeiro e uma das bandeiras da equipe econômica do governo Jair Bolsonaro, o projeto de autonomia do Banco Central (BC) deve avançar na Câmara só após a reforma tributária andar, no que depender do presidente da Casa, Rodrigo Maia (DEM-RJ).',\n",
       "  'Para ele, o projeto sobre a instituição presidida por Roberto Campos Neto não é urgente no curto prazo.\\n\\n'),\n",
       " ('Para ele, o projeto sobre a instituição presidida por Roberto Campos Neto não é urgente no curto prazo.\\n\\n',\n",
       "  '\"Aceito votar autonomia do Banco, aceito, é claro, votar os depósitos voluntários, mas aí temos que organizar melhor a pauta até o fim do ano.'),\n",
       " ('\"Aceito votar autonomia do Banco, aceito, é claro, votar os depósitos voluntários, mas aí temos que organizar melhor a pauta até o fim do ano.',\n",
       "  'É só o governo ter boa vontade na reforma tributária\", disse Maia, ao participar de evento organizado pelo Itaú.'),\n",
       " ('É só o governo ter boa vontade na reforma tributária\", disse Maia, ao participar de evento organizado pelo Itaú.',\n",
       "  '\"A reforma tributária tem importância muito maior que autonomia do Banco Central\", comentou.\\n\\n'),\n",
       " ('\"A reforma tributária tem importância muito maior que autonomia do Banco Central\", comentou.\\n\\n',\n",
       "  'O projeto de autonomia do BC foi aprovado na terça-feira, 3, pelo Senado e agora precisa do aval dos deputados para virar lei.'),\n",
       " ('O projeto de autonomia do BC foi aprovado na terça-feira, 3, pelo Senado e agora precisa do aval dos deputados para virar lei.',\n",
       "  'O texto mantém o controle dos preços como objetivo central, mas inclui ainda duas novas metas acessórias, sem prejuízo à principal: suavizar as flutuações do nível de atividade econômica e fomentar o pleno emprego no País.'),\n",
       " ('O texto mantém o controle dos preços como objetivo central, mas inclui ainda duas novas metas acessórias, sem prejuízo à principal: suavizar as flutuações do nível de atividade econômica e fomentar o pleno emprego no País.',\n",
       "  'O governo concordou com a redação da proposta, apesar de o BC ser historicamente contrário a ampliar o escopo da atuação.\\n\\n'),\n",
       " ('O governo concordou com a redação da proposta, apesar de o BC ser historicamente contrário a ampliar o escopo da atuação.\\n\\n',\n",
       "  'Maia já reclamou outras vezes da falta de empenho e atuação do governo para se aprovar a medida.'),\n",
       " ('Maia já reclamou outras vezes da falta de empenho e atuação do governo para se aprovar a medida.',\n",
       "  'Na semana passada, acusou o presidente do Banco Central, Roberto Campos Neto, de ter vazado informações sobre conversa que os dois tiveram no dia da decisão do Comitê de Política Monetária (Copom), que manteve a taxa Selic em 2% ao ano.\\n\\n'),\n",
       " ('Na semana passada, acusou o presidente do Banco Central, Roberto Campos Neto, de ter vazado informações sobre conversa que os dois tiveram no dia da decisão do Comitê de Política Monetária (Copom), que manteve a taxa Selic em 2% ao ano.\\n\\n',\n",
       "  'Ao jornal'),\n",
       " ('Ao jornal',\n",
       "  'O Estado de S. Paulo, Maia criticou a articulação do presidente do BC em alertar sobre os reflexos para a economia da dificuldade do Congresso em avançar com as votações da pauta de ajuste fiscal.'),\n",
       " ('O Estado de S. Paulo, Maia criticou a articulação do presidente do BC em alertar sobre os reflexos para a economia da dificuldade do Congresso em avançar com as votações da pauta de ajuste fiscal.',\n",
       "  'Segundo o presidente da Câmara, Campos Neto tentou fazer uma articulação política, sem combinar, o que não seria papel dele, mas dos ministros da Economia, Paulo Guedes, e da articulação política, Luiz Eduardo Ramos.\\n\\n'),\n",
       " ('Segundo o presidente da Câmara, Campos Neto tentou fazer uma articulação política, sem combinar, o que não seria papel dele, mas dos ministros da Economia, Paulo Guedes, e da articulação política, Luiz Eduardo Ramos.\\n\\n',\n",
       "  'Nesta sexta-feira, o presidente da Câmara lembrou que havia uma proposta de autonomia do BC semelhante na Câmara, mas que não foi votada, e disse que não comentou até agora sobre o tema porque não foi procurado pelo governo para falar sobre o assunto.'),\n",
       " ('Nesta sexta-feira, o presidente da Câmara lembrou que havia uma proposta de autonomia do BC semelhante na Câmara, mas que não foi votada, e disse que não comentou até agora sobre o tema porque não foi procurado pelo governo para falar sobre o assunto.',\n",
       "  '\"Se eu conseguisse conversar com alguém do governo, eu poderia te responder, mas ninguém me procura.'),\n",
       " ('\"Se eu conseguisse conversar com alguém do governo, eu poderia te responder, mas ninguém me procura.',\n",
       "  'Não vou conversar com a imprensa antes de conversar com o governo\", disse.\\n\\n'),\n",
       " ('Não vou conversar com a imprensa antes de conversar com o governo\", disse.\\n\\n',\n",
       "  'Como o Broadcast (sistema de notícias em tempo real do Grupo Estado) mostrou na quinta-feira, deputados já se articulam na Câmara para modificar o projeto aprovado pelo Senado.'),\n",
       " ('Como o Broadcast (sistema de notícias em tempo real do Grupo Estado) mostrou na quinta-feira, deputados já se articulam na Câmara para modificar o projeto aprovado pelo Senado.',\n",
       "  'O partido Novo, por exemplo, quer enxugar a proposta que recebeu aval dos senadores para reduzir os chamados acessórios que foram colocados para o Banco Central.\\n\\n'),\n",
       " ('O partido Novo, por exemplo, quer enxugar a proposta que recebeu aval dos senadores para reduzir os chamados acessórios que foram colocados para o Banco Central.\\n\\n',\n",
       "  'Sobre a reforma tributária, Maia deu sinais de que quer aprovar o projeto antes de deixar a presidência da Casa e acredita que com acordo pode fazer isso rapidamente.')]"
      ]
     },
     "execution_count": 29,
     "metadata": {},
     "output_type": "execute_result"
    }
   ],
   "source": [
    "pares = [(s1,s2) for s1,s2 in pairwise(sentencas)]\n",
    "\n",
    "pares"
   ]
  },
  {
   "cell_type": "code",
   "execution_count": 30,
   "metadata": {},
   "outputs": [
    {
     "data": {
      "text/plain": [
       "['Bleu T->H',\n",
       " 'Bleu H->T',\n",
       " 'Cosine TED',\n",
       " 'Cosine TED / Length T',\n",
       " 'Cosine TED / Length H',\n",
       " 'Depedency Overlap T',\n",
       " 'Depedency Overlap H',\n",
       " 'Nominalization in H',\n",
       " 'Nominalization in T',\n",
       " 'Length Ratio',\n",
       " 'Verb Structure T->H',\n",
       " 'Verb Structure H->T',\n",
       " 'Negated Verb',\n",
       " 'Quantity Match',\n",
       " 'Quantity Mismatch',\n",
       " 'Sentence Cosine',\n",
       " 'Simple TED',\n",
       " 'TED / Length T',\n",
       " 'TED / Length H',\n",
       " 'Soft Overlap T->H',\n",
       " 'Soft Overlap H->T',\n",
       " 'Overlap T',\n",
       " 'Overlap H',\n",
       " 'Synonym Overlap T',\n",
       " 'Synonym Overlap H',\n",
       " 'Non-aligned Entity T',\n",
       " 'Non-aligned Entity H',\n",
       " 'Has Aligned Entity']"
      ]
     },
     "execution_count": 30,
     "metadata": {},
     "output_type": "execute_result"
    }
   ],
   "source": [
    "extrator = fe.FeatureExtractor(both=True)\n",
    "\n",
    "extrator.get_feature_names()"
   ]
  },
  {
   "cell_type": "code",
   "execution_count": 31,
   "metadata": {},
   "outputs": [
    {
     "data": {
      "text/plain": [
       "<infernal.datastructures.Pair at 0x7f508bd295b0>"
      ]
     },
     "execution_count": 31,
     "metadata": {},
     "output_type": "execute_result"
    }
   ],
   "source": [
    "from infernal.datastructures import Entailment \n",
    "s1,s2 = pares[0]\n",
    "\n",
    "\n",
    "par = ds.Pair(s1,s2, 0, Entailment.none)\n",
    "\n",
    "par"
   ]
  },
  {
   "cell_type": "code",
   "execution_count": 32,
   "metadata": {},
   "outputs": [
    {
     "name": "stdout",
     "output_type": "stream",
     "text": [
      "['_', '__class__', '__delattr__', '__dir__', '__doc__', '__eq__', '__format__', '__ge__', '__getattribute__', '__getitem__', '__gt__', '__hash__', '__init__', '__init_subclass__', '__iter__', '__le__', '__len__', '__lt__', '__ne__', '__new__', '__pyx_vtable__', '__reduce__', '__reduce_ex__', '__repr__', '__setattr__', '__sizeof__', '__str__', '__subclasshook__', '_fix_dep_copy', '_recalculate_indices', '_vector', '_vector_norm', 'as_doc', 'char_span', 'conjuncts', 'doc', 'end', 'end_char', 'ent_id', 'ent_id_', 'ents', 'get_extension', 'get_lca_matrix', 'has_extension', 'has_vector', 'kb_id', 'kb_id_', 'label', 'label_', 'lefts', 'lemma_', 'lower_', 'merge', 'n_lefts', 'n_rights', 'noun_chunks', 'orth_', 'remove_extension', 'rights', 'root', 'sent', 'sentiment', 'set_extension', 'similarity', 'start', 'start_char', 'string', 'subtree', 'tensor', 'text', 'text_with_ws', 'to_array', 'upper_', 'vector', 'vector_norm', 'vocab']\n",
      "<class 'spacy.tokens.span.Span'>\n"
     ]
    },
    {
     "data": {
      "text/plain": [
       "['_',\n",
       " '__class__',\n",
       " '__delattr__',\n",
       " '__dir__',\n",
       " '__doc__',\n",
       " '__eq__',\n",
       " '__format__',\n",
       " '__ge__',\n",
       " '__getattribute__',\n",
       " '__getitem__',\n",
       " '__gt__',\n",
       " '__hash__',\n",
       " '__init__',\n",
       " '__init_subclass__',\n",
       " '__iter__',\n",
       " '__le__',\n",
       " '__len__',\n",
       " '__lt__',\n",
       " '__ne__',\n",
       " '__new__',\n",
       " '__pyx_vtable__',\n",
       " '__reduce__',\n",
       " '__reduce_ex__',\n",
       " '__repr__',\n",
       " '__setattr__',\n",
       " '__sizeof__',\n",
       " '__str__',\n",
       " '__subclasshook__',\n",
       " '_fix_dep_copy',\n",
       " '_recalculate_indices',\n",
       " '_vector',\n",
       " '_vector_norm',\n",
       " 'as_doc',\n",
       " 'char_span',\n",
       " 'conjuncts',\n",
       " 'doc',\n",
       " 'end',\n",
       " 'end_char',\n",
       " 'ent_id',\n",
       " 'ent_id_',\n",
       " 'ents',\n",
       " 'get_extension',\n",
       " 'get_lca_matrix',\n",
       " 'has_extension',\n",
       " 'has_vector',\n",
       " 'kb_id',\n",
       " 'kb_id_',\n",
       " 'label',\n",
       " 'label_',\n",
       " 'lefts',\n",
       " 'lemma_',\n",
       " 'lower_',\n",
       " 'merge',\n",
       " 'n_lefts',\n",
       " 'n_rights',\n",
       " 'noun_chunks',\n",
       " 'orth_',\n",
       " 'remove_extension',\n",
       " 'rights',\n",
       " 'root',\n",
       " 'sent',\n",
       " 'sentiment',\n",
       " 'set_extension',\n",
       " 'similarity',\n",
       " 'start',\n",
       " 'start_char',\n",
       " 'string',\n",
       " 'subtree',\n",
       " 'tensor',\n",
       " 'text',\n",
       " 'text_with_ws',\n",
       " 'to_array',\n",
       " 'upper_',\n",
       " 'vector',\n",
       " 'vector_norm',\n",
       " 'vocab']"
      ]
     },
     "execution_count": 32,
     "metadata": {},
     "output_type": "execute_result"
    }
   ],
   "source": [
    "s_ex = None\n",
    "for i,s in enumerate(textdoc.sents):\n",
    "    s_ex = s\n",
    "    if i == 1:\n",
    "        break\n",
    "    print(dir(s))\n",
    "    print(type(s))\n",
    "\n",
    "dir(s_ex)"
   ]
  },
  {
   "cell_type": "code",
   "execution_count": null,
   "metadata": {},
   "outputs": [],
   "source": [
    "from text_document import TextDocument\n",
    "\n",
    "td = TextDocument(texto)"
   ]
  },
  {
   "cell_type": "code",
   "execution_count": null,
   "metadata": {
    "scrolled": false
   },
   "outputs": [],
   "source": [
    "for i, sent in enumerate(td.sentences):\n",
    "    print()\n",
    "    print(\"ID: \", str(i))   \n",
    "    print(sent.tokens_dbpedia_metions)\n",
    "    print(\"Texto Original: \", sent.text)    "
   ]
  },
  {
   "cell_type": "code",
   "execution_count": 20,
   "metadata": {
    "scrolled": false
   },
   "outputs": [
    {
     "ename": "AttributeError",
     "evalue": "'str' object has no attribute 'keys'",
     "output_type": "error",
     "traceback": [
      "\u001b[0;31m--------------------------------------------------------------------\u001b[0m",
      "\u001b[0;31mAttributeError\u001b[0m                     Traceback (most recent call last)",
      "\u001b[0;32m<ipython-input-20-df2fcc49f065>\u001b[0m in \u001b[0;36m<module>\u001b[0;34m\u001b[0m\n\u001b[1;32m      5\u001b[0m \u001b[0mdbpedia_mentions_entries\u001b[0m \u001b[0;34m=\u001b[0m \u001b[0mhtools\u001b[0m\u001b[0;34m.\u001b[0m\u001b[0mget_dbpedia_entries\u001b[0m\u001b[0;34m(\u001b[0m\u001b[0mtexto\u001b[0m\u001b[0;34m)\u001b[0m\u001b[0;34m\u001b[0m\u001b[0;34m\u001b[0m\u001b[0m\n\u001b[1;32m      6\u001b[0m \u001b[0;32mfor\u001b[0m \u001b[0mentry\u001b[0m \u001b[0;32min\u001b[0m \u001b[0mdbpedia_mentions_entries\u001b[0m\u001b[0;34m:\u001b[0m\u001b[0;34m\u001b[0m\u001b[0;34m\u001b[0m\u001b[0m\n\u001b[0;32m----> 7\u001b[0;31m     \u001b[0;32mif\u001b[0m \u001b[0mentry\u001b[0m \u001b[0;32mand\u001b[0m \u001b[0;34m'raw_text'\u001b[0m \u001b[0;32min\u001b[0m \u001b[0mentry\u001b[0m\u001b[0;34m.\u001b[0m\u001b[0mkeys\u001b[0m\u001b[0;34m(\u001b[0m\u001b[0;34m)\u001b[0m\u001b[0;34m:\u001b[0m\u001b[0;34m\u001b[0m\u001b[0;34m\u001b[0m\u001b[0m\n\u001b[0m\u001b[1;32m      8\u001b[0m         \u001b[0mdbpedia_mentions\u001b[0m\u001b[0;34m.\u001b[0m\u001b[0mappend\u001b[0m\u001b[0;34m(\u001b[0m\u001b[0mentry\u001b[0m\u001b[0;34m[\u001b[0m\u001b[0;34m'raw_text'\u001b[0m\u001b[0;34m]\u001b[0m\u001b[0;34m.\u001b[0m\u001b[0mreplace\u001b[0m\u001b[0;34m(\u001b[0m\u001b[0;34m\"'\"\u001b[0m\u001b[0;34m,\u001b[0m\u001b[0;34m''\u001b[0m\u001b[0;34m)\u001b[0m\u001b[0;34m)\u001b[0m\u001b[0;34m\u001b[0m\u001b[0;34m\u001b[0m\u001b[0m\n\u001b[1;32m      9\u001b[0m \u001b[0;34m\u001b[0m\u001b[0m\n",
      "\u001b[0;31mAttributeError\u001b[0m: 'str' object has no attribute 'keys'"
     ]
    }
   ],
   "source": [
    "import helper_tools as htools\n",
    "\n",
    "#htools.get_dbpedia_mentions(texto)\n",
    "dbpedia_mentions = []\n",
    "dbpedia_mentions_entries = htools.get_dbpedia_entries(texto)\n",
    "for key, entry in dbpedia_mentions_entries.items():\n",
    "    if entry and key == 'raw_text':        \n",
    "        dbpedia_mentions.append(entry['raw_text'].replace(\"'\",''))\n",
    "\n",
    "print(dbpedia_mentions)\n",
    "print(dbpedia_mentions_entries)"
   ]
  },
  {
   "cell_type": "code",
   "execution_count": null,
   "metadata": {},
   "outputs": [],
   "source": [
    "# Recuperar os tokens que constituem os spans relacionados\n",
    "# as menções obtidas da dbpedia spotlight\n",
    "\n",
    "ent1 = list(dbpedia_mentions_entries.values())[0]\n",
    "\n",
    "tk0 = None\n",
    "for t in td.sentences[0].annotated:\n",
    "    if  t.idx == int(ent1['pos']):\n",
    "        tk0 = t\n",
    "\n",
    "\n",
    "sp1 = td.sentences[0].annotated[tk0.i:tk0.i+len(ent1['raw_text'].split())]\n",
    "for t in sp1:\n",
    "    print(type(t))\n",
    "    print(t.pos_)\n",
    "    print(t.text)"
   ]
  },
  {
   "cell_type": "code",
   "execution_count": null,
   "metadata": {},
   "outputs": [],
   "source": [
    "from single_sentence import SingleSentence\n",
    "\n",
    "for i,s in enumerate(td.sentences):\n",
    "    if i == 1:\n",
    "        break\n",
    "\n",
    "id_sent = 1        \n",
    "    \n",
    "    \n",
    "#for t in td.sentences[id_sent].list_fe:    \n",
    "#    print(f\"{t} -- {t.pos_} -- {t.dep_}\")\n",
    "    \n",
    "#print(td.sentences[0].list_fe)    \n",
    "#s_ano = td.nlp_processor(td.sentences[0].text)\n",
    "#spacy.displacy.render(s_ano, style=\"dep\", options = {\"compact\": True})\n",
    "\n",
    "#print(td.sentences[1].list_fe)    \n",
    "#s_ano = td.nlp_processor(td.sentences[1].text)\n",
    "#spacy.displacy.render(s_ano, style=\"dep\", options = {\"compact\": True})"
   ]
  },
  {
   "cell_type": "code",
   "execution_count": null,
   "metadata": {
    "scrolled": false
   },
   "outputs": [],
   "source": [
    "for i, sent in enumerate(td.sentences):\n",
    "    print()\n",
    "    print(\"ID: \", str(i))    \n",
    "    print(\"Texto Original: \", sent.text)    \n",
    "    print()    \n",
    "    print(\"Lista de Foco Explícito: \", [s for s in sent.list_fe])    \n",
    "    print()\n",
    "    print(\"Lista de Entidades Nomeadas: \", sent.named_entities)    \n",
    "    print()\n",
    "    print(\"Lista de Menções DBPedia: \", str(sent.dbpedia_mentions))    \n",
    "    #if i == 4:\n",
    "    #    spacy.displacy.render(sent.anotated, style=\"dep\", options = {\"compact\": True})    \n",
    "    print(\"-\"*100)\n",
    "    \n",
    "    \n",
    "\n",
    "#s_disp = td.nlp_processor(td.sentences[4].text)\n",
    "#spacy.displacy.render(s_disp, style=\"dep\", options = {\"compact\": True})    "
   ]
  },
  {
   "cell_type": "code",
   "execution_count": null,
   "metadata": {},
   "outputs": [],
   "source": [
    "#print(td.sentences[0].dbpedia_mentions[0])\n",
    "for i, sent in enumerate(td.sentences):\n",
    "    for text_token in sent.list_fe:    \n",
    "        pos_token = sent.tokens_fe_pos_tags[text_token].pos_ if text_token in sent.tokens_fe_pos_tags.keys() else None\n",
    "        print(text_token, pos_token)"
   ]
  },
  {
   "cell_type": "code",
   "execution_count": null,
   "metadata": {},
   "outputs": [],
   "source": [
    "sent = td.sentences[0]\n",
    "\n",
    "import itertools as itt\n",
    "\n",
    "it_fe_pairs = itt.permutations(sent.list_fe, 2)\n",
    "\n",
    "\n",
    "print([elem_fe_pair for elem_fe_pair in it_fe_pairs])"
   ]
  },
  {
   "cell_type": "code",
   "execution_count": null,
   "metadata": {},
   "outputs": [],
   "source": [
    "import itertools as itt\n",
    "\n",
    "it_fe_pairs = itt.permutations(sent.list_fe, 2)\n",
    "head_elem = None\n",
    "is_part_of_other = False\n",
    "elems_to_exclude = set([])\n",
    "for a,b in it_fe_pairs:    \n",
    "    if len(a.split()) == 1:    \n",
    "        if a in b:\n",
    "            elems_to_exclude.add(a)\n",
    "            is_part_of_other = True            \n",
    "            \n",
    "print(sent.list_fe,' - ', len(sent.list_fe))    \n",
    "list_fe = list(set(sent.list_fe).difference(set(elems_to_exclude)))\n",
    "print(list_fe,' - ', len(list_fe))    "
   ]
  },
  {
   "cell_type": "code",
   "execution_count": null,
   "metadata": {},
   "outputs": [],
   "source": [
    "ss = td.sentences[3]\n",
    "\n",
    "#print(dir(ss.anotated))\n",
    "#ss.anotated.start\n",
    "\n",
    "sentence_tokens = [token for token in ss.annotated]\n",
    "type(sentence_tokens[0])\n",
    "#sentence_tokens"
   ]
  },
  {
   "cell_type": "code",
   "execution_count": null,
   "metadata": {},
   "outputs": [],
   "source": []
  },
  {
   "cell_type": "code",
   "execution_count": null,
   "metadata": {},
   "outputs": [],
   "source": [
    "# Vinculate token and sentence\n",
    "import spacy\n",
    "from spacy.tokens import Token\n",
    "\n",
    "def get_sentence(token):\n",
    "    for sent in token.doc.sents:\n",
    "        if sent.start <= token.i:\n",
    "            return sent\n",
    "\n",
    "# Add a computed property, which will be accessible as token._.sent\n",
    "Token.set_extension('sent', getter=get_sentence)\n",
    "\n",
    "nlp = spacy.load('en_core_web_sm')\n",
    "doc = nlp(u'Sentence one. Sentence two.')\n",
    "print(list(doc.sents))\n",
    "print(doc[0]._.sent)\n",
    "print(doc[-1]._.sent)"
   ]
  },
  {
   "cell_type": "markdown",
   "metadata": {},
   "source": [
    "### Problema de segmentação de sentenças nas asspas que iniciam uma frase\n",
    "\n",
    "Esse problema provavelmente, não dá pra resolver apenas alterando as marcações de início das sentenças, por que no caso de asspas que iniciam uma frase, o parser de dependências marca elas como ROOT e acho que isso faz com que a marcação fiquei incorreta, mas não se consiga alterar os marcadores de borda das sentenças. "
   ]
  },
  {
   "cell_type": "code",
   "execution_count": null,
   "metadata": {},
   "outputs": [],
   "source": [
    "def set_custom_boundaries(doc):        \n",
    "    for token in doc[:-1]:        \n",
    "        if token.text == \"\\\"\" and \\\n",
    "           token.is_sent_start and \\\n",
    "           token.is_sent_end:            \n",
    "            doc[token.i+1].is_sent_start = False\n",
    "    \n",
    "    return doc\n",
    "\n",
    "nlp.add_pipe(set_custom_boundaries, before=\"parser\")\n"
   ]
  },
  {
   "cell_type": "code",
   "execution_count": null,
   "metadata": {},
   "outputs": [],
   "source": [
    "def set_custom_boundaries(doc):        \n",
    "    for token in doc[:-1]:        \n",
    "        if token.text == \"\\\"\" and \\\n",
    "           token.is_sent_start and \\\n",
    "           token.is_sent_end:            \n",
    "            doc[token.i+1].is_sent_start = False\n",
    "    \n",
    "    return doc\n",
    "\n",
    "nlp.add_pipe(set_custom_boundaries, before=\"parser\")\n"
   ]
  },
  {
   "cell_type": "code",
   "execution_count": null,
   "metadata": {},
   "outputs": [],
   "source": [
    "nlp.remove_pipe('set_custom_boundaries')\n",
    "#nlp.remove_pipe('sbd')"
   ]
  },
  {
   "cell_type": "code",
   "execution_count": null,
   "metadata": {},
   "outputs": [],
   "source": [
    "from spacy.pipeline import SentenceSegmenter\n",
    "\n",
    "for n,_ in nlp.pipeline:\n",
    "    if 'sentencizer_hook' == n: \n",
    "        nlp.remove_pipe('sentencizer_hook')\n",
    "\n",
    "def split_on_breaks(doc):\n",
    "    start = 0\n",
    "    seen_break = False\n",
    "    for word in doc:\n",
    "        if seen_break:\n",
    "            yield doc[start:word.i-1]\n",
    "            start = word.i\n",
    "            seen_break = False\n",
    "        elif word.text == '\"' and \\\n",
    "             word.is_sent_start and \\\n",
    "             word.is_sent_end:\n",
    "            seen_break = True\n",
    "            #yield doc[start:word.i-1]\n",
    "            #start = word.i+1\n",
    "    if start < len(doc):\n",
    "        yield doc[start:len(doc)]\n",
    "\n",
    "sbd = SentenceSegmenter(nlp.vocab, strategy=split_on_breaks)\n",
    "nlp.add_pipe(sbd, first=False)"
   ]
  },
  {
   "cell_type": "code",
   "execution_count": null,
   "metadata": {},
   "outputs": [],
   "source": [
    "def get_sentences(text):\n",
    "    doc = nlp(text)\n",
    "    return (list(doc.sents)) # convert to string if required."
   ]
  },
  {
   "cell_type": "code",
   "execution_count": null,
   "metadata": {},
   "outputs": [],
   "source": [
    "text = '''\"É só o governo ter boa vontade na reforma tributária\", disse Maia, ao participar de evento organizado pelo Itaú. \n",
    "\"A reforma tributária tem importância muito maior que autonomia do Banco Central\", comentou. O projeto de autonomia do BC foi aprovado na terça-feira, 3, pelo Senado e agora precisa do aval dos deputados para virar lei.'''\n",
    "\n",
    "#get_sentences(text)\n",
    "doc = nlp(text)\n",
    "sents = [sent.text for sent in doc.sents]\n",
    "print(\"After:\", sents)\n",
    "print(\"tamanho:\", len(sents))"
   ]
  },
  {
   "cell_type": "code",
   "execution_count": null,
   "metadata": {},
   "outputs": [],
   "source": [
    "import split_utils as su\n",
    "su.split_by_sentence(texto)"
   ]
  },
  {
   "cell_type": "code",
   "execution_count": null,
   "metadata": {},
   "outputs": [],
   "source": [
    "for token in doc:\n",
    "    #if doc[token.i].is_sent_start and \\\n",
    "    #   doc[token.i].is_sent_end and \\\n",
    "    #   doc[token.i].text == '\"': \n",
    "    if doc[token.i].text == '\"': \n",
    "        print(doc[token.i-1].is_sent_start, doc[token.i-1].is_sent_end, doc[token.i-1].text)                        \n",
    "        print(doc[token.i].is_sent_start,   doc[token.i].is_sent_end, doc[token.i].text)            \n",
    "        print(doc[token.i+1].is_sent_start, doc[token.i+1].is_sent_end, doc[token.i+1].text)\n",
    "        print(doc[token.i].dep_)\n",
    "        print()\n"
   ]
  },
  {
   "cell_type": "code",
   "execution_count": null,
   "metadata": {
    "scrolled": false
   },
   "outputs": [],
   "source": [
    "for token in doc[:-1]:            \n",
    "        print(doc[token.i].is_sent_start,   doc[token.i].is_sent_end, doc[token.i].text)                    \n",
    "        print(doc[token.i].pos_)\n",
    "        print(doc[token.i].dep_)\n",
    "        print()\n"
   ]
  },
  {
   "cell_type": "code",
   "execution_count": null,
   "metadata": {},
   "outputs": [],
   "source": []
  }
 ],
 "metadata": {
  "kernelspec": {
   "display_name": "Python 3",
   "language": "python",
   "name": "python3"
  },
  "language_info": {
   "codemirror_mode": {
    "name": "ipython",
    "version": 3
   },
   "file_extension": ".py",
   "mimetype": "text/x-python",
   "name": "python",
   "nbconvert_exporter": "python",
   "pygments_lexer": "ipython3",
   "version": "3.8.5"
  }
 },
 "nbformat": 4,
 "nbformat_minor": 2
}
