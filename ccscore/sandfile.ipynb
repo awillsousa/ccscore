{
 "cells": [
  {
   "cell_type": "code",
   "execution_count": 2,
   "metadata": {},
   "outputs": [],
   "source": [
    "from infernal import feature_extraction as fe\n",
    "import spacy"
   ]
  },
  {
   "cell_type": "code",
   "execution_count": 3,
   "metadata": {},
   "outputs": [],
   "source": [
    "nlp = spacy.load('pt_core_news_lg')"
   ]
  },
  {
   "cell_type": "code",
   "execution_count": 4,
   "metadata": {},
   "outputs": [],
   "source": [
    "#!python -m spacy download pt_core_news_lg\n",
    "#!pip install zss rdflib"
   ]
  },
  {
   "cell_type": "code",
   "execution_count": 5,
   "metadata": {},
   "outputs": [
    {
     "data": {
      "text/plain": [
       "'Defendida por agentes do mercado financeiro e uma das bandeiras da equipe econômica do governo Jair Bolsonaro, o projeto de autonomia do Banco Central (BC) deve avançar na Câmara só após a reforma tributária andar, no que depender do presidente da Casa, Rodrigo Maia (DEM-RJ). Para ele, o projeto sobre a instituição presidida por Roberto Campos Neto não é urgente no curto prazo.\\n\\n\"Aceito votar autonomia do Banco, aceito, é claro, votar os depósitos voluntários, mas aí temos que organizar melhor a pauta até o fim do ano. É só o governo ter boa vontade na reforma tributária\", disse Maia, ao participar de evento organizado pelo Itaú. \"A reforma tributária tem importância muito maior que autonomia do Banco Central\", comentou.\\n\\nO projeto de autonomia do BC foi aprovado na terça-feira, 3, pelo Senado e agora precisa do aval dos deputados para virar lei. O texto mantém o controle dos preços como objetivo central, mas inclui ainda duas novas metas acessórias, sem prejuízo à principal: suavizar as flutuações do nível de atividade econômica e fomentar o pleno emprego no País. O governo concordou com a redação da proposta, apesar de o BC ser historicamente contrário a ampliar o escopo da atuação.\\n\\nMaia já reclamou outras vezes da falta de empenho e atuação do governo para se aprovar a medida. Na semana passada, acusou o presidente do Banco Central, Roberto Campos Neto, de ter vazado informações sobre conversa que os dois tiveram no dia da decisão do Comitê de Política Monetária (Copom), que manteve a taxa Selic em 2% ao ano.\\n\\nAo jornal O Estado de S. Paulo, Maia criticou a articulação do presidente do BC em alertar sobre os reflexos para a economia da dificuldade do Congresso em avançar com as votações da pauta de ajuste fiscal. Segundo o presidente da Câmara, Campos Neto tentou fazer uma articulação política, sem combinar, o que não seria papel dele, mas dos ministros da Economia, Paulo Guedes, e da articulação política, Luiz Eduardo Ramos.\\n\\nNesta sexta-feira, o presidente da Câmara lembrou que havia uma proposta de autonomia do BC semelhante na Câmara, mas que não foi votada, e disse que não comentou até agora sobre o tema porque não foi procurado pelo governo para falar sobre o assunto. \"Se eu conseguisse conversar com alguém do governo, eu poderia te responder, mas ninguém me procura. Não vou conversar com a imprensa antes de conversar com o governo\", disse.\\n\\nComo o Broadcast (sistema de notícias em tempo real do Grupo Estado) mostrou na quinta-feira, deputados já se articulam na Câmara para modificar o projeto aprovado pelo Senado. O partido Novo, por exemplo, quer enxugar a proposta que recebeu aval dos senadores para reduzir os chamados acessórios que foram colocados para o Banco Central.\\n\\nSobre a reforma tributária, Maia deu sinais de que quer aprovar o projeto antes de deixar a presidência da Casa e acredita que com acordo pode fazer isso rapidamente.'"
      ]
     },
     "execution_count": 5,
     "metadata": {},
     "output_type": "execute_result"
    }
   ],
   "source": [
    "texto = '''Defendida por agentes do mercado financeiro e uma das bandeiras da equipe econômica do governo Jair Bolsonaro, o projeto de autonomia do Banco Central (BC) deve avançar na Câmara só após a reforma tributária andar, no que depender do presidente da Casa, Rodrigo Maia (DEM-RJ). Para ele, o projeto sobre a instituição presidida por Roberto Campos Neto não é urgente no curto prazo.\n",
    "\n",
    "\"Aceito votar autonomia do Banco, aceito, é claro, votar os depósitos voluntários, mas aí temos que organizar melhor a pauta até o fim do ano. É só o governo ter boa vontade na reforma tributária\", disse Maia, ao participar de evento organizado pelo Itaú. \"A reforma tributária tem importância muito maior que autonomia do Banco Central\", comentou.\n",
    "\n",
    "O projeto de autonomia do BC foi aprovado na terça-feira, 3, pelo Senado e agora precisa do aval dos deputados para virar lei. O texto mantém o controle dos preços como objetivo central, mas inclui ainda duas novas metas acessórias, sem prejuízo à principal: suavizar as flutuações do nível de atividade econômica e fomentar o pleno emprego no País. O governo concordou com a redação da proposta, apesar de o BC ser historicamente contrário a ampliar o escopo da atuação.\n",
    "\n",
    "Maia já reclamou outras vezes da falta de empenho e atuação do governo para se aprovar a medida. Na semana passada, acusou o presidente do Banco Central, Roberto Campos Neto, de ter vazado informações sobre conversa que os dois tiveram no dia da decisão do Comitê de Política Monetária (Copom), que manteve a taxa Selic em 2% ao ano.\n",
    "\n",
    "Ao jornal O Estado de S. Paulo, Maia criticou a articulação do presidente do BC em alertar sobre os reflexos para a economia da dificuldade do Congresso em avançar com as votações da pauta de ajuste fiscal. Segundo o presidente da Câmara, Campos Neto tentou fazer uma articulação política, sem combinar, o que não seria papel dele, mas dos ministros da Economia, Paulo Guedes, e da articulação política, Luiz Eduardo Ramos.\n",
    "\n",
    "Nesta sexta-feira, o presidente da Câmara lembrou que havia uma proposta de autonomia do BC semelhante na Câmara, mas que não foi votada, e disse que não comentou até agora sobre o tema porque não foi procurado pelo governo para falar sobre o assunto. \"Se eu conseguisse conversar com alguém do governo, eu poderia te responder, mas ninguém me procura. Não vou conversar com a imprensa antes de conversar com o governo\", disse.\n",
    "\n",
    "Como o Broadcast (sistema de notícias em tempo real do Grupo Estado) mostrou na quinta-feira, deputados já se articulam na Câmara para modificar o projeto aprovado pelo Senado. O partido Novo, por exemplo, quer enxugar a proposta que recebeu aval dos senadores para reduzir os chamados acessórios que foram colocados para o Banco Central.\n",
    "\n",
    "Sobre a reforma tributária, Maia deu sinais de que quer aprovar o projeto antes de deixar a presidência da Casa e acredita que com acordo pode fazer isso rapidamente.'''\n",
    "\n",
    "texto"
   ]
  },
  {
   "cell_type": "code",
   "execution_count": 6,
   "metadata": {},
   "outputs": [],
   "source": [
    "textdoc = nlp(texto)"
   ]
  },
  {
   "cell_type": "code",
   "execution_count": 7,
   "metadata": {},
   "outputs": [],
   "source": [
    "from itertools import tee\n",
    "\n",
    "def pairwise(iterable):\n",
    "    \"s -> (s0,s1), (s1,s2), (s2, s3), ...\"\n",
    "    a, b = tee(iterable)    \n",
    "    next(b, None)\n",
    "    return zip(a, b)"
   ]
  },
  {
   "cell_type": "code",
   "execution_count": 8,
   "metadata": {},
   "outputs": [
    {
     "data": {
      "text/plain": [
       "[(0,\n",
       "  Defendida por agentes do mercado financeiro e uma das bandeiras da equipe econômica do governo Jair Bolsonaro, o projeto de autonomia do Banco Central (BC) deve avançar na Câmara só após a reforma tributária andar, no que depender do presidente da Casa, Rodrigo Maia (DEM-RJ).),\n",
       " (1,\n",
       "  Para ele, o projeto sobre a instituição presidida por Roberto Campos Neto não é urgente no curto prazo.\n",
       "  ),\n",
       " (2, \"),\n",
       " (3,\n",
       "  Aceito votar autonomia do Banco, aceito, é claro, votar os depósitos voluntários, mas aí temos que organizar melhor a pauta até o fim do ano.),\n",
       " (4,\n",
       "  É só o governo ter boa vontade na reforma tributária\", disse Maia, ao participar de evento organizado pelo Itaú.),\n",
       " (5, \"),\n",
       " (6,\n",
       "  A reforma tributária tem importância muito maior que autonomia do Banco Central\", comentou.\n",
       "  ),\n",
       " (7,\n",
       "  O projeto de autonomia do BC foi aprovado na terça-feira, 3, pelo Senado e agora precisa do aval dos deputados para virar lei.),\n",
       " (8,\n",
       "  O texto mantém o controle dos preços como objetivo central, mas inclui ainda duas novas metas acessórias, sem prejuízo à principal: suavizar as flutuações do nível de atividade econômica e fomentar o pleno emprego no País.),\n",
       " (9,\n",
       "  O governo concordou com a redação da proposta, apesar de o BC ser historicamente contrário a ampliar o escopo da atuação.\n",
       "  ),\n",
       " (10,\n",
       "  Maia já reclamou outras vezes da falta de empenho e atuação do governo para se aprovar a medida.),\n",
       " (11,\n",
       "  Na semana passada, acusou o presidente do Banco Central, Roberto Campos Neto, de ter vazado informações sobre conversa que os dois tiveram no dia da decisão do Comitê de Política Monetária (Copom), que manteve a taxa Selic em 2% ao ano.\n",
       "  ),\n",
       " (12, Ao jornal),\n",
       " (13,\n",
       "  O Estado de S. Paulo, Maia criticou a articulação do presidente do BC em alertar sobre os reflexos para a economia da dificuldade do Congresso em avançar com as votações da pauta de ajuste fiscal.),\n",
       " (14,\n",
       "  Segundo o presidente da Câmara, Campos Neto tentou fazer uma articulação política, sem combinar, o que não seria papel dele, mas dos ministros da Economia, Paulo Guedes, e da articulação política, Luiz Eduardo Ramos.\n",
       "  ),\n",
       " (15,\n",
       "  Nesta sexta-feira, o presidente da Câmara lembrou que havia uma proposta de autonomia do BC semelhante na Câmara, mas que não foi votada, e disse que não comentou até agora sobre o tema porque não foi procurado pelo governo para falar sobre o assunto.),\n",
       " (16, \"),\n",
       " (17,\n",
       "  Se eu conseguisse conversar com alguém do governo, eu poderia te responder, mas ninguém me procura.),\n",
       " (18,\n",
       "  Não vou conversar com a imprensa antes de conversar com o governo\", disse.\n",
       "  ),\n",
       " (19,\n",
       "  Como o Broadcast (sistema de notícias em tempo real do Grupo Estado) mostrou na quinta-feira, deputados já se articulam na Câmara para modificar o projeto aprovado pelo Senado.),\n",
       " (20,\n",
       "  O partido Novo, por exemplo, quer enxugar a proposta que recebeu aval dos senadores para reduzir os chamados acessórios que foram colocados para o Banco Central.\n",
       "  ),\n",
       " (21,\n",
       "  Sobre a reforma tributária, Maia deu sinais de que quer aprovar o projeto antes de deixar a presidência da Casa e acredita que com acordo pode fazer isso rapidamente.)]"
      ]
     },
     "execution_count": 8,
     "metadata": {},
     "output_type": "execute_result"
    }
   ],
   "source": [
    "list(enumerate(textdoc.sents))"
   ]
  },
  {
   "cell_type": "code",
   "execution_count": 9,
   "metadata": {},
   "outputs": [],
   "source": [
    "sentencas = []\n",
    "\n",
    "add_asspas = False\n",
    "for s in textdoc.sents:\n",
    "    if s.text == '\"':\n",
    "        add_asspas = True\n",
    "    else:\n",
    "        if add_asspas:\n",
    "            sentencas.append('\"'+s.text)\n",
    "            add_asspas = False\n",
    "        else:\n",
    "            sentencas.append(s.text)\n",
    "        "
   ]
  },
  {
   "cell_type": "code",
   "execution_count": 10,
   "metadata": {},
   "outputs": [
    {
     "data": {
      "text/plain": [
       "[('Defendida por agentes do mercado financeiro e uma das bandeiras da equipe econômica do governo Jair Bolsonaro, o projeto de autonomia do Banco Central (BC) deve avançar na Câmara só após a reforma tributária andar, no que depender do presidente da Casa, Rodrigo Maia (DEM-RJ).',\n",
       "  'Para ele, o projeto sobre a instituição presidida por Roberto Campos Neto não é urgente no curto prazo.\\n\\n'),\n",
       " ('Para ele, o projeto sobre a instituição presidida por Roberto Campos Neto não é urgente no curto prazo.\\n\\n',\n",
       "  '\"Aceito votar autonomia do Banco, aceito, é claro, votar os depósitos voluntários, mas aí temos que organizar melhor a pauta até o fim do ano.'),\n",
       " ('\"Aceito votar autonomia do Banco, aceito, é claro, votar os depósitos voluntários, mas aí temos que organizar melhor a pauta até o fim do ano.',\n",
       "  'É só o governo ter boa vontade na reforma tributária\", disse Maia, ao participar de evento organizado pelo Itaú.'),\n",
       " ('É só o governo ter boa vontade na reforma tributária\", disse Maia, ao participar de evento organizado pelo Itaú.',\n",
       "  '\"A reforma tributária tem importância muito maior que autonomia do Banco Central\", comentou.\\n\\n'),\n",
       " ('\"A reforma tributária tem importância muito maior que autonomia do Banco Central\", comentou.\\n\\n',\n",
       "  'O projeto de autonomia do BC foi aprovado na terça-feira, 3, pelo Senado e agora precisa do aval dos deputados para virar lei.'),\n",
       " ('O projeto de autonomia do BC foi aprovado na terça-feira, 3, pelo Senado e agora precisa do aval dos deputados para virar lei.',\n",
       "  'O texto mantém o controle dos preços como objetivo central, mas inclui ainda duas novas metas acessórias, sem prejuízo à principal: suavizar as flutuações do nível de atividade econômica e fomentar o pleno emprego no País.'),\n",
       " ('O texto mantém o controle dos preços como objetivo central, mas inclui ainda duas novas metas acessórias, sem prejuízo à principal: suavizar as flutuações do nível de atividade econômica e fomentar o pleno emprego no País.',\n",
       "  'O governo concordou com a redação da proposta, apesar de o BC ser historicamente contrário a ampliar o escopo da atuação.\\n\\n'),\n",
       " ('O governo concordou com a redação da proposta, apesar de o BC ser historicamente contrário a ampliar o escopo da atuação.\\n\\n',\n",
       "  'Maia já reclamou outras vezes da falta de empenho e atuação do governo para se aprovar a medida.'),\n",
       " ('Maia já reclamou outras vezes da falta de empenho e atuação do governo para se aprovar a medida.',\n",
       "  'Na semana passada, acusou o presidente do Banco Central, Roberto Campos Neto, de ter vazado informações sobre conversa que os dois tiveram no dia da decisão do Comitê de Política Monetária (Copom), que manteve a taxa Selic em 2% ao ano.\\n\\n'),\n",
       " ('Na semana passada, acusou o presidente do Banco Central, Roberto Campos Neto, de ter vazado informações sobre conversa que os dois tiveram no dia da decisão do Comitê de Política Monetária (Copom), que manteve a taxa Selic em 2% ao ano.\\n\\n',\n",
       "  'Ao jornal'),\n",
       " ('Ao jornal',\n",
       "  'O Estado de S. Paulo, Maia criticou a articulação do presidente do BC em alertar sobre os reflexos para a economia da dificuldade do Congresso em avançar com as votações da pauta de ajuste fiscal.'),\n",
       " ('O Estado de S. Paulo, Maia criticou a articulação do presidente do BC em alertar sobre os reflexos para a economia da dificuldade do Congresso em avançar com as votações da pauta de ajuste fiscal.',\n",
       "  'Segundo o presidente da Câmara, Campos Neto tentou fazer uma articulação política, sem combinar, o que não seria papel dele, mas dos ministros da Economia, Paulo Guedes, e da articulação política, Luiz Eduardo Ramos.\\n\\n'),\n",
       " ('Segundo o presidente da Câmara, Campos Neto tentou fazer uma articulação política, sem combinar, o que não seria papel dele, mas dos ministros da Economia, Paulo Guedes, e da articulação política, Luiz Eduardo Ramos.\\n\\n',\n",
       "  'Nesta sexta-feira, o presidente da Câmara lembrou que havia uma proposta de autonomia do BC semelhante na Câmara, mas que não foi votada, e disse que não comentou até agora sobre o tema porque não foi procurado pelo governo para falar sobre o assunto.'),\n",
       " ('Nesta sexta-feira, o presidente da Câmara lembrou que havia uma proposta de autonomia do BC semelhante na Câmara, mas que não foi votada, e disse que não comentou até agora sobre o tema porque não foi procurado pelo governo para falar sobre o assunto.',\n",
       "  '\"Se eu conseguisse conversar com alguém do governo, eu poderia te responder, mas ninguém me procura.'),\n",
       " ('\"Se eu conseguisse conversar com alguém do governo, eu poderia te responder, mas ninguém me procura.',\n",
       "  'Não vou conversar com a imprensa antes de conversar com o governo\", disse.\\n\\n'),\n",
       " ('Não vou conversar com a imprensa antes de conversar com o governo\", disse.\\n\\n',\n",
       "  'Como o Broadcast (sistema de notícias em tempo real do Grupo Estado) mostrou na quinta-feira, deputados já se articulam na Câmara para modificar o projeto aprovado pelo Senado.'),\n",
       " ('Como o Broadcast (sistema de notícias em tempo real do Grupo Estado) mostrou na quinta-feira, deputados já se articulam na Câmara para modificar o projeto aprovado pelo Senado.',\n",
       "  'O partido Novo, por exemplo, quer enxugar a proposta que recebeu aval dos senadores para reduzir os chamados acessórios que foram colocados para o Banco Central.\\n\\n'),\n",
       " ('O partido Novo, por exemplo, quer enxugar a proposta que recebeu aval dos senadores para reduzir os chamados acessórios que foram colocados para o Banco Central.\\n\\n',\n",
       "  'Sobre a reforma tributária, Maia deu sinais de que quer aprovar o projeto antes de deixar a presidência da Casa e acredita que com acordo pode fazer isso rapidamente.')]"
      ]
     },
     "execution_count": 10,
     "metadata": {},
     "output_type": "execute_result"
    }
   ],
   "source": [
    "pares = [(s1,s2) for s1,s2 in pairwise(sentencas)]\n",
    "\n",
    "pares"
   ]
  },
  {
   "cell_type": "code",
   "execution_count": 13,
   "metadata": {},
   "outputs": [],
   "source": [
    "extrator = fe.FeatureExtractor(both=True)"
   ]
  },
  {
   "cell_type": "code",
   "execution_count": 15,
   "metadata": {},
   "outputs": [
    {
     "data": {
      "text/plain": [
       "['Bleu T->H',\n",
       " 'Bleu H->T',\n",
       " 'Cosine TED',\n",
       " 'Cosine TED / Length T',\n",
       " 'Cosine TED / Length H',\n",
       " 'Depedency Overlap T',\n",
       " 'Depedency Overlap H',\n",
       " 'Nominalization in H',\n",
       " 'Nominalization in T',\n",
       " 'Length Ratio',\n",
       " 'Verb Structure T->H',\n",
       " 'Verb Structure H->T',\n",
       " 'Negated Verb',\n",
       " 'Quantity Match',\n",
       " 'Quantity Mismatch',\n",
       " 'Sentence Cosine',\n",
       " 'Simple TED',\n",
       " 'TED / Length T',\n",
       " 'TED / Length H',\n",
       " 'Soft Overlap T->H',\n",
       " 'Soft Overlap H->T',\n",
       " 'Overlap T',\n",
       " 'Overlap H',\n",
       " 'Synonym Overlap T',\n",
       " 'Synonym Overlap H',\n",
       " 'Non-aligned Entity T',\n",
       " 'Non-aligned Entity H',\n",
       " 'Has Aligned Entity']"
      ]
     },
     "execution_count": 15,
     "metadata": {},
     "output_type": "execute_result"
    }
   ],
   "source": [
    "extrator.get_feature_names()"
   ]
  },
  {
   "cell_type": "code",
   "execution_count": null,
   "metadata": {},
   "outputs": [],
   "source": []
  }
 ],
 "metadata": {
  "kernelspec": {
   "display_name": "Python 3",
   "language": "python",
   "name": "python3"
  },
  "language_info": {
   "codemirror_mode": {
    "name": "ipython",
    "version": 3
   },
   "file_extension": ".py",
   "mimetype": "text/x-python",
   "name": "python",
   "nbconvert_exporter": "python",
   "pygments_lexer": "ipython3",
   "version": "3.8.5"
  }
 },
 "nbformat": 4,
 "nbformat_minor": 2
}
